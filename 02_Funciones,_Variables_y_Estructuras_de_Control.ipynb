{
 "cells": [
  {
   "cell_type": "markdown",
   "metadata": {},
   "source": [
    "# Sesión 1, segunda parte"
   ]
  },
  {
   "cell_type": "markdown",
   "metadata": {},
   "source": [
    "<img src=\"img/step 2.png\" width=900>"
   ]
  },
  {
   "cell_type": "markdown",
   "metadata": {
    "colab_type": "text",
    "id": "XiRqPEa_pl5S"
   },
   "source": [
    "# Funciones preprogramadas en Python (Built-in functions)"
   ]
  },
  {
   "cell_type": "markdown",
   "metadata": {
    "colab_type": "text",
    "id": "_759cOZXpl5S"
   },
   "source": [
    "Python contiene en total 68 funciones preprogramadas listas para ser utilizadas en cualquier tipo de código. El listado completo se presenta a continuación, las funciones marcadas en **rojo** son aquellas funciones que ya se trabajaron o que se utilizarán en el curso:"
   ]
  },
  {
   "cell_type": "markdown",
   "metadata": {
    "colab_type": "text",
    "id": "fh6x_iACpl5S"
   },
   "source": [
    "<H1 align=\"center\"> Built - in Fucntions </H1>\n",
    "<table>\n",
    "  <tr>\n",
    "    <td><p style=\"color:#FF0000  \";>abs()</td>\n",
    "    <td><p style=\"color:#17202A  \";>dict()</td>\n",
    "    <td><b><p style=\"color:#FF0000 \";>help()</p></b></td>\n",
    "    <td><p style=\"color:#FF0000  \";>min()</td>\n",
    "    <td><b><p style=\"color:#17202A\";>setattr()</p></b></td>\n",
    "  </tr>\n",
    "  <tr>\n",
    "    <td><p style=\"color:#17202A  \";>all()</td>\n",
    "    <td><b><p style=\"color:#FF0000\";>dir()</p></b></td>\n",
    "    <td><p style=\"color:#17202A  \";>hex()</td>\n",
    "    <td><p style=\"color:#17202A  \";>next()</td>\n",
    "    <td><b><p style=\"color:#FF0000\";>slice()</p></b></td>\n",
    "  </tr>\n",
    "  <tr>\n",
    "    <td><p style=\"color:#17202A  \";>any()</td>\n",
    "    <td><p style=\"color:#17202A  \";>divmon()</td>\n",
    "    <td><p style=\"color:#17202A  \";>id()</td>\n",
    "    <td><b><p style=\"color:#17202A\";>object()</p></b></td>\n",
    "    <td><b><p style=\"color:#FF0000\";>sorted()</p></b></td>\n",
    "  </tr>\n",
    "  <tr>\n",
    "    <td><p style=\"color:#17202A  \";>ascii()</td>\n",
    "    <td><p style=\"color:#FF0000  \";>enumerate()</td>\n",
    "    <td><b><p style=\"color:#FF0000\";>input()</p></b></td>\n",
    "    <td><p style=\"color:#17202A  \";>oct()</td>\n",
    "    <td>staticmethod()</td>\n",
    "  </tr>\n",
    "  <tr>\n",
    "    <td><p style=\"color:#17202A  \";>bin()</td>\n",
    "    <td><p style=\"color:#17202A  \";>eval()</td>\n",
    "    <td><b><p style=\"color:#FF0000\";>int()</p></b></td>\n",
    "    <td><p style=\"color:#17202A  \";>open()</td>\n",
    "    <td><b><p style=\"color:#FF0000\";>str()</p></b></td>\n",
    "  </tr>\n",
    "  <tr>\n",
    "    <td><b><p style=\"color:#FF0000\";>bool()</p></b></td>\n",
    "    <td><p style=\"color:#17202A  \";>exec()</td>\n",
    "    <td><b><p style=\"color:#FF0000\";>isinstance()</p></b></td>\n",
    "    <td><p style=\"color:#17202A  \";>ord()</td>\n",
    "    <td><b><p style=\"color:#FF0000\";>sum()</p></b></td>\n",
    "  </tr>\n",
    "  <tr>\n",
    "    <td><p style=\"color:#17202A  \";>bytearray()</td>\n",
    "    <td><p style=\"color:#FF0000  \";>filter()</td>\n",
    "    <td><b><p style=\"color:#FF0000\";>issubclass()</p></b></td>\n",
    "    <td><p style=\"color:#FF0000  \";>pow()</td>\n",
    "    <td><b><p style=\"color:#FF0000\";>super()</p></b></td>\n",
    "  </tr>\n",
    "  <tr>\n",
    "    <td><p style=\"color:#17202A  \";>bytes()</td>\n",
    "    <td><b><p style=\"color:#FF0000\";>float()</p></b></td>\n",
    "    <td><p style=\"color:#17202A  \";>iter()</td>\n",
    "    <td><b><p style=\"color:#FF0000\";>print()</p></b></td>\n",
    "    <td><p style=\"color:#FF0000  \";>tuple()</td>\n",
    "  </tr>\n",
    "  <tr>\n",
    "    <td><p style=\"color:#17202A  \";>callable()</td>\n",
    "    <td><p style=\"color:#17202A  \";>format()</td>\n",
    "    <td><b><p style=\"color:#FF0000\";>len()</p></b></td>\n",
    "    <td><p style=\"color:#17202A  \";>property()</td>\n",
    "    <td><b><p style=\"color:#FF0000\";>type()</p></b></td>\n",
    "  </tr>\n",
    "  <tr>\n",
    "    <td><p style=\"color:#17202A  \";>chr()</td>\n",
    "    <td><p style=\"color:#17202A  \";>frozenset()</td>\n",
    "    <td><p style=\"color:#FF0000  \";>list()</td>\n",
    "    <td><b><p style=\"color:#FF0000\";>range()</p></b></td>\n",
    "    <td><b><p style=\"color:#FF0000\";>vars()</p></b></td>\n",
    "  </tr>\n",
    "  <tr>\n",
    "    <td><p style=\"color:#17202A  \";>classmethod()</td>\n",
    "    <td><b><p style=\"color:#FF0000\";>getattr()</p></b></td>\n",
    "    <td><p style=\"color:#17202A  \";>locals()</td>\n",
    "    <td><p style=\"color:#17202A  \";>repr()</td>\n",
    "    <td><p style=\"color:#17202A  \";>zip()</td>\n",
    "  </tr>\n",
    "  <tr>\n",
    "    <td><p style=\"color:#17202A  \";>compile()</td>\n",
    "    <td><p style=\"color:#17202A  \";>globals()</td>\n",
    "    <td><p style=\"color:#FF0000  \";>map()</td>\n",
    "    <td><b><p style=\"color:#FF0000\";>reversed()</p></b></td>\n",
    "    <td><p style=\"color:#17202A  \";>__import__()</td>\n",
    "  </tr>\n",
    "  <tr>\n",
    "    <td><p style=\"color:#17202A  \";>complex()</td>\n",
    "    <td><b><p style=\"color:#FF0000\";>hasattr()</p></b></td>\n",
    "    <td><b><p style=\"color:#FF0000\";>max()</p></b></td>\n",
    "    <td><b><p style=\"color:#FF0000\";>round()</p></b></td>\n",
    "    <td></td>\n",
    "  </tr>\n",
    "  <tr>\n",
    "    <td><b><p style=\"color:#17202A\";>delattr()</p></b></td>\n",
    "    <td><p style=\"color:#17202A  \";>hash()</td>\n",
    "    <td><p style=\"color:#17202A  \";>memoryview()</td>\n",
    "    <td><b><p style=\"color:#FF0000\";>set()</p></b></td>\n",
    "    <td></td>\n",
    "  </tr>\n",
    "</table>"
   ]
  },
  {
   "cell_type": "code",
   "execution_count": null,
   "metadata": {},
   "outputs": [],
   "source": [
    "abs(-10)"
   ]
  },
  {
   "cell_type": "code",
   "execution_count": null,
   "metadata": {},
   "outputs": [],
   "source": [
    "min(9,7,5,3,1,2,4,6,8,0)"
   ]
  },
  {
   "cell_type": "code",
   "execution_count": null,
   "metadata": {},
   "outputs": [],
   "source": [
    "nombre=\"Edgar\"\n",
    "nombre[slice(0,2)]"
   ]
  },
  {
   "cell_type": "code",
   "execution_count": null,
   "metadata": {},
   "outputs": [],
   "source": [
    "num=bin(255)\n",
    "num"
   ]
  },
  {
   "cell_type": "code",
   "execution_count": null,
   "metadata": {},
   "outputs": [],
   "source": [
    "int(num,2)"
   ]
  },
  {
   "cell_type": "markdown",
   "metadata": {
    "colab_type": "text",
    "id": "-pP4bVDcfQiN"
   },
   "source": [
    "# Imprimir y lectura de datos en pantalla"
   ]
  },
  {
   "cell_type": "markdown",
   "metadata": {
    "colab_type": "text",
    "id": "aqyoKgwOfQiO"
   },
   "source": [
    "En python 3, no es necesario declarar el tipo de variable. Para poder realizar una solicitud al usuario para introducir un dato al programa, solamente es necesario utilizar el método **input()**:"
   ]
  },
  {
   "cell_type": "markdown",
   "metadata": {
    "colab_type": "text",
    "id": "Q1XpIfrffQiW"
   },
   "source": [
    "El método **input()** maneja todas las variables como si fueran strings. Esto es similar a lo que ocurre en C#. Es por ello que para poder recibir como entrada un valor numérico, es necesario utilizar ademas el método **int()** o **float()**:"
   ]
  },
  {
   "cell_type": "markdown",
   "metadata": {},
   "source": [
    "El método **type()** sirve para dos cosas: Si sólo tiene una entrada, te dirá que tipo de variable es. Pero también puedes crear otros tipos de variables introduciendo 3 entradas (name, bases, dict) "
   ]
  },
  {
   "cell_type": "markdown",
   "metadata": {},
   "source": [
    "**bool()**\n",
    "\n",
    "Los tipos de datos booleanos pueden tomar dos valores: Verdadero (True) o Falso (False). Se pueden declarar variables con un valor de tipo booleano y también evaluar expresiones para obtener un valor tipo booleano."
   ]
  },
  {
   "cell_type": "code",
   "execution_count": null,
   "metadata": {
    "colab": {},
    "colab_type": "code",
    "id": "Vg21oeEufQiO",
    "outputId": "1cb07819-72f6-4646-b9ec-2b6b9696ca21"
   },
   "outputs": [],
   "source": [
    "estatura=input(\"Dame tu altura en metros: \")"
   ]
  },
  {
   "cell_type": "code",
   "execution_count": null,
   "metadata": {},
   "outputs": [],
   "source": [
    "type(estatura)"
   ]
  },
  {
   "cell_type": "code",
   "execution_count": null,
   "metadata": {},
   "outputs": [],
   "source": [
    "estatura=float(estatura)"
   ]
  },
  {
   "cell_type": "code",
   "execution_count": null,
   "metadata": {},
   "outputs": [],
   "source": [
    "type(estatura)"
   ]
  },
  {
   "cell_type": "markdown",
   "metadata": {
    "colab_type": "text",
    "id": "hBaEKoMWfQib"
   },
   "source": [
    "En Python, el método para poder hacer impresiones en pantalla es **print()**"
   ]
  },
  {
   "cell_type": "code",
   "execution_count": null,
   "metadata": {
    "colab": {},
    "colab_type": "code",
    "id": "pETu7ut6fQic",
    "outputId": "123aac6b-acc8-435f-9b8d-423bbe79fe92"
   },
   "outputs": [],
   "source": [
    "print(estatura)"
   ]
  },
  {
   "cell_type": "markdown",
   "metadata": {},
   "source": [
    "### Caracter de escape: $\\.$"
   ]
  },
  {
   "cell_type": "code",
   "execution_count": null,
   "metadata": {},
   "outputs": [],
   "source": [
    "print(\"Edgar Avalos Gauna\")"
   ]
  },
  {
   "cell_type": "code",
   "execution_count": null,
   "metadata": {},
   "outputs": [],
   "source": [
    "print(\"Edgar \\nAvalos \\nGauna\")"
   ]
  },
  {
   "cell_type": "code",
   "execution_count": null,
   "metadata": {},
   "outputs": [],
   "source": [
    "print(\"Edgar \\tAvalos \\tGauna\")"
   ]
  },
  {
   "cell_type": "code",
   "execution_count": null,
   "metadata": {
    "scrolled": true
   },
   "outputs": [],
   "source": [
    "print(\"...\\nombres\\alumnos\")"
   ]
  },
  {
   "cell_type": "code",
   "execution_count": null,
   "metadata": {},
   "outputs": [],
   "source": [
    "print(r\"...\\nombres\\alumnos\")"
   ]
  },
  {
   "cell_type": "markdown",
   "metadata": {},
   "source": [
    "### Actividad\n",
    "\n",
    "Utilizando tu nombre, escribelo en pantalla con el siguiente formato:"
   ]
  },
  {
   "cell_type": "markdown",
   "metadata": {},
   "source": [
    "<img src=\"img/nombre.jpg\" width=400>"
   ]
  },
  {
   "cell_type": "code",
   "execution_count": null,
   "metadata": {},
   "outputs": [],
   "source": [
    "# Solución\n",
    "\n",
    "print(\"E\\n\\tD\\n\\t\\tG\\n\\t\\t\\tA\\n\\t\\t\\t\\tR\")"
   ]
  },
  {
   "cell_type": "code",
   "execution_count": null,
   "metadata": {},
   "outputs": [],
   "source": [
    "# Modificando el comportamiento de print\n",
    "\n",
    "print(\"Edgar\")\n",
    "print(\"Avalos\")\n",
    "print(\"Gauna.\")\n",
    "\n",
    "print()\n",
    "\n",
    "print(\"Edgar\", end=\"\\t\")\n",
    "print(\"Avalos\", end=\"\\t\")\n",
    "print(\"Gauna.\")"
   ]
  },
  {
   "cell_type": "code",
   "execution_count": null,
   "metadata": {
    "colab": {},
    "colab_type": "code",
    "id": "tuplZcXyfQif"
   },
   "outputs": [],
   "source": [
    "a=3\n",
    "b=\" Hola\""
   ]
  },
  {
   "cell_type": "code",
   "execution_count": null,
   "metadata": {
    "colab": {},
    "colab_type": "code",
    "id": "8XtakUQDfQih",
    "outputId": "f522ac86-e591-4bdb-9f90-fa762a32c1c8"
   },
   "outputs": [],
   "source": [
    "# Usando print en combinación con otras funciones\n",
    "\n",
    "print(str(a)+ b)"
   ]
  },
  {
   "cell_type": "code",
   "execution_count": null,
   "metadata": {
    "colab": {},
    "colab_type": "code",
    "id": "UnXO7DjcfQii",
    "outputId": "85513491-780d-412d-85c0-e7d7f2cf54df"
   },
   "outputs": [],
   "source": [
    "x=True\n",
    "type(x)"
   ]
  },
  {
   "cell_type": "code",
   "execution_count": null,
   "metadata": {},
   "outputs": [],
   "source": [
    "print(str(x) + \" , \" + str(type(x)))"
   ]
  },
  {
   "cell_type": "code",
   "execution_count": null,
   "metadata": {},
   "outputs": [],
   "source": [
    "print(x, type(x))"
   ]
  },
  {
   "cell_type": "code",
   "execution_count": null,
   "metadata": {},
   "outputs": [],
   "source": [
    "#Usando print para preguntar operaciones lógicas a python\n",
    "\n",
    "x=4\n",
    "print(x < 3)"
   ]
  },
  {
   "cell_type": "code",
   "execution_count": null,
   "metadata": {},
   "outputs": [],
   "source": [
    "texto1=\"Hola\"\n",
    "texto2=\"hola\"\n",
    "texto3='Hola'\n",
    "texto4='''Hola'''"
   ]
  },
  {
   "cell_type": "code",
   "execution_count": null,
   "metadata": {},
   "outputs": [],
   "source": [
    "print(texto1 == texto2)"
   ]
  },
  {
   "cell_type": "code",
   "execution_count": null,
   "metadata": {},
   "outputs": [],
   "source": [
    "print(texto1 == texto3)"
   ]
  },
  {
   "cell_type": "code",
   "execution_count": null,
   "metadata": {},
   "outputs": [],
   "source": [
    "print(texto1 == texto4)"
   ]
  },
  {
   "cell_type": "code",
   "execution_count": null,
   "metadata": {},
   "outputs": [],
   "source": [
    "print(texto1 == texto2.title())"
   ]
  },
  {
   "cell_type": "markdown",
   "metadata": {
    "colab_type": "text",
    "id": "7SogYyQ2fQil"
   },
   "source": [
    "### Actividad\n",
    "Realiza un programa que pida un nombre y los elementos de la dirección (calle, número, colonia, ciudad, estado, código postal y país) de manera individual para después escribirlos con formato de etiqueta de correspondencia:\n",
    "\n",
    "        <Nombre>\n",
    "                Calle     <calle>     # <numero>\n",
    "                Colonia   <colonia>\n",
    "                <Ciudad>, <estado>\n",
    "                CP        <código postal>\n",
    "\n",
    "Nota: en Python, al igual que en C#, **\"\\n\"** y **\"\\t\"** se pueden ocupar para dar saltos de línea y tabulaciones en impresiones de pantalla."
   ]
  },
  {
   "cell_type": "code",
   "execution_count": null,
   "metadata": {
    "colab": {},
    "colab_type": "code",
    "id": "VrKaOUhcfQim",
    "outputId": "cb8bbb8d-dfff-4fac-bd87-146e764a3dd4"
   },
   "outputs": [],
   "source": [
    "#Solicitud de los datos\n",
    "\n",
    "print(\"Indica tu nombre completo\")\n",
    "nombre=input()\n",
    "print(\"Indica la calle donde vives\")\n",
    "calle=input()\n",
    "print(\"Indica el número de tu casa\")\n",
    "numero=input()\n",
    "print(\"Indica la colonia donde vives\")\n",
    "colonia=input()\n",
    "print(\"Indica la ciudad donde vives\")\n",
    "ciudad=input()\n",
    "print(\"Indica el estado donde vives\")\n",
    "estado=input()\n",
    "print(\"Indica el código postal donde vives\")\n",
    "cp=input()"
   ]
  },
  {
   "cell_type": "code",
   "execution_count": null,
   "metadata": {
    "colab": {},
    "colab_type": "code",
    "id": "s3j-mJMqfQiq",
    "outputId": "31ccf53b-3695-4372-de8b-836fc826bebc"
   },
   "outputs": [],
   "source": [
    "#Impresión en pantalla de los datos\n",
    "\n",
    "print(nombre)\n",
    "print()\n",
    "print(\"\\t\" + calle + \" #\" + numero)\n",
    "print(\"\\tColonia: \" + colonia)\n",
    "print(\"\\t\" + ciudad + \", \" + estado)\n",
    "print(\"\\tCP: \" + cp)"
   ]
  },
  {
   "cell_type": "markdown",
   "metadata": {},
   "source": [
    "### Usando {}.format()"
   ]
  },
  {
   "cell_type": "markdown",
   "metadata": {},
   "source": [
    "<img src=\"img/str.jpg\" width=500>"
   ]
  },
  {
   "cell_type": "code",
   "execution_count": null,
   "metadata": {},
   "outputs": [],
   "source": [
    "texto1=\"Hola\"\n",
    "texto2=\"Mundo\"\n",
    "print(\"{} {}!\".format(texto1,texto2))"
   ]
  },
  {
   "cell_type": "code",
   "execution_count": null,
   "metadata": {},
   "outputs": [],
   "source": [
    "firstName =  'James'\n",
    "lastName = 'Bond'\n",
    "print ('The name is {1}...{0} {1}'.format(firstName,lastName))"
   ]
  },
  {
   "cell_type": "code",
   "execution_count": null,
   "metadata": {
    "scrolled": false
   },
   "outputs": [],
   "source": [
    "print(\"{0}\\n\\n\\tCalle: {1} #{2}\\n\\tColonia: {3}\\n\\tCiudad: {4}, {5}\\n\\tCP: {6}\".format(nombre, calle, numero, colonia, ciudad, estado, cp))"
   ]
  },
  {
   "cell_type": "markdown",
   "metadata": {},
   "source": [
    "**Sintaxis corta de { }.format( )**"
   ]
  },
  {
   "cell_type": "markdown",
   "metadata": {},
   "source": [
    "<img src=\"img/fstr.jpg\" width=500>"
   ]
  },
  {
   "cell_type": "code",
   "execution_count": null,
   "metadata": {},
   "outputs": [],
   "source": [
    "print(f\"{nombre}\\n\\n\\tCalle: {calle} #{numero}\\n\\tColonia: {colonia}\\n\\tCiudad: {ciudad}, {estado}\\n\\tCP: {cp}\")"
   ]
  },
  {
   "cell_type": "code",
   "execution_count": null,
   "metadata": {},
   "outputs": [],
   "source": [
    "print(f\"El codigo postal de {nombre} es {cp}\")"
   ]
  },
  {
   "cell_type": "markdown",
   "metadata": {},
   "source": [
    "**Sintaxis con números usando f{numero:formato}**"
   ]
  },
  {
   "cell_type": "code",
   "execution_count": null,
   "metadata": {},
   "outputs": [],
   "source": [
    "x=2/3\n",
    "print(x)"
   ]
  },
  {
   "cell_type": "code",
   "execution_count": null,
   "metadata": {},
   "outputs": [],
   "source": [
    "print(f\"{x}\")"
   ]
  },
  {
   "cell_type": "code",
   "execution_count": null,
   "metadata": {},
   "outputs": [],
   "source": [
    "# Determinando el número de decimales\n",
    "print(f\"{x:.2f}\")"
   ]
  },
  {
   "cell_type": "code",
   "execution_count": null,
   "metadata": {},
   "outputs": [],
   "source": [
    "# Conviritiendo a porcentaje\n",
    "print(f\"{x:.2%}\")"
   ]
  },
  {
   "cell_type": "code",
   "execution_count": null,
   "metadata": {},
   "outputs": [],
   "source": [
    "x=2**20\n",
    "y=2**14\n",
    "\n",
    "print(f\"Excel tiene {x:,} filas contra {y:,} columnas\")\n",
    "\n",
    "print(f\"Excel tiene {2**20:,} filas contra {2**14:,} columnas\")"
   ]
  },
  {
   "cell_type": "markdown",
   "metadata": {},
   "source": [
    "## help()    y   dir()"
   ]
  },
  {
   "cell_type": "markdown",
   "metadata": {},
   "source": [
    "El método **help()** es una ayuda, como su nombre lo dice. Le puedes pedir ayuda de todo, desde para saber como usar un método hasta saber la información de una variable. "
   ]
  },
  {
   "cell_type": "code",
   "execution_count": null,
   "metadata": {},
   "outputs": [],
   "source": [
    "help(estatura)"
   ]
  },
  {
   "cell_type": "code",
   "execution_count": null,
   "metadata": {},
   "outputs": [],
   "source": [
    "help(print)"
   ]
  },
  {
   "cell_type": "code",
   "execution_count": null,
   "metadata": {},
   "outputs": [],
   "source": [
    "help(int)"
   ]
  },
  {
   "cell_type": "markdown",
   "metadata": {},
   "source": [
    "**dir()** funciona como un directorio. Te dice que métodos tiene el objeto que le pongas como argumento. Hay dos tipos de métodos: los especiales, que llevan doble guión bajo (por ejemplo _abs_) y los particulares de cada argumento (por ejemplo, en el caso de una lista, append).  "
   ]
  },
  {
   "cell_type": "code",
   "execution_count": null,
   "metadata": {
    "scrolled": true
   },
   "outputs": [],
   "source": [
    "print(dir(int))"
   ]
  },
  {
   "cell_type": "code",
   "execution_count": null,
   "metadata": {},
   "outputs": [],
   "source": [
    "lista=[]"
   ]
  },
  {
   "cell_type": "code",
   "execution_count": null,
   "metadata": {},
   "outputs": [],
   "source": [
    "tupla=()"
   ]
  },
  {
   "cell_type": "code",
   "execution_count": null,
   "metadata": {},
   "outputs": [],
   "source": [
    "print(dir(lista))"
   ]
  },
  {
   "cell_type": "code",
   "execution_count": null,
   "metadata": {},
   "outputs": [],
   "source": [
    "print(dir (tupla))"
   ]
  },
  {
   "cell_type": "markdown",
   "metadata": {
    "colab_type": "text",
    "id": "MWFM0guXfQkK"
   },
   "source": [
    "# Funciones personalizadas en Python"
   ]
  },
  {
   "cell_type": "markdown",
   "metadata": {
    "colab_type": "text",
    "id": "bFWkcI9UfQkL"
   },
   "source": [
    "Una función (método), es un elemento que nos va a servir en Python para poder realizar acciones, o tareas específicas. Una función puede ser invocada en cualquier parte del código."
   ]
  },
  {
   "cell_type": "code",
   "execution_count": null,
   "metadata": {
    "colab": {},
    "colab_type": "code",
    "id": "LcTJp58uMcs9",
    "outputId": "8cc8424c-0043-443b-e2fe-f17752a0811f"
   },
   "outputs": [],
   "source": [
    "def saludo():\n",
    "    print(\"Esta es mi función para saludar\")\n",
    "saludo()"
   ]
  },
  {
   "cell_type": "code",
   "execution_count": null,
   "metadata": {},
   "outputs": [],
   "source": [
    "def saludo_personalizado(nombre):\n",
    "    saludo()\n",
    "    print(\"Hola\", nombre)\n",
    "saludo_personalizado(\"Edgar\")"
   ]
  },
  {
   "cell_type": "code",
   "execution_count": null,
   "metadata": {
    "colab": {},
    "colab_type": "code",
    "id": "Lg8DkU1vMcs4",
    "outputId": "403c3b6e-877b-4593-9020-334d2b4f5b4d"
   },
   "outputs": [],
   "source": [
    "def suma_3(a,b,c):\n",
    "    return a+b+c\n",
    "suma(5,6)"
   ]
  },
  {
   "cell_type": "code",
   "execution_count": null,
   "metadata": {
    "colab": {},
    "colab_type": "code",
    "id": "aIyAsgyqMcs6",
    "outputId": "50b2f31e-9c3a-42dc-de7d-b8b7aa3398d3",
    "scrolled": true
   },
   "outputs": [],
   "source": [
    "def area_circulo(radio):\n",
    "    return 3.14159*radio*radio\n",
    "\n",
    "area_circulo(3)"
   ]
  },
  {
   "cell_type": "code",
   "execution_count": null,
   "metadata": {
    "colab": {},
    "colab_type": "code",
    "id": "MuUh7-ULMcs7",
    "outputId": "96557094-ae64-4cd9-ec09-001b88dfa3c0"
   },
   "outputs": [],
   "source": [
    " def area_circulo(radio):\n",
    "    import math\n",
    "    return math.pi*radio*radio\n",
    "\n",
    "area_circulo(3)"
   ]
  },
  {
   "cell_type": "code",
   "execution_count": null,
   "metadata": {
    "colab": {},
    "colab_type": "code",
    "id": "W1OyY_yfMcs8",
    "outputId": "b6d36937-c358-4af6-ced0-e820c70a6e08"
   },
   "outputs": [],
   "source": [
    "# En caso de que la función utilice un número desconocido de argumentos, utilizamos un *\n",
    "def perimetro_poligono_irregular(*lados):\n",
    "    return sum(lados)\n",
    "perimetro_poligono(3,4,5)"
   ]
  },
  {
   "cell_type": "code",
   "execution_count": null,
   "metadata": {
    "colab": {},
    "colab_type": "code",
    "id": "PhPkvoKRMcs9",
    "outputId": "d1db33a8-7e7e-4a3a-9ee7-b1dbcbdbb8f5"
   },
   "outputs": [],
   "source": [
    "# Un parametro inicializado será utilizado únicamente cuando no se le asigne valor al momento de llamar la función:\n",
    "def pais(country = \"Mexico\"):\n",
    "    print(\"Yo soy de \" + country)\n",
    "        \n",
    "pais(\"Paraguay\")\n",
    "pais(\"UK\")\n",
    "pais()"
   ]
  },
  {
   "cell_type": "markdown",
   "metadata": {
    "colab_type": "text",
    "id": "0_ErE_j0Mcs_"
   },
   "source": [
    "------------------------------------------------------------------------------------------------------------------------\n",
    "\n",
    "Los parametros inicializados son útiles para crear funciones con varios parametros, en donde dependiendo los parametros activos, la función realizará alguna u otra acción. Esto se logra al inicializarlos con el valor **None**\n",
    "\n",
    "------------------------------------------------------------------------------------------------------------------------"
   ]
  },
  {
   "cell_type": "code",
   "execution_count": null,
   "metadata": {
    "colab": {},
    "colab_type": "code",
    "id": "2o5hhlh1Mcs_"
   },
   "outputs": [],
   "source": [
    "def area_poligono_regular(circulo=False, radio=None, lados=None, long_lado=None):\n",
    "    import math\n",
    "    if circulo==True:\n",
    "        return area_circulo(radio)\n",
    "    else:\n",
    "        if lados<=2:\n",
    "            print(\"El número de lados no corresponde a un poligono\")\n",
    "        else:\n",
    "            perimetro=lados*long_lado\n",
    "            angulo=360/(2*lados)\n",
    "            apotema=long_lado/(2*math.tan(math.radians(angulo)))\n",
    "            area=(perimetro*apotema/2)\n",
    "            print(round(area,2))"
   ]
  },
  {
   "cell_type": "code",
   "execution_count": null,
   "metadata": {
    "colab": {},
    "colab_type": "code",
    "id": "mlDeuNWiMctA",
    "outputId": "bb4bc982-45b4-44ce-b783-c9ed81506b0d"
   },
   "outputs": [],
   "source": [
    "area_poligono_regular(circulo=True, radio=5)"
   ]
  },
  {
   "cell_type": "code",
   "execution_count": null,
   "metadata": {
    "colab": {},
    "colab_type": "code",
    "id": "8nB01xglMctB",
    "outputId": "2ab5db51-10be-4bbe-80fc-5179e0f278e0"
   },
   "outputs": [],
   "source": [
    "area_poligono_regular(lados=4, long_lado=5)"
   ]
  },
  {
   "cell_type": "markdown",
   "metadata": {
    "colab_type": "text",
    "id": "2qDNmTA-kjYE"
   },
   "source": [
    "# Tipos de estructuras de datos en Python"
   ]
  },
  {
   "cell_type": "markdown",
   "metadata": {
    "colab_type": "text",
    "id": "-yifTRsKkjYF"
   },
   "source": [
    "Existen diferentes tipos de arreglos en Python, los 3 mas usuales son los siguientes:\n",
    "\n",
    "- **Listas [ ]**, colección ordenada y modificable de elementos.\n",
    "- **Tuplas ( )**, colección ordenada e inmutable de elementos. \n",
    "- **Diccionarios { }**, colección sin ordenar, modificable e indexada de elementos."
   ]
  },
  {
   "cell_type": "code",
   "execution_count": null,
   "metadata": {
    "colab": {
     "base_uri": "https://localhost:8080/",
     "height": 34
    },
    "colab_type": "code",
    "executionInfo": {
     "elapsed": 519,
     "status": "ok",
     "timestamp": 1569265151656,
     "user": {
      "displayName": "Edgar Avalos Gauna",
      "photoUrl": "https://lh3.googleusercontent.com/a-/AAuE7mBlAgNUstu0sLee83F6yPWlOeuhkSOIQBP1BMW9=s64",
      "userId": "15081544959551912541"
     },
     "user_tz": 300
    },
    "id": "2SNe66-IkjYG",
    "outputId": "6cd1cbf4-7a96-4849-fade-01a528ca657b"
   },
   "outputs": [],
   "source": [
    "lista=[\"platano\", \"manzana\", \"pera\"]\n",
    "lista"
   ]
  },
  {
   "cell_type": "code",
   "execution_count": null,
   "metadata": {
    "colab": {},
    "colab_type": "code",
    "id": "QqT5mJpZsHpA",
    "outputId": "9b0a8de3-6106-4877-e830-a7813390fe21"
   },
   "outputs": [],
   "source": [
    "print(lista)"
   ]
  },
  {
   "cell_type": "code",
   "execution_count": null,
   "metadata": {
    "colab": {},
    "colab_type": "code",
    "id": "e1EtFK1cfQiw",
    "outputId": "c640c718-da1a-4f06-b0b8-072846a937b7"
   },
   "outputs": [],
   "source": [
    "# Con el método len es posible conocer el número de elementos dentro de un arreglo\n",
    "len(lista)"
   ]
  },
  {
   "cell_type": "code",
   "execution_count": null,
   "metadata": {
    "colab": {},
    "colab_type": "code",
    "id": "siZ3wbf4fQiy"
   },
   "outputs": [],
   "source": [
    "adjetivos=[\"Rico\", \"Dulce\", \"Colorido\"]"
   ]
  },
  {
   "cell_type": "markdown",
   "metadata": {
    "colab_type": "text",
    "id": "Q1ptHTcIkjYI"
   },
   "source": [
    "Para **acceder** a  los elementos de una lista, se debe de indicar el índice del elemento dentro de la lista."
   ]
  },
  {
   "cell_type": "code",
   "execution_count": null,
   "metadata": {
    "colab": {},
    "colab_type": "code",
    "id": "8AN_qp6okjYI",
    "outputId": "a56087a1-0e2f-43db-f0c5-7c426c9d354b"
   },
   "outputs": [],
   "source": [
    "lista[2]"
   ]
  },
  {
   "cell_type": "markdown",
   "metadata": {
    "colab_type": "text",
    "id": "dQlnZjTGkjYK"
   },
   "source": [
    "Para **modificar** un elemento de una lista se hace refiriendose al elemento en esa posición:"
   ]
  },
  {
   "cell_type": "code",
   "execution_count": null,
   "metadata": {
    "colab": {},
    "colab_type": "code",
    "id": "oPsGhy8fkjYK",
    "outputId": "8987cd3e-1e46-4580-8873-4f738ed1b352"
   },
   "outputs": [],
   "source": [
    "lista[2]=\"melón\"\n",
    "print(lista)"
   ]
  },
  {
   "cell_type": "code",
   "execution_count": null,
   "metadata": {
    "colab": {},
    "colab_type": "code",
    "id": "ozTOObSpfQi3",
    "outputId": "7d5f14c6-723d-4bc7-ad0b-53706fbd6944"
   },
   "outputs": [],
   "source": [
    "tupla=(\"Frutas\",\"Verduras\")\n",
    "tupla[0]"
   ]
  },
  {
   "cell_type": "code",
   "execution_count": null,
   "metadata": {
    "colab": {},
    "colab_type": "code",
    "id": "5vnEVZA5fQi4",
    "outputId": "70269ee0-f65b-4bae-ddd2-400dfc3e8122"
   },
   "outputs": [],
   "source": [
    "len(tupla)"
   ]
  },
  {
   "cell_type": "markdown",
   "metadata": {
    "colab_type": "text",
    "id": "VKGHQo6FkjYh"
   },
   "source": [
    "### Agregar elementos a una lista\n",
    "\n",
    "Para poder agregar un elemento al final de una lista, se utiliza el método **append()**:"
   ]
  },
  {
   "cell_type": "code",
   "execution_count": null,
   "metadata": {
    "colab": {},
    "colab_type": "code",
    "id": "A6fe7jjdkjYh",
    "outputId": "51e8ef60-37de-412f-cae5-35018ca30408"
   },
   "outputs": [],
   "source": [
    "frutas = [\"limón\", \"platano\", \"mango\"]\n",
    "frutas.append(\"pomelo\")\n",
    "print(frutas)"
   ]
  },
  {
   "cell_type": "markdown",
   "metadata": {
    "colab_type": "text",
    "id": "PCtPkZzXkjYj"
   },
   "source": [
    "Para agregar un elemento a una lista en una posición específica, se utiliza el método **insert()**"
   ]
  },
  {
   "cell_type": "code",
   "execution_count": null,
   "metadata": {
    "colab": {},
    "colab_type": "code",
    "id": "WWj0MHXfkjYk",
    "outputId": "950541b7-2792-4e28-bb74-54cd40a3b272"
   },
   "outputs": [],
   "source": [
    "frutas.insert(1,\"naranja\") #El primer elemento corresponde a la posición (indexada) y el segundo el elemento a agregar.\n",
    "print(frutas)"
   ]
  },
  {
   "cell_type": "code",
   "execution_count": null,
   "metadata": {
    "colab": {},
    "colab_type": "code",
    "id": "vQIYIMOUfQi-"
   },
   "outputs": [],
   "source": [
    "#tupla.append(\"Tubérculos\")"
   ]
  },
  {
   "cell_type": "markdown",
   "metadata": {
    "colab_type": "text",
    "id": "Is9t8txQkjYo"
   },
   "source": [
    "### Remover elementos a una lista\n",
    "Para remover un elemento específico de una lista, se utiliza el método **remove()**"
   ]
  },
  {
   "cell_type": "code",
   "execution_count": null,
   "metadata": {
    "colab": {},
    "colab_type": "code",
    "id": "_3F80Iv2kjYp",
    "outputId": "eb6225eb-34e3-46ad-8a16-a80d43db0526"
   },
   "outputs": [],
   "source": [
    "frutas.remove(\"mango\")\n",
    "frutas"
   ]
  },
  {
   "cell_type": "markdown",
   "metadata": {
    "colab_type": "text",
    "id": "0exhBeyskjYr"
   },
   "source": [
    "Otra manera de quitar un elemento a partir de su posición indexada es mendiante el método **pop()** o **del()**"
   ]
  },
  {
   "cell_type": "code",
   "execution_count": null,
   "metadata": {
    "colab": {},
    "colab_type": "code",
    "id": "1PXwoZNYkjYs",
    "outputId": "9609599a-9c2d-4389-f762-e80995b74fe8"
   },
   "outputs": [],
   "source": [
    "frutas.pop(1)\n",
    "frutas"
   ]
  },
  {
   "cell_type": "markdown",
   "metadata": {
    "colab_type": "text",
    "id": "HG0aWypCkjYt"
   },
   "source": [
    "Si el método **pop()** se utiliza si un index, se eliminará el último elemento de la lista:"
   ]
  },
  {
   "cell_type": "code",
   "execution_count": null,
   "metadata": {
    "colab": {},
    "colab_type": "code",
    "id": "EHdSLrpNkjYu",
    "outputId": "b93010b9-f6e9-4478-c4fa-59ac2c297449"
   },
   "outputs": [],
   "source": [
    "frutas.pop()\n",
    "frutas"
   ]
  },
  {
   "cell_type": "markdown",
   "metadata": {
    "colab_type": "text",
    "id": "Hs31al7mkjYv"
   },
   "source": [
    "Para vaciar una lista, podemos usar el método **clear()**"
   ]
  },
  {
   "cell_type": "code",
   "execution_count": null,
   "metadata": {
    "colab": {},
    "colab_type": "code",
    "id": "iHOGlDOwkjYw",
    "outputId": "4a0d6cef-fa7a-4002-8e83-43508207f793"
   },
   "outputs": [],
   "source": [
    "frutas.clear()\n",
    "frutas"
   ]
  },
  {
   "cell_type": "code",
   "execution_count": null,
   "metadata": {
    "colab": {},
    "colab_type": "code",
    "id": "6tqb4BP9fQjH"
   },
   "outputs": [],
   "source": [
    "#tupla.pop()"
   ]
  },
  {
   "cell_type": "code",
   "execution_count": null,
   "metadata": {
    "colab": {},
    "colab_type": "code",
    "id": "mwuGh3_SfQjK",
    "outputId": "e3921602-8b5c-4bc0-ceec-526bd2ca68fb"
   },
   "outputs": [],
   "source": [
    "adjetivos"
   ]
  },
  {
   "cell_type": "code",
   "execution_count": null,
   "metadata": {
    "colab": {},
    "colab_type": "code",
    "id": "S0t5cFOGfQjL",
    "outputId": "be5469f6-da77-4093-af97-2ccccd451599"
   },
   "outputs": [],
   "source": [
    "# Para acceder a la ayuda de los métodos, es necesario precionar shift+tab\n",
    "\n",
    "adjetivos.count(\"Rico\")"
   ]
  },
  {
   "cell_type": "code",
   "execution_count": null,
   "metadata": {
    "colab": {},
    "colab_type": "code",
    "id": "GX2uZwzKfQjQ",
    "outputId": "8e79fe10-d4a0-41d5-e395-71ffb5f3410d"
   },
   "outputs": [],
   "source": [
    "adjetivos.append(\"Rico\")\n",
    "adjetivos.count(\"Rico\")"
   ]
  },
  {
   "cell_type": "code",
   "execution_count": null,
   "metadata": {
    "colab": {},
    "colab_type": "code",
    "id": "ydZcrcGwfQjR",
    "outputId": "a389dc01-ed8a-45b6-b52b-6a04a8bad01b"
   },
   "outputs": [],
   "source": [
    "adjetivos.sort()\n",
    "adjetivos"
   ]
  },
  {
   "cell_type": "code",
   "execution_count": null,
   "metadata": {
    "colab": {},
    "colab_type": "code",
    "id": "oKDa29lKfQjS",
    "outputId": "2c60069a-5729-4ba0-e9b5-ac5b92efc011"
   },
   "outputs": [],
   "source": [
    "adjetivos.reverse()\n",
    "adjetivos"
   ]
  },
  {
   "cell_type": "code",
   "execution_count": null,
   "metadata": {
    "colab": {},
    "colab_type": "code",
    "id": "hVKi0XbXfQjT"
   },
   "outputs": [],
   "source": [
    "#los métodos ya incorporados a las tuplas son menos ya que estas son inmutables una vez creadas.\n"
   ]
  },
  {
   "cell_type": "markdown",
   "metadata": {
    "colab_type": "text",
    "id": "uAgbOACrkjY0"
   },
   "source": [
    "# Python Dictionaries"
   ]
  },
  {
   "cell_type": "markdown",
   "metadata": {
    "colab_type": "text",
    "id": "BJ2a8UW1kjY0"
   },
   "source": [
    "Los **diccionarios** en Python son un arreglo de datos que permite manejar pares clave-valor. Las clave deben de ser **únicas** dentro de un mismo diccionario (es decir que no pueden existir dos elementos con una misma clave)"
   ]
  },
  {
   "cell_type": "code",
   "execution_count": null,
   "metadata": {
    "colab": {},
    "colab_type": "code",
    "id": "lT1xNDzSkjY0"
   },
   "outputs": [],
   "source": [
    "dict ={  \"Nombre\": \"Edgar\",  \"Edad\": 32,  \n",
    "         \"Materias\": [\"POO\", \"Algoritmos\", \"Dinámica de robots\"]}\n",
    "\n",
    "print(dict)"
   ]
  },
  {
   "cell_type": "markdown",
   "metadata": {
    "colab_type": "text",
    "id": "PV1zAOFxkjY2"
   },
   "source": [
    "Para acceder a un elemento dentro de un diccionario, es necesario utilizar su nombre **clave**:"
   ]
  },
  {
   "cell_type": "code",
   "execution_count": null,
   "metadata": {
    "colab": {},
    "colab_type": "code",
    "id": "A6q65PyZAZGw"
   },
   "outputs": [],
   "source": [
    "dict.keys()"
   ]
  },
  {
   "cell_type": "code",
   "execution_count": null,
   "metadata": {
    "colab": {},
    "colab_type": "code",
    "id": "VOFSjZhjkjY3"
   },
   "outputs": [],
   "source": [
    "dict[\"Materias\"]"
   ]
  },
  {
   "cell_type": "markdown",
   "metadata": {
    "colab_type": "text",
    "id": "zGvs5XhgkjY5"
   },
   "source": [
    "Al igual que las listas, tambien se pueden cambiar elementos dentro de un diccionario. Para ello simplemente hay que referirse a su **clave**:"
   ]
  },
  {
   "cell_type": "code",
   "execution_count": null,
   "metadata": {
    "colab": {},
    "colab_type": "code",
    "id": "oVMuF2jxkjY6"
   },
   "outputs": [],
   "source": [
    "dict[\"Edad\"]=23\n",
    "dict"
   ]
  },
  {
   "cell_type": "code",
   "execution_count": null,
   "metadata": {
    "colab": {},
    "colab_type": "code",
    "id": "5GzHfxPpBTnv"
   },
   "outputs": [],
   "source": [
    "# Con el método len, es posible conocer el número de llaves que contiene un diccionario.\n",
    "len(dict)"
   ]
  },
  {
   "cell_type": "code",
   "execution_count": null,
   "metadata": {
    "colab": {},
    "colab_type": "code",
    "id": "KizKWW5kBbUx"
   },
   "outputs": [],
   "source": [
    "#Al acceder directamente a una de las llaves, el método len nos dará el número de elementos de dicha llave.\n",
    "len(dict[\"Materias\"])"
   ]
  },
  {
   "cell_type": "code",
   "execution_count": null,
   "metadata": {
    "colab": {},
    "colab_type": "code",
    "id": "FElU1xfcBu9K"
   },
   "outputs": [],
   "source": [
    "# Nuevamente usamos el método dir para conococer los métodos ya incorporados al diccionario.\n",
    "print(dir(dict))"
   ]
  },
  {
   "cell_type": "markdown",
   "metadata": {
    "colab_type": "text",
    "id": "5qIbRU2TfQje"
   },
   "source": [
    "### Actividad\n",
    "* Crea 3 ejemplos de estructuras de datos propios para tuplas.\n",
    "* Crea 1 lista de 5 elementos, sobre los programas que te gustan.\n",
    "* De la lista anterior, ordenala alfabéticamente, y posteriormente elimina el último elemento de la lista.\n",
    "* Agrega un nuevo programa a la lista y ordenala de forma inversa (No de la Z a la A).\n",
    "* Crea un diccionario en el que:\n",
    "            ** La primer llave se llame tuplas, y dicha llave contenga las tuplas creadas en el presente ejercicio.\n",
    "            ** La segunda llave se llame listas y ahí se almacene la lista de programas.\n",
    "            ** La tercera llave se llame libre, y ahi asignaras 5 elementos libres a escoger."
   ]
  },
  {
   "cell_type": "code",
   "execution_count": null,
   "metadata": {
    "colab": {},
    "colab_type": "code",
    "id": "LG19v5KxfQje"
   },
   "outputs": [],
   "source": [
    "sexo=(\"m\",\"f\")\n",
    "punto_cardinal=(\"E\", \"O\", \"N\", \"S\")\n",
    "colores_primarios=(\"azul\", \"rojo\", \"verde\")"
   ]
  },
  {
   "cell_type": "code",
   "execution_count": null,
   "metadata": {
    "colab": {},
    "colab_type": "code",
    "id": "bf3B_wb8fQjg"
   },
   "outputs": [],
   "source": [
    "programas=[\"GoT\", \"The Big Bang Theory\", \"Cosmos\", \"Friends\", \"Pimp my ride\"]"
   ]
  },
  {
   "cell_type": "code",
   "execution_count": null,
   "metadata": {
    "colab": {},
    "colab_type": "code",
    "id": "3cfCn87KfQjl",
    "outputId": "6986cfc8-c3ba-42c4-eec5-60abe8d9c405"
   },
   "outputs": [],
   "source": [
    "programas.sort()\n",
    "programas.pop()\n",
    "programas"
   ]
  },
  {
   "cell_type": "code",
   "execution_count": null,
   "metadata": {
    "colab": {},
    "colab_type": "code",
    "id": "_GMmgr9LfQjn",
    "outputId": "ffadb8ea-a495-4c5c-bec7-7d88734a463f"
   },
   "outputs": [],
   "source": [
    "programas.append(\"Avatar\")\n",
    "programas.reverse()\n",
    "programas"
   ]
  },
  {
   "cell_type": "code",
   "execution_count": null,
   "metadata": {
    "colab": {},
    "colab_type": "code",
    "id": "KvVH7NbyfQjo",
    "outputId": "590af6e5-fa81-4073-dcec-ca651055abc6"
   },
   "outputs": [],
   "source": [
    "diccionario={\"tuplas\":(sexo,punto_cardinal,colores_primarios), \n",
    "             \"listas\":programas, \"Libre\":[\"Hola\", \"este\", \"es\", \"un\", \"diccionario\"] }\n",
    "diccionario"
   ]
  },
  {
   "cell_type": "markdown",
   "metadata": {},
   "source": [
    "# Estructuras de Control"
   ]
  },
  {
   "cell_type": "markdown",
   "metadata": {},
   "source": [
    "## Operadores de comparación\n",
    "\n",
    "- < : Estrictamente menor que\n",
    "- <= : Menor o igual que\n",
    "- \\>\t: Estrictamente mayor que\n",
    "- \\>= :\tMayor o igual que\n",
    "- == : Igual a\n",
    "- != : Diferente a\n",
    "- is : Identidad del objeto\n",
    "- is not : Negación de la identidad del objeto"
   ]
  },
  {
   "cell_type": "markdown",
   "metadata": {},
   "source": [
    "##  If\n",
    "\n",
    "La sentencia if es quizás la más conocida. Esta sentencua se usa para ejecución condicional de código."
   ]
  },
  {
   "cell_type": "code",
   "execution_count": null,
   "metadata": {},
   "outputs": [],
   "source": [
    "a = int(input(\"Introduce un valor\"))\n",
    "if a < 0:\n",
    "    print (\"el número ingresado es negativo\")"
   ]
  },
  {
   "cell_type": "markdown",
   "metadata": {
    "colab_type": "text",
    "id": "AsTSFQ2uMcsK"
   },
   "source": [
    "## Else"
   ]
  },
  {
   "cell_type": "code",
   "execution_count": null,
   "metadata": {},
   "outputs": [],
   "source": [
    "a = int(input(\"Introduce un valor\"))\n",
    "if a < 0:\n",
    "    print (\"el número ingresado es negativo\")\n",
    "else:\n",
    "    print (\"el número ingresado es positivo\")"
   ]
  },
  {
   "cell_type": "markdown",
   "metadata": {
    "colab_type": "text",
    "id": "AsTSFQ2uMcsK"
   },
   "source": [
    "## Elif"
   ]
  },
  {
   "cell_type": "markdown",
   "metadata": {},
   "source": [
    "Puede haber cero o más bloques elif, y el bloque else es opcional. La palabra reservada ‘elif‘ es una abreviación de ‘else if’, y es útil para evitar un sangrado excesivo.\n",
    "\n",
    "Una secuencia if ... elif ... elif ... sustituye las sentencias switch o case encontradas en otros lenguajes."
   ]
  },
  {
   "cell_type": "code",
   "execution_count": null,
   "metadata": {},
   "outputs": [],
   "source": [
    "a = int(input(\"Introduce un valor\"))\n",
    "if a < 0:\n",
    "    print (\"el número ingresado es negativo\")\n",
    "elif a==0:\n",
    "    print (\"el número ingresado es cero\")\n",
    "else:\n",
    "    print (\"el número ingresado es positivo\")"
   ]
  },
  {
   "cell_type": "code",
   "execution_count": null,
   "metadata": {
    "colab": {},
    "colab_type": "code",
    "id": "uvoHg6aHMcsK",
    "outputId": "1ac197b3-a97f-4700-ace9-5d2ae9ce062e"
   },
   "outputs": [],
   "source": [
    "## Else\n",
    "b = int(input())\n",
    "if b > a:\n",
    "    print(\"b es mayor que a\")\n",
    "elif a == b:\n",
    "    print(\"a y b so iguales\")\n",
    "else:\n",
    "    print(\"a es mayor que b\")"
   ]
  },
  {
   "cell_type": "markdown",
   "metadata": {
    "colab_type": "text",
    "id": "7XExfqZEMcsM"
   },
   "source": [
    "## Operadores lógicos: and, or, not"
   ]
  },
  {
   "cell_type": "markdown",
   "metadata": {},
   "source": [
    "<img src=\"img/verdad.png\" width=700>"
   ]
  },
  {
   "cell_type": "code",
   "execution_count": null,
   "metadata": {
    "colab": {},
    "colab_type": "code",
    "id": "V_etEi3sMcsM"
   },
   "outputs": [],
   "source": [
    "a = int(input())\n",
    "b = int(input())\n",
    "c = int(input())\n",
    "if a > b and b > c:\n",
    "    print(\"De mayor a menor son:\",a,b,c)"
   ]
  },
  {
   "cell_type": "code",
   "execution_count": null,
   "metadata": {
    "colab": {},
    "colab_type": "code",
    "id": "I8VfAayrMcsN",
    "outputId": "00d14984-26ea-464e-9f6b-88e232e1decc"
   },
   "outputs": [],
   "source": [
    "tarjeta=False\n",
    "efectivo=False\n",
    "\n",
    "print(\"¿Cómo desea pagar?\")\n",
    "if tarjeta==True or efectivo==True:\n",
    "    print(\"Gracias por su forma de pago\")\n",
    "else:\n",
    "    print(\"Tendrá que lavar platos para salir\")"
   ]
  },
  {
   "cell_type": "code",
   "execution_count": null,
   "metadata": {},
   "outputs": [],
   "source": [
    "prueba=False\n",
    "print(prueba)\n",
    "print(not(prueba))"
   ]
  },
  {
   "cell_type": "markdown",
   "metadata": {
    "colab_type": "text",
    "id": "lM7cDCIbMcsO"
   },
   "source": [
    "## If anidado"
   ]
  },
  {
   "cell_type": "code",
   "execution_count": null,
   "metadata": {
    "colab": {},
    "colab_type": "code",
    "id": "a62390itMcsP",
    "outputId": "7310f0d5-87af-4ab0-af2a-eb36a079ad8f"
   },
   "outputs": [],
   "source": [
    "x = int(input())\n",
    "\n",
    "if x > 10:\n",
    "    print(\"Mayor que diez, \")\n",
    "    if x > 20:\n",
    "        print(\"y también mayor que 20!\")\n",
    "    else:\n",
    "        print(\"pero no mayor que 20.\")\n",
    "else:\n",
    "    print(\"No es mayor a diez.\")"
   ]
  },
  {
   "cell_type": "markdown",
   "metadata": {},
   "source": [
    "##  While\n",
    "\n",
    "La sentencia while es usada para repetir la ejecución de un código mientras la condición sea verdadera.\n",
    "\n",
    "El primer bloque corresponde al código que se ejecuta mientras la condición sea verdadera. Se puede crear un segundo bloque opcional con la sentencia else, la cual permite ejecutar ese bloque antes de terminar la ejecución del bucle while.\n",
    "\n",
    "Se pueden usar las sentencias **break** y **continue** en el primer bloque."
   ]
  },
  {
   "cell_type": "code",
   "execution_count": null,
   "metadata": {},
   "outputs": [],
   "source": [
    "a=0;b=1"
   ]
  },
  {
   "cell_type": "code",
   "execution_count": null,
   "metadata": {},
   "outputs": [],
   "source": [
    "a, b = 0, 1\n",
    "while b < 1000:\n",
    "    print(b, end=',')\n",
    "    a, b = b, a+b"
   ]
  },
  {
   "cell_type": "code",
   "execution_count": null,
   "metadata": {},
   "outputs": [],
   "source": [
    "a, b = 0, 1\n",
    "while b < 1000:\n",
    "    print(b, end=',')\n",
    "    a, b = b, a+b\n",
    "else:\n",
    "    print(\"\\nEl valor de b es mayor que 1000\")"
   ]
  },
  {
   "cell_type": "code",
   "execution_count": null,
   "metadata": {},
   "outputs": [],
   "source": [
    "a, b = 0, 1\n",
    "while b < 1000:\n",
    "    print(b, end=',')\n",
    "    a, b = b, a+b\n",
    "    break"
   ]
  },
  {
   "cell_type": "code",
   "execution_count": null,
   "metadata": {},
   "outputs": [],
   "source": [
    "while True:\n",
    "    try:\n",
    "        x = int(input(\"Por favor ingrese un número: \"))\n",
    "        break\n",
    "    except ValueError:\n",
    "        print(\"Oops! No era válido. Intente nuevamente...\")"
   ]
  },
  {
   "cell_type": "code",
   "execution_count": null,
   "metadata": {},
   "outputs": [],
   "source": [
    "import random\n",
    "x=random.randint(0,100)\n",
    "intentos=1\n",
    "\n",
    "while True:\n",
    "    adivinanza=int(input(\"Indica un número entre 0 y 100: \"))\n",
    "    if adivinanza!=x:\n",
    "        print(\"\\nFallaste!!! Vuelve a intentar\")\n",
    "        intentos=intentos+1\n",
    "        if adivinanza>x:\n",
    "            print(\"El número es menor\\n\")\n",
    "        else:\n",
    "            print(\"El número es mayor\\n\")\n",
    "    else:\n",
    "        print(\"\\nAdivinaste!!! Felicidades\\n\")\n",
    "        print(\"Número de intentos:\", intentos)\n",
    "        break"
   ]
  },
  {
   "cell_type": "markdown",
   "metadata": {
    "colab_type": "text",
    "id": "yw6a3JaGkjY8"
   },
   "source": [
    "## Ciclo  For"
   ]
  },
  {
   "cell_type": "markdown",
   "metadata": {
    "colab_type": "text",
    "id": "AHRY-lPXkjYM"
   },
   "source": [
    "El ciclo **for** puede ser utilizado en diferentes objetos, obteniendo resultados diferentes. A esta capacidad de un objeto de reaccionar diferente frente a otro se le conoce como **polimorfismo.**"
   ]
  },
  {
   "cell_type": "code",
   "execution_count": null,
   "metadata": {
    "colab": {},
    "colab_type": "code",
    "id": "AHo4ijrMMcsY",
    "outputId": "a893eaed-582a-408c-c4c2-128e705895dd"
   },
   "outputs": [],
   "source": [
    "for x in range(3):\n",
    "    print(x)"
   ]
  },
  {
   "cell_type": "code",
   "execution_count": null,
   "metadata": {
    "colab": {},
    "colab_type": "code",
    "id": "sZ2ZPBdmkjYN"
   },
   "outputs": [],
   "source": [
    "for x in range(3):\n",
    "    print(str(x) +\" \"+\"Hola mundo\")"
   ]
  },
  {
   "cell_type": "code",
   "execution_count": null,
   "metadata": {
    "colab": {},
    "colab_type": "code",
    "id": "7E2XYTOTkjYO",
    "outputId": "c6c7d636-297a-4f69-97f0-91e6e11b0e16"
   },
   "outputs": [],
   "source": [
    "for x in range(3,5):\n",
    "    print(str(x) +\" \"+ \"Hola mundo\")"
   ]
  },
  {
   "cell_type": "code",
   "execution_count": null,
   "metadata": {
    "colab": {},
    "colab_type": "code",
    "id": "y6fOUmZfkjYQ"
   },
   "outputs": [],
   "source": [
    "for x in range(0,15,3):\n",
    "    print(x)\n",
    "    print(\"Hola mundo\")"
   ]
  },
  {
   "cell_type": "markdown",
   "metadata": {
    "colab_type": "text",
    "id": "SkMn-UdLkjYM"
   },
   "source": [
    "### Ejemplos de polimorfismo Ciclo For"
   ]
  },
  {
   "cell_type": "code",
   "execution_count": null,
   "metadata": {
    "colab": {},
    "colab_type": "code",
    "id": "1u8LOTrQywvo"
   },
   "outputs": [],
   "source": [
    "a=0\n",
    "for x in \"banana\":\n",
    "    print(x)"
   ]
  },
  {
   "cell_type": "code",
   "execution_count": null,
   "metadata": {
    "colab": {},
    "colab_type": "code",
    "id": "4H8JOw_8kjYS"
   },
   "outputs": [],
   "source": [
    "a=0\n",
    "for x in \"banana\":\n",
    "    print(str(a) + \" \" + x)\n",
    "    a+=1"
   ]
  },
  {
   "cell_type": "code",
   "execution_count": null,
   "metadata": {
    "colab": {},
    "colab_type": "code",
    "id": "0kEwycZtkjYU"
   },
   "outputs": [],
   "source": [
    "for x in lista:\n",
    "    print(x)"
   ]
  },
  {
   "cell_type": "markdown",
   "metadata": {
    "colab_type": "text",
    "id": "BDE8EGOPkjYX"
   },
   "source": [
    "Con la sentencia **break** podemos detener las iteraciones dentro de un ciclo:"
   ]
  },
  {
   "cell_type": "code",
   "execution_count": null,
   "metadata": {
    "colab": {},
    "colab_type": "code",
    "id": "OH5cEXuAkjYY"
   },
   "outputs": [],
   "source": [
    "for x in lista:\n",
    "    print(x)\n",
    "    if x==\"manzana\":\n",
    "        break"
   ]
  },
  {
   "cell_type": "code",
   "execution_count": null,
   "metadata": {
    "colab": {},
    "colab_type": "code",
    "id": "a4U_1LDOkjYa"
   },
   "outputs": [],
   "source": [
    "for x in lista:\n",
    "    if x==\"manzana\":\n",
    "        break\n",
    "    print(x)"
   ]
  },
  {
   "cell_type": "markdown",
   "metadata": {
    "colab_type": "text",
    "id": "9gPjD_KHkjYb"
   },
   "source": [
    "Con la sentencia **continue** podemos detener la iteracion actual dentro de un ciclo y que pase a la siguiente:"
   ]
  },
  {
   "cell_type": "code",
   "execution_count": null,
   "metadata": {
    "colab": {},
    "colab_type": "code",
    "id": "EmWT-W4JkjYc"
   },
   "outputs": [],
   "source": [
    "for x in lista:\n",
    "    if x==\"manzana\":\n",
    "        continue #Este comando sería igual a pasar de largo el elemento manzana.\n",
    "    print(x)"
   ]
  },
  {
   "cell_type": "code",
   "execution_count": null,
   "metadata": {
    "colab": {},
    "colab_type": "code",
    "id": "U41dLvWLMcsl",
    "outputId": "300adc5b-6bfd-4371-e788-67e8053566ea"
   },
   "outputs": [],
   "source": [
    "#El siguiente ciclo imprime las llaves dentro de un diccionario\n",
    "for i in diccionario:\n",
    "    print (i)"
   ]
  },
  {
   "cell_type": "code",
   "execution_count": null,
   "metadata": {
    "colab": {},
    "colab_type": "code",
    "id": "Mc1m7TztMcsm",
    "outputId": "63cec134-b26e-4e15-bb9d-4b237e68fefd"
   },
   "outputs": [],
   "source": [
    "diccionario.keys()"
   ]
  },
  {
   "cell_type": "code",
   "execution_count": null,
   "metadata": {
    "colab": {},
    "colab_type": "code",
    "id": "NI339QW4Mcso",
    "outputId": "913e84d1-984a-4b9a-d43a-e74b87b0139e"
   },
   "outputs": [],
   "source": [
    "for i in diccionario:\n",
    "    print (diccionario[i])"
   ]
  },
  {
   "cell_type": "markdown",
   "metadata": {
    "colab_type": "text",
    "id": "VsHorsdCkjZB"
   },
   "source": [
    "Otra forma de obtener el resultado anterior, sería mediante el uso del método **values()**"
   ]
  },
  {
   "cell_type": "code",
   "execution_count": null,
   "metadata": {
    "colab": {},
    "colab_type": "code",
    "id": "wE552CKukjZB",
    "outputId": "858b09ec-9a3a-453e-c4e5-f10ab2fcee61"
   },
   "outputs": [],
   "source": [
    "for i in diccionario.values():\n",
    "    print(i)"
   ]
  },
  {
   "cell_type": "code",
   "execution_count": null,
   "metadata": {
    "colab": {},
    "colab_type": "code",
    "id": "BxwL1xXVMcsr",
    "outputId": "9bb48885-4d30-4c45-b623-df801209f683"
   },
   "outputs": [],
   "source": [
    "for i in diccionario:\n",
    "    print(type(diccionario[i]))"
   ]
  },
  {
   "cell_type": "code",
   "execution_count": null,
   "metadata": {
    "colab": {},
    "colab_type": "code",
    "id": "vgFq6wd-Mcss",
    "outputId": "10b4a357-06e0-48c2-b1da-91bbfa290b30"
   },
   "outputs": [],
   "source": [
    "for i in diccionario:\n",
    "    print (i,\":\",diccionario[i])\n",
    "    print(type(diccionario[i]))\n",
    "    print()"
   ]
  },
  {
   "cell_type": "markdown",
   "metadata": {
    "colab_type": "text",
    "id": "nnsDjSfKkjZE"
   },
   "source": [
    "El método **items** nos ayuda a obtener las claves y sus valores de forma simultanea:"
   ]
  },
  {
   "cell_type": "code",
   "execution_count": null,
   "metadata": {
    "colab": {},
    "colab_type": "code",
    "id": "n8HuFQmmkjZE",
    "outputId": "6e6b1229-cb0b-4171-e29f-09da6580cf38"
   },
   "outputs": [],
   "source": [
    "for x, y in diccionario.items():\n",
    "    print(x,\":\", y)"
   ]
  },
  {
   "cell_type": "markdown",
   "metadata": {
    "colab_type": "text",
    "id": "ShYD3yFckjYd"
   },
   "source": [
    "### El comando Else en el ciclo For\n",
    "\n",
    "El comando **Else** en un ciclo **For** especifica un bloque de código que se ejecutará solo al termino del loop."
   ]
  },
  {
   "cell_type": "code",
   "execution_count": null,
   "metadata": {
    "colab": {},
    "colab_type": "code",
    "id": "zo3G0mEekjYe"
   },
   "outputs": [],
   "source": [
    "for x in range(6):\n",
    "    print(x)\n",
    "else:\n",
    "    print(\"Por fin terminó!\")"
   ]
  },
  {
   "cell_type": "markdown",
   "metadata": {
    "colab_type": "text",
    "id": "e1CwjDQHkjYf"
   },
   "source": [
    "### Loops anidados\n",
    "\n",
    "En este tipo de sintaxis, el loop mas *interior* completara todos sus iteraciones por cada iteración del loop *exterior.*"
   ]
  },
  {
   "cell_type": "code",
   "execution_count": null,
   "metadata": {
    "colab": {},
    "colab_type": "code",
    "id": "E-T4x3YikjYg"
   },
   "outputs": [],
   "source": [
    "frutas = [\"limón\", \"platano\", \"mango\", \"fresa\", \"Kiwi\"]\n",
    "adjetivos = [\"colorido\", \"grande\", \"sabroso\"]\n",
    "\n",
    "\n",
    "for x in frutas:\n",
    "    for y in adjetivos:\n",
    "        print(x, y)"
   ]
  },
  {
   "cell_type": "code",
   "execution_count": null,
   "metadata": {
    "colab": {},
    "colab_type": "code",
    "id": "fx-Pgdkk31ml"
   },
   "outputs": [],
   "source": [
    "bm=(\"bueno\",\"malo\")\n",
    "resultado=[]\n",
    "for x in frutas:\n",
    "    for y in adjetivos:\n",
    "        for z in bm:\n",
    "            resultado.append((x, y, z))\n",
    "print(resultado)"
   ]
  },
  {
   "cell_type": "code",
   "execution_count": null,
   "metadata": {
    "colab": {},
    "colab_type": "code",
    "id": "hpa3OqhIfQj7"
   },
   "outputs": [],
   "source": [
    "len(resultado)"
   ]
  },
  {
   "cell_type": "markdown",
   "metadata": {
    "colab_type": "text",
    "id": "DMAJN1QDfQkJ"
   },
   "source": [
    "### Actividad\n",
    "\n",
    "Realizar un programa que calcule los números primos desde 2 hasta n.\n",
    "\n",
    "*Nota: para calcular el residuo de una división, se utiliza el simbolo %.*\n",
    "\n",
    "        ej. 2%2=0\n",
    "        \n",
    "Realiza una función que calcule la serie fibonacci hasta un valor n. La serie Fibonacci se calcula empezando con los valores 0 y 1, los valores siguientes serán igual a la suma de los 2 anteriores:\n",
    "\n",
    "0, 1, 1, 2, 3, 5, 8, 13, 21, 34...."
   ]
  },
  {
   "cell_type": "code",
   "execution_count": null,
   "metadata": {
    "colab": {},
    "colab_type": "code",
    "id": "o9Yi_oLSfQkK"
   },
   "outputs": [],
   "source": [
    "numero=int(input(\"Indique el valor máximo de la serie: \"))\n",
    "primos=[]\n",
    "for i in range(2, numero+1):\n",
    "    for divisor in range(1,i+1):\n",
    "        primo=True\n",
    "        residuo=i%divisor\n",
    "        if residuo==0 and divisor!=1 and divisor!=i:\n",
    "            primo=False\n",
    "            break\n",
    "    if primo==True:\n",
    "        primos.append(i)\n",
    "else:\n",
    "    print(primos)"
   ]
  },
  {
   "cell_type": "code",
   "execution_count": null,
   "metadata": {},
   "outputs": [],
   "source": [
    "def fib(n):\n",
    "    a, b = 0,1\n",
    "    while a < n:\n",
    "        print(a, end=' ') # el parametro end=\" \" sirve para que los resultados siguientes no se escriban en una nueva linea.\n",
    "        a, b = b, a+b\n",
    "    print()\n",
    "\n",
    "fib(1000)\n",
    "\n",
    "fib(int(input()))"
   ]
  },
  {
   "cell_type": "code",
   "execution_count": null,
   "metadata": {},
   "outputs": [],
   "source": []
  }
 ],
 "metadata": {
  "kernelspec": {
   "display_name": "Python 3",
   "language": "python",
   "name": "python3"
  },
  "language_info": {
   "codemirror_mode": {
    "name": "ipython",
    "version": 3
   },
   "file_extension": ".py",
   "mimetype": "text/x-python",
   "name": "python",
   "nbconvert_exporter": "python",
   "pygments_lexer": "ipython3",
   "version": "3.7.3"
  }
 },
 "nbformat": 4,
 "nbformat_minor": 2
}
