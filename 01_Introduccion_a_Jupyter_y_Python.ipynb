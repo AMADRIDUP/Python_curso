{
 "cells": [
  {
   "cell_type": "markdown",
   "metadata": {
    "colab_type": "text",
    "id": "pKgE05kddWwB"
   },
   "source": [
    "# Sesión 1, primera parte"
   ]
  },
  {
   "cell_type": "markdown",
   "metadata": {},
   "source": [
    "<img src=\"img/alarma.jpg\" width=\"600\">"
   ]
  },
  {
   "cell_type": "markdown",
   "metadata": {},
   "source": [
    "# Python - Conceptos basicos"
   ]
  },
  {
   "cell_type": "markdown",
   "metadata": {},
   "source": [
    "<img src=\"img/step.png\" width=\"800\">"
   ]
  },
  {
   "cell_type": "code",
   "execution_count": null,
   "metadata": {},
   "outputs": [],
   "source": [
    "#!pip install notebook --upgrade"
   ]
  },
  {
   "cell_type": "markdown",
   "metadata": {
    "colab_type": "text",
    "id": "W1D0aG4zdWwD"
   },
   "source": [
    "## 1. Jupyter notebook"
   ]
  },
  {
   "cell_type": "markdown",
   "metadata": {},
   "source": [
    "<a href=\"http://jupyter.org/\">Jupyter notebook</a> es una aplicación web que permite generar y compartir documentos (notebooks) que contienen código, ecuaciones, visualizaciones y textos explicativos. Su interfaz es similar a la que ofrece Mathematica o Mapple.\n",
    "\n",
    "Un notebook consiste de una serie de celdas, las cuales pueden crearse y organizarse de manera libre. Estas celdas pueden contener código o texto en formato Markdown. Una de sus principales ventajas es que se puede orgnaizar la información de una manera estructurada.\n",
    "\n",
    "Al abrir la aplicación, esta abrirá una nueva ventana en su navegador web (o viñeta en caso de ya estar abierto el navegador) y mostrará el sistema de archivos del sistema. Usualmente, el URL de la pestañña que abre Jupyter notebook es <http://localhost:8890>"
   ]
  },
  {
   "cell_type": "markdown",
   "metadata": {
    "colab_type": "text",
    "id": "c8Z4O3_3RR4F"
   },
   "source": [
    "### 1.1 Comandos rápidos"
   ]
  },
  {
   "cell_type": "markdown",
   "metadata": {
    "colab_type": "text",
    "id": "jr_eS3EHRlON"
   },
   "source": [
    "<table style=\"width:100%\">\n",
    "  <tr>\n",
    "    <th>Teclado rápido</th>\n",
    "    <th>Función</th>\n",
    "   </tr>\n",
    "  <tr>\n",
    "    <td>Enter</td>\n",
    "    <td>Activa el modo de edición de la celda</td>\n",
    "   </tr>\n",
    "   <tr>\n",
    "    <td>Ctrl + a</td>\n",
    "    <td>Selecciona todas las celdas del cuaderno</td>\n",
    "   </tr>\n",
    "   <tr>\n",
    "    <td>Ctrl + c</td>\n",
    "    <td>Copia la(s) celda(s) del cuaderno</td>\n",
    "   </tr>\n",
    "   <tr>\n",
    "    <td>Ctrl + v</td>\n",
    "    <td>Pega la(s) celda(s) del cuaderno</td>\n",
    "   </tr>\n",
    "   <tr>\n",
    "    <td>Ctrl + z</td>\n",
    "    <td>Con el modo de edición activado, <br>\n",
    "    elimina la última acción realizada</td>\n",
    "   </tr>\n",
    "   <tr>\n",
    "    <td>Shift + Enter</td>\n",
    "    <td>Ejecuta la celda seleccionada</td>\n",
    "   </tr>\n",
    "   <tr>\n",
    "    <td>Alt + Enter</td>\n",
    "    <td>Ejecuta la celda seleccionada, <br>\n",
    "    Genera una nueva celda de código.</td>\n",
    "   </tr>\n",
    "   <tr>\n",
    "    <td>Shift + Tabulador</td>\n",
    "    <td>Dentro de una función, <br>\n",
    "    despliega la ayuda de la función.</td>\n",
    "   </tr>\n",
    "   <tr>\n",
    "    <td>Esc + d + d</td>\n",
    "    <td>Elimina la celda seleccionada</td>\n",
    "   </tr>\n",
    "   <tr>\n",
    "    <td>Esc + m</td>\n",
    "    <td>Convierte la celda seleccionada a Markdown</td>\n",
    "   </tr>\n",
    "   <tr>\n",
    "    <td>Esc + y</td>\n",
    "    <td>Convierte la celda seleccionada a código</td>\n",
    "   </tr>\n",
    "</table>"
   ]
  },
  {
   "cell_type": "markdown",
   "metadata": {
    "colab_type": "text",
    "id": "aceG1GzFU1DR"
   },
   "source": [
    "### 1.2 Markdown y celdas de código"
   ]
  },
  {
   "cell_type": "markdown",
   "metadata": {
    "colab_type": "text",
    "id": "S_RmY5QhU7Gl"
   },
   "source": [
    "Los siguientes ejemplos de titulos dentro de una celda de Markdown, se obtuvieron al variar la cantidad de **#** que se coloca de manera precedente al texto:"
   ]
  },
  {
   "cell_type": "markdown",
   "metadata": {
    "colab_type": "text",
    "id": "MGykAod9VON1"
   },
   "source": [
    "# Titulo\n",
    "## Subtitulo 1\n",
    "### Subtitulo 2\n",
    "#### Subtitulo 3\n",
    "##### Subtitulo 4"
   ]
  },
  {
   "cell_type": "markdown",
   "metadata": {
    "colab_type": "text",
    "id": "-NTKQziJVZi1"
   },
   "source": [
    "Para poder escribir texto en negritas, hay que colocar dos **asteríscos** antes y después de la(s) palabra(s) a resaltar. Escriba su nombre en negritas: "
   ]
  },
  {
   "cell_type": "markdown",
   "metadata": {
    "colab_type": "text",
    "id": "v4hqOiDnVxCj"
   },
   "source": [
    "'"
   ]
  },
  {
   "cell_type": "markdown",
   "metadata": {
    "colab_type": "text",
    "id": "Wh4usRLhVwac"
   },
   "source": [
    "Para poder escribir texto en negritas, hay que colocar 1 *asterísco* antes y después de la(s) palabra(s) a resaltar. Escriba su nombre en itálicas: "
   ]
  },
  {
   "cell_type": "markdown",
   "metadata": {
    "colab_type": "text",
    "id": "4r9nFAfCWH4G"
   },
   "source": [
    "'"
   ]
  },
  {
   "cell_type": "markdown",
   "metadata": {
    "colab_type": "text",
    "id": "-jxrS1OZWPVv"
   },
   "source": [
    "Para escribir un comentario dentro de una celda de código, la línea debe inicar con un **#**:"
   ]
  },
  {
   "cell_type": "code",
   "execution_count": null,
   "metadata": {
    "colab": {},
    "colab_type": "code",
    "id": "O36ZeUA9WOr9"
   },
   "outputs": [],
   "source": [
    "# Esto es un comentario. En estas celdas es donde se ejecutará el código de python."
   ]
  },
  {
   "cell_type": "markdown",
   "metadata": {
    "colab_type": "text",
    "id": "ib0F1ZSPXJbf"
   },
   "source": [
    "Para poder escribir un comentario de varias líneas, es necesario hacer uso del triple apostrofe (''')"
   ]
  },
  {
   "cell_type": "code",
   "execution_count": null,
   "metadata": {
    "colab": {
     "base_uri": "https://localhost:8080/",
     "height": 34
    },
    "colab_type": "code",
    "executionInfo": {
     "elapsed": 339,
     "status": "ok",
     "timestamp": 1581376204224,
     "user": {
      "displayName": "Edgar Avalos Gauna",
      "photoUrl": "https://lh3.googleusercontent.com/a-/AAuE7mBlAgNUstu0sLee83F6yPWlOeuhkSOIQBP1BMW9=s64",
      "userId": "15081544959551912541"
     },
     "user_tz": 360
    },
    "id": "oXTivq5mXRY8",
    "outputId": "57c3635a-4dbd-48a5-e041-9d84033150a7"
   },
   "outputs": [],
   "source": [
    "'''\n",
    "Esto es un comentario de\n",
    "varias líneas.\n",
    "Todo lo que esté dentro\n",
    "de los apostrofes, formará\n",
    "parte del comentario-\n",
    "'''"
   ]
  },
  {
   "cell_type": "markdown",
   "metadata": {
    "colab_type": "text",
    "id": "obCXlfz8Wggg"
   },
   "source": [
    "Existen muchas otras herramientas dentro de una celda de Markdown. Para mayor información, revisar la documentación de ayuda que viene con el programa.\n",
    "\n",
    "https://help.github.com/en/github/writing-on-github/basic-writing-and-formatting-syntax\n",
    "\n",
    "**Nota: También es posible modificar una celda de Markdown mediante el uso de código HTML, o de sintaxis de LaTex para ecuaciones**"
   ]
  },
  {
   "cell_type": "markdown",
   "metadata": {
    "colab_type": "text",
    "id": "h6rUvOEsdWwE"
   },
   "source": [
    "## 2. Tipos de datos en Python\n",
    "Un tipo de dato es la propiedad de un valor que determina: su dominio (valores que puede tomar), las operaciones que se le pueden aplicar y la representación interna que usa el propio computador.\n",
    "En python existen esencialmente:\n",
    "\n",
    "1. Números enteros (int).\n",
    "2. Números reales o de punto flotante (float).\n",
    "3. Números complejos (complex).\n",
    "4. Valores lógicos (bool).\n",
    "5. Texto (str).\n",
    "\n",
    "A continuación veremos las características de cada uno por separado."
   ]
  },
  {
   "cell_type": "markdown",
   "metadata": {
    "colab_type": "text",
    "id": "M6ZMtGLQdWwF"
   },
   "source": [
    "### 2.1 Números Enteros.\n",
    "Como su nombre lo dice son números enteros a las cuales se le pueden aplicar las operatorias básicas conocidas: suma(`+`), sustracción (`-`), multiplicación (`*`), división flotante (`/`), división entera (`//`), módulo (`%`), potenciación (`**`).\n",
    "\n",
    "2+2\n",
    "\n",
    "1-10\n",
    "\n",
    "3*2\n",
    "\n",
    "10/3\n",
    "\n",
    "10//3\n",
    "\n",
    "10%3\n",
    "\n",
    "3**2"
   ]
  },
  {
   "cell_type": "code",
   "execution_count": null,
   "metadata": {
    "colab": {},
    "colab_type": "code",
    "id": "hcIAwsQLXvOn"
   },
   "outputs": [],
   "source": [
    "# Suma\n",
    "2+2"
   ]
  },
  {
   "cell_type": "code",
   "execution_count": null,
   "metadata": {
    "colab": {},
    "colab_type": "code",
    "id": "OPNcyBZiXxnS"
   },
   "outputs": [],
   "source": [
    "# Resta\n",
    "1-10"
   ]
  },
  {
   "cell_type": "code",
   "execution_count": null,
   "metadata": {
    "colab": {},
    "colab_type": "code",
    "id": "AgQl175yXzKT"
   },
   "outputs": [],
   "source": [
    "# Multiplicación\n",
    "3*2"
   ]
  },
  {
   "cell_type": "code",
   "execution_count": null,
   "metadata": {
    "colab": {},
    "colab_type": "code",
    "id": "INIP2CZ_X0zD"
   },
   "outputs": [],
   "source": [
    "# División\n",
    "10/3"
   ]
  },
  {
   "cell_type": "code",
   "execution_count": null,
   "metadata": {
    "colab": {},
    "colab_type": "code",
    "id": "smjnyckZX2G6"
   },
   "outputs": [],
   "source": [
    "#División entera\n",
    "10//3"
   ]
  },
  {
   "cell_type": "code",
   "execution_count": null,
   "metadata": {
    "colab": {},
    "colab_type": "code",
    "id": "VANNGD_PX_VD"
   },
   "outputs": [],
   "source": [
    "# Módulo o residuo de la división entera\n",
    "10%3"
   ]
  },
  {
   "cell_type": "code",
   "execution_count": null,
   "metadata": {
    "colab": {},
    "colab_type": "code",
    "id": "dqRQ5aa0YAl7"
   },
   "outputs": [],
   "source": [
    "# Potencia\n",
    "3**2"
   ]
  },
  {
   "cell_type": "code",
   "execution_count": null,
   "metadata": {},
   "outputs": [],
   "source": [
    "2 ** 2"
   ]
  },
  {
   "cell_type": "code",
   "execution_count": null,
   "metadata": {},
   "outputs": [],
   "source": [
    "2 ** 2 ** 2"
   ]
  },
  {
   "cell_type": "code",
   "execution_count": null,
   "metadata": {},
   "outputs": [],
   "source": [
    "2 ** 2 ** 2 ** 2"
   ]
  },
  {
   "cell_type": "code",
   "execution_count": null,
   "metadata": {},
   "outputs": [],
   "source": [
    "2 ** 2 ** 2 ** 2 ** 2"
   ]
  },
  {
   "cell_type": "markdown",
   "metadata": {
    "colab_type": "text",
    "id": "mgYt01UjdWwG"
   },
   "source": [
    "### Desafío 1 ###\n",
    "Calcular el siguiente valor utilizando las operaciones anteriormente descritas:\n",
    "\n",
    "$$ 1 + 2^2 - 3^3 + 4^4 - 5^5 + 6^6 -7^7 +8^8 -9^9 $$\n",
    "\n",
    "Pista: El resultado deberia ser $-371423051$"
   ]
  },
  {
   "cell_type": "code",
   "execution_count": null,
   "metadata": {
    "colab": {},
    "colab_type": "code",
    "id": "O-amveqMdWwH"
   },
   "outputs": [],
   "source": []
  },
  {
   "cell_type": "markdown",
   "metadata": {
    "colab_type": "text",
    "id": "fYwnmz9ZdWwL"
   },
   "source": [
    "### 2.2 Números reales o de punto flotante.\n",
    "La operatoria con números flotantes nos permite utilizar las operaciones matemáticas que bien conocemos sin problema. Para ingresar un número de punto flotante se debe ingresar su parte entera seguida por su parte decimal."
   ]
  },
  {
   "cell_type": "code",
   "execution_count": null,
   "metadata": {
    "colab": {},
    "colab_type": "code",
    "id": "jeBEHzP4dWwL"
   },
   "outputs": [],
   "source": [
    "4.0/5.0"
   ]
  },
  {
   "cell_type": "code",
   "execution_count": null,
   "metadata": {
    "colab": {},
    "colab_type": "code",
    "id": "kfbryWB7dWwO"
   },
   "outputs": [],
   "source": [
    "4./5."
   ]
  },
  {
   "cell_type": "code",
   "execution_count": null,
   "metadata": {
    "colab": {},
    "colab_type": "code",
    "id": "84PCUyW5Yppc"
   },
   "outputs": [],
   "source": [
    "4/5.0"
   ]
  },
  {
   "cell_type": "markdown",
   "metadata": {
    "colab_type": "text",
    "id": "0E-4XTvldWwZ"
   },
   "source": [
    "#### Desafío 2\n",
    "Evalúe la siguiente expresión utilizando las operaciones vistas:\n",
    "$$ \\frac{1 + \\frac{2}{4+\\frac{8}{16}}}{1 - \\frac{1}{1+\\frac{1}{2}}}$$\n",
    "Pista: El resultado debería ser $4.33333333333$"
   ]
  },
  {
   "cell_type": "code",
   "execution_count": null,
   "metadata": {
    "colab": {},
    "colab_type": "code",
    "id": "v_CTdOucdWwa"
   },
   "outputs": [],
   "source": [
    "# INSERTAR CODIGO AQUI #\n",
    "num = \n",
    "den = \n",
    "print (num/den)\n"
   ]
  },
  {
   "cell_type": "markdown",
   "metadata": {
    "colab_type": "text",
    "id": "LkgZRkWxdWwd"
   },
   "source": [
    "#### Desafío 3\n",
    "Evalúe la siguiente expresión\n",
    "$$ 1 + \\sqrt{2} + \\sqrt[3]{3} + \\sqrt[4]{4} + \\sqrt[5]{5}  + \\sqrt[6]{6}$$\n",
    "Pista: Recuerde que $\\sqrt[n]{p} = p^{\\frac{1}{n}}$."
   ]
  },
  {
   "cell_type": "code",
   "execution_count": null,
   "metadata": {
    "colab": {},
    "colab_type": "code",
    "id": "I0X4swj6dWwe"
   },
   "outputs": [],
   "source": [
    "\n",
    "\n"
   ]
  },
  {
   "cell_type": "markdown",
   "metadata": {
    "colab_type": "text",
    "id": "dh0OfDhqdWwg"
   },
   "source": [
    "### 2.3 Números complejos\n",
    "Python nos permite operar con números complejos a través de la sintaxis `a+bj`, donde `j` denota al número imaginario en el sistema. Las operaciones posibles sobre los numeros complejos son las mismas de los numeros reales. Recuerda las reglas de como operar con números complejos. Veamos algunos ejemplos:"
   ]
  },
  {
   "cell_type": "code",
   "execution_count": null,
   "metadata": {
    "colab": {},
    "colab_type": "code",
    "id": "_ffm_cqvdWwh"
   },
   "outputs": [],
   "source": [
    "(3 + 2j) + (- 2j) "
   ]
  },
  {
   "cell_type": "code",
   "execution_count": null,
   "metadata": {
    "colab": {},
    "colab_type": "code",
    "id": "rkkrSLo4dWwj"
   },
   "outputs": [],
   "source": [
    "(3 + 2j) - (12 + 5j)"
   ]
  },
  {
   "cell_type": "code",
   "execution_count": null,
   "metadata": {
    "colab": {},
    "colab_type": "code",
    "id": "yNMDouF5dWwl"
   },
   "outputs": [],
   "source": [
    "(3-2j)*(-2j)"
   ]
  },
  {
   "cell_type": "code",
   "execution_count": null,
   "metadata": {
    "colab": {},
    "colab_type": "code",
    "id": "d8OMNdm_dWwn"
   },
   "outputs": [],
   "source": [
    "(12+5j)/(4-3j)"
   ]
  },
  {
   "cell_type": "markdown",
   "metadata": {
    "colab_type": "text",
    "id": "RxQ_6aFndWwp"
   },
   "source": [
    "Si definimos un un número complejo $a$ podemos encontrar su parte real e imaginaria mediante la sintaxis \"a.real\" y \"a.imag\", mientras que su módulo puede ser determinado a través de la función \"abs\". Veamos un ejemplo de estas operatorias especiales:"
   ]
  },
  {
   "cell_type": "code",
   "execution_count": null,
   "metadata": {
    "colab": {},
    "colab_type": "code",
    "id": "vOv1-z9CdWwq"
   },
   "outputs": [],
   "source": [
    "a=3+4j\n",
    "print (a.real)\n",
    "print (a.imag)\n",
    "print (abs(a))"
   ]
  },
  {
   "cell_type": "markdown",
   "metadata": {
    "colab_type": "text",
    "id": "gbi6qz0ldWwu"
   },
   "source": [
    "### 2.4 Valores lógicos o booleanos\n",
    "Los valores lógicos son aquellos que únicamente pueden tener valores de verdad: verdadero (`True`) o falso (`False`). Se utilizan principalmente para verificar el estado de verdad de expresiones y evaluar condicionales o estructuras de control. \n",
    "Un ejemplo sencillo sobre cómo obtener booleanos viene de aplicar las operaciones de orden en números. Por ejemplo la comparación de igualdad \"== \", diferente a \"!=\", o las desigualdades \"<=\", \"<=\", \"<\", \">\".\n",
    "Los booleanos tienen además las operaciones tradicionales: y (`and`), o (`or`), negación (`not`)."
   ]
  },
  {
   "cell_type": "code",
   "execution_count": null,
   "metadata": {
    "colab": {},
    "colab_type": "code",
    "id": "kn3rXSpedWwv"
   },
   "outputs": [],
   "source": [
    "3==4"
   ]
  },
  {
   "cell_type": "code",
   "execution_count": null,
   "metadata": {
    "colab": {},
    "colab_type": "code",
    "id": "qwknOXY8aSj8"
   },
   "outputs": [],
   "source": [
    "3!=4"
   ]
  },
  {
   "cell_type": "code",
   "execution_count": null,
   "metadata": {
    "colab": {},
    "colab_type": "code",
    "id": "HxCGJVvAdWwx"
   },
   "outputs": [],
   "source": [
    "100==100"
   ]
  },
  {
   "cell_type": "code",
   "execution_count": null,
   "metadata": {
    "colab": {},
    "colab_type": "code",
    "id": "_NheeuB8dWwz"
   },
   "outputs": [],
   "source": [
    "3.4 <= 5"
   ]
  },
  {
   "cell_type": "markdown",
   "metadata": {
    "colab_type": "text",
    "id": "55WAeRWXdWw3"
   },
   "source": [
    "Cabe destacar que python soporta el uso encadenado de expresiones lógicas de comparación:"
   ]
  },
  {
   "cell_type": "code",
   "execution_count": null,
   "metadata": {
    "colab": {},
    "colab_type": "code",
    "id": "Z6m9d2qOdWw4"
   },
   "outputs": [],
   "source": [
    "x = 10\n",
    "1 <= x <= 100"
   ]
  },
  {
   "cell_type": "code",
   "execution_count": null,
   "metadata": {
    "colab": {},
    "colab_type": "code",
    "id": "94OWdQbxdWw6"
   },
   "outputs": [],
   "source": [
    "x=True\n",
    "print(x, type(x))"
   ]
  },
  {
   "cell_type": "code",
   "execution_count": null,
   "metadata": {
    "colab": {},
    "colab_type": "code",
    "id": "SG4KL3G9al6d"
   },
   "outputs": [],
   "source": [
    "x=4\n",
    "print(x < 3)"
   ]
  },
  {
   "cell_type": "code",
   "execution_count": null,
   "metadata": {
    "colab": {},
    "colab_type": "code",
    "id": "2IK7NDOta5zT"
   },
   "outputs": [],
   "source": [
    "respuesta=not False\n",
    "print(respuesta)"
   ]
  },
  {
   "cell_type": "code",
   "execution_count": null,
   "metadata": {
    "colab": {},
    "colab_type": "code",
    "id": "PEspWtAjbDLV"
   },
   "outputs": [],
   "source": [
    "print(True and False)"
   ]
  },
  {
   "cell_type": "code",
   "execution_count": null,
   "metadata": {
    "colab": {},
    "colab_type": "code",
    "id": "ouYOWQtxbAa9"
   },
   "outputs": [],
   "source": [
    "print(True or False)"
   ]
  },
  {
   "cell_type": "code",
   "execution_count": null,
   "metadata": {
    "colab": {},
    "colab_type": "code",
    "id": "-9D_Vvwsa4pU"
   },
   "outputs": [],
   "source": [
    "respuesta = True and True or False\n",
    "print (respuesta)"
   ]
  },
  {
   "cell_type": "code",
   "execution_count": null,
   "metadata": {
    "colab": {},
    "colab_type": "code",
    "id": "cRegUSHodWw1"
   },
   "outputs": [],
   "source": [
    "(not True or True ) and (not False)"
   ]
  },
  {
   "cell_type": "markdown",
   "metadata": {
    "colab_type": "text",
    "id": "D49IG5XwdWw8"
   },
   "source": [
    "#### Desafío 4\n",
    "Dado un cierto numero $x$, evalue si el número es múltiplo de 6 y 7 pero no de 8.\n",
    "\n",
    "**PISTA**: Un número $n$ es múltiplo de $p$ si el modulo (resto de división entera) es cero. En python, esto es `n%p==0 ` \n"
   ]
  },
  {
   "cell_type": "code",
   "execution_count": null,
   "metadata": {
    "colab": {
     "base_uri": "https://localhost:8080/",
     "height": 34
    },
    "colab_type": "code",
    "executionInfo": {
     "elapsed": 269,
     "status": "ok",
     "timestamp": 1581377405767,
     "user": {
      "displayName": "Edgar Avalos Gauna",
      "photoUrl": "https://lh3.googleusercontent.com/a-/AAuE7mBlAgNUstu0sLee83F6yPWlOeuhkSOIQBP1BMW9=s64",
      "userId": "15081544959551912541"
     },
     "user_tz": 360
    },
    "id": "2D5E-oupdWw9",
    "outputId": "42b0be0d-0fc3-4f73-dfff-e0304391f49e",
    "scrolled": true
   },
   "outputs": [],
   "source": [
    "x = 426\n",
    "print()"
   ]
  },
  {
   "cell_type": "markdown",
   "metadata": {
    "colab_type": "text",
    "id": "v0Vd4BZNdWw_"
   },
   "source": [
    "### 2.5 Texto o Strings\n",
    "Los strings son las cadenas de texto que nos permiten, por ejemplo, imprimir información por pantalla. Al igual que los ejemplos de datos anteriores poseen características y operatorias propias que nos facilitan tremendamente la utilización de éstos. La definición de strings se puede realizarse con comillas simples (`'`) o comillas dobles (`\"`). "
   ]
  },
  {
   "cell_type": "code",
   "execution_count": null,
   "metadata": {
    "colab": {},
    "colab_type": "code",
    "id": "r_mXi5OddWxA"
   },
   "outputs": [],
   "source": [
    "# Se puede declarar un string usando doble comillas\n",
    "string_1 = \"Hola Mundo!\"\n",
    "print (string_1)"
   ]
  },
  {
   "cell_type": "code",
   "execution_count": null,
   "metadata": {
    "colab": {},
    "colab_type": "code",
    "id": "7yvk29vwdWxD"
   },
   "outputs": [],
   "source": [
    "# O un apóstrofe\n",
    "string_2 = 'Hola Mundo!'\n",
    "print (string_2)"
   ]
  },
  {
   "cell_type": "code",
   "execution_count": null,
   "metadata": {
    "colab": {},
    "colab_type": "code",
    "id": "_5PSdm96gUwv"
   },
   "outputs": [],
   "source": [
    "string_1==string_2"
   ]
  },
  {
   "cell_type": "code",
   "execution_count": null,
   "metadata": {
    "colab": {},
    "colab_type": "code",
    "id": "BWtVXnZFdWxG"
   },
   "outputs": [],
   "source": [
    "string_3 = \"hola mundo!\"\n",
    "print (string_3)"
   ]
  },
  {
   "cell_type": "code",
   "execution_count": null,
   "metadata": {
    "colab": {},
    "colab_type": "code",
    "id": "LajzcbTwdWxI"
   },
   "outputs": [],
   "source": [
    "string_4 = 'HOLA MUNDO!'\n",
    "print (string_4)"
   ]
  },
  {
   "cell_type": "code",
   "execution_count": null,
   "metadata": {
    "colab": {},
    "colab_type": "code",
    "id": "JU15mFpdgvOT"
   },
   "outputs": [],
   "source": [
    "string_3==string_4"
   ]
  },
  {
   "cell_type": "code",
   "execution_count": null,
   "metadata": {
    "colab": {},
    "colab_type": "code",
    "id": "UfnH2LEhdWxS"
   },
   "outputs": [],
   "source": [
    "string_4.lower()"
   ]
  },
  {
   "cell_type": "code",
   "execution_count": null,
   "metadata": {
    "colab": {},
    "colab_type": "code",
    "id": "Vx3FR3lShHRm"
   },
   "outputs": [],
   "source": [
    "string_3==string_4"
   ]
  },
  {
   "cell_type": "code",
   "execution_count": null,
   "metadata": {
    "colab": {},
    "colab_type": "code",
    "id": "n4XqkHN3hRae"
   },
   "outputs": [],
   "source": [
    "string_4"
   ]
  },
  {
   "cell_type": "code",
   "execution_count": null,
   "metadata": {
    "colab": {},
    "colab_type": "code",
    "id": "qYGJp-mHhMfO"
   },
   "outputs": [],
   "source": [
    "string_4=string_4.lower()"
   ]
  },
  {
   "cell_type": "code",
   "execution_count": null,
   "metadata": {
    "colab": {},
    "colab_type": "code",
    "id": "Td0KP_RzhPi3"
   },
   "outputs": [],
   "source": [
    "string_3==string_4"
   ]
  },
  {
   "cell_type": "code",
   "execution_count": null,
   "metadata": {
    "colab": {},
    "colab_type": "code",
    "id": "jB6LFCRWdWxU"
   },
   "outputs": [],
   "source": [
    "string_4.upper()"
   ]
  },
  {
   "cell_type": "code",
   "execution_count": null,
   "metadata": {
    "colab": {},
    "colab_type": "code",
    "id": "MyUE_t5mdWxW"
   },
   "outputs": [],
   "source": [
    "string_4.title()"
   ]
  },
  {
   "cell_type": "markdown",
   "metadata": {
    "colab_type": "text",
    "id": "9BrJyzKTMcrg"
   },
   "source": [
    "## 3. Accediendo a secciones de un valor (slice)"
   ]
  },
  {
   "cell_type": "code",
   "execution_count": null,
   "metadata": {},
   "outputs": [],
   "source": [
    "texto=\"Python\"\n",
    "texto[0], texto[-1]"
   ]
  },
  {
   "cell_type": "code",
   "execution_count": null,
   "metadata": {},
   "outputs": [],
   "source": [
    "texto[2], texto[-3]"
   ]
  },
  {
   "cell_type": "markdown",
   "metadata": {
    "colab_type": "text",
    "id": "9-PDQlVFiWZd"
   },
   "source": [
    "<img src=\"img/index.png\" width=\"600\">"
   ]
  },
  {
   "cell_type": "code",
   "execution_count": null,
   "metadata": {
    "colab": {},
    "colab_type": "code",
    "id": "yEGPJC-DMcrg"
   },
   "outputs": [],
   "source": [
    "# Es posible acceder a los caracteres de una cadena de texto mediante el uso de la posición indexada\n",
    "cadena=\"Hola Mundo!\"\n",
    "cadena[5]"
   ]
  },
  {
   "cell_type": "markdown",
   "metadata": {},
   "source": [
    "<img src=\"img/slice.png\" width=\"600\">"
   ]
  },
  {
   "cell_type": "code",
   "execution_count": null,
   "metadata": {
    "colab": {},
    "colab_type": "code",
    "id": "xZWIkjmiMcrh"
   },
   "outputs": [],
   "source": [
    "# El primer valor corresponde a la posición indexada, mientras que el segundo al número de elementos.\n",
    "cadena[0:4]"
   ]
  },
  {
   "cell_type": "code",
   "execution_count": null,
   "metadata": {
    "colab": {},
    "colab_type": "code",
    "id": "SeCUX0dUMcrj"
   },
   "outputs": [],
   "source": [
    "cadena[5:11]"
   ]
  },
  {
   "cell_type": "code",
   "execution_count": null,
   "metadata": {
    "colab": {},
    "colab_type": "code",
    "id": "xgOkP1mtMcrl"
   },
   "outputs": [],
   "source": [
    "# A partir de la posición indexada 5, se traeran todos los caracteres hasta el final de la cadena.\n",
    "cadena[5:]"
   ]
  },
  {
   "cell_type": "code",
   "execution_count": null,
   "metadata": {
    "colab": {},
    "colab_type": "code",
    "id": "0lhmF3C_Mcrm"
   },
   "outputs": [],
   "source": [
    "# Desde el inicio de la cadena, se traeran los caracteres hasta el número 4.\n",
    "cadena[:4]"
   ]
  },
  {
   "cell_type": "code",
   "execution_count": null,
   "metadata": {
    "colab": {},
    "colab_type": "code",
    "id": "k7GzcuLoMcrn"
   },
   "outputs": [],
   "source": [
    "print(cadena[:4]+\" a todos!\")"
   ]
  },
  {
   "cell_type": "code",
   "execution_count": null,
   "metadata": {
    "colab": {},
    "colab_type": "code",
    "id": "ltDnHvTgMcrr"
   },
   "outputs": [],
   "source": [
    "print(\"Adios \" + cadena[5:10] + \" cruel :(\")"
   ]
  },
  {
   "cell_type": "code",
   "execution_count": null,
   "metadata": {
    "colab": {},
    "colab_type": "code",
    "id": "9dgyUQLAMcrs"
   },
   "outputs": [],
   "source": [
    "# Solo el último caracter\n",
    "cadena[-1]"
   ]
  },
  {
   "cell_type": "code",
   "execution_count": null,
   "metadata": {
    "colab": {},
    "colab_type": "code",
    "id": "meb1pGgvMcrt"
   },
   "outputs": [],
   "source": [
    "#Todo, excepto el último caracter\n",
    "cadena[:-1]"
   ]
  },
  {
   "cell_type": "code",
   "execution_count": null,
   "metadata": {
    "colab": {},
    "colab_type": "code",
    "id": "mGGmr0evMcru"
   },
   "outputs": [],
   "source": [
    "cadena[:-1]+cadena[-1]"
   ]
  },
  {
   "cell_type": "markdown",
   "metadata": {
    "colab_type": "text",
    "id": "PdrMYurhdWx5"
   },
   "source": [
    "##  4. Operaciones de busqueda en un string"
   ]
  },
  {
   "cell_type": "markdown",
   "metadata": {},
   "source": [
    "**Sintaxis básica en POO**\n",
    "\n",
    "------------------------------------------------------------------------------------------------------------\n",
    "\n",
    "                           objeto.metodo(argumentos)\n",
    "                \n",
    "                           objeto.atributo\n",
    "                \n",
    "------------------------------------------------------------------------------------------------------------              "
   ]
  },
  {
   "cell_type": "markdown",
   "metadata": {
    "colab_type": "text",
    "id": "vRjffZ5qdWx6"
   },
   "source": [
    "Realizar operaciones de búsqueda de un caracter o subcadena dentro de una cadena, pudiendo contabilizar cuantas veces se repite este carácter o determinar la posición en la cual se encuentra la subcadena dentro de la cadena es posible mediante los siguientes comandos.\n",
    "\n",
    "```Python\n",
    "\n",
    "```"
   ]
  },
  {
   "cell_type": "code",
   "execution_count": 1,
   "metadata": {
    "colab": {},
    "colab_type": "code",
    "id": "NnrVG7OTdWx6",
    "outputId": "9b5f5883-88c1-4d7d-d41c-cfa7d4fce383"
   },
   "outputs": [
    {
     "data": {
      "text/plain": [
       "11"
      ]
     },
     "execution_count": 1,
     "metadata": {},
     "output_type": "execute_result"
    }
   ],
   "source": [
    "cadena_3 = \"buscando a wally\".title()\n",
    "\n",
    "cadena_3.find(\"Wally\")"
   ]
  },
  {
   "cell_type": "markdown",
   "metadata": {
    "colab_type": "text",
    "id": "MS1cGsu8dWx8"
   },
   "source": [
    "EL comando *`find`* nos arroja un número que nos indica la posición indexada al primer caracter de Wally, es decir encontramos a Wally en el carácter que se ubica en la posición 11 dentro de la cadena 3. Otra opción es realizar una búsqueda de un subtexto en un tramo definido de la variable, mencionando además que cuando no se encuentra el carácter en el tramo definido, por defecto nos arroja el valor -1."
   ]
  },
  {
   "cell_type": "code",
   "execution_count": 8,
   "metadata": {
    "colab": {},
    "colab_type": "code",
    "id": "DJzvE9w9dWx8",
    "outputId": "f691e2fe-04cf-4c1d-9141-2a18eded9db3"
   },
   "outputs": [
    {
     "data": {
      "text/plain": [
       "-1"
      ]
     },
     "execution_count": 8,
     "metadata": {},
     "output_type": "execute_result"
    }
   ],
   "source": [
    "cadena_3.find(\"Wally\",0,11)"
   ]
  },
  {
   "cell_type": "code",
   "execution_count": 13,
   "metadata": {
    "colab": {},
    "colab_type": "code",
    "id": "edUuUhuhdWx-",
    "outputId": "2518ad42-74db-4169-a960-e5a0516753ec"
   },
   "outputs": [
    {
     "data": {
      "text/plain": [
       "11"
      ]
     },
     "execution_count": 13,
     "metadata": {},
     "output_type": "execute_result"
    }
   ],
   "source": [
    "cadena_3.find(\"Wally\",0,16)"
   ]
  },
  {
   "cell_type": "markdown",
   "metadata": {
    "colab_type": "text",
    "id": "fu7xjKpxdWyB"
   },
   "source": [
    "Podemos también contabilizar cuantas veces se encuentra un caracter o subcadena dentro de una cadena con el comando *`count`*. Y de igual modo que antes la contabilización es posible de realizar en un tramo definido del texto."
   ]
  },
  {
   "cell_type": "code",
   "execution_count": null,
   "metadata": {
    "colab": {},
    "colab_type": "code",
    "id": "k3xNr12KdWyB",
    "outputId": "cf3961a1-b752-45a7-c5e4-3165c47011a0"
   },
   "outputs": [],
   "source": [
    "cadena_4 = \"que fácil de encontrar\"\n",
    "\n",
    "cadena_4.count(\"e\")\n"
   ]
  },
  {
   "cell_type": "code",
   "execution_count": null,
   "metadata": {
    "colab": {},
    "colab_type": "code",
    "id": "wDo7xxeddWyE",
    "outputId": "37a2d572-67d9-4132-cda4-e64b130391ca"
   },
   "outputs": [],
   "source": [
    "cadena_4.count(\"e\",0,13)"
   ]
  },
  {
   "cell_type": "markdown",
   "metadata": {},
   "source": [
    "## Tipo de errores en Python"
   ]
  },
  {
   "cell_type": "markdown",
   "metadata": {},
   "source": [
    "Los errores más comunes son las siguientes:\n",
    "\n",
    "\n",
    "* **ImportError**: Error al realizar una importación de una librería o modulo.\n",
    "\n",
    "* **IndexError**: Se trata de acceder a un indice fuera de rango en una lista o tupla.\n",
    "\n",
    "* **KeyError**: Se trata de acceder a una llave que no existe en un diccionario.\n",
    "\n",
    "* **NameError**: Se trata de utilizar una variable no declarada.\n",
    "\n",
    "* **SyntaxError**: La sintaxis no corresponde a las reglas del lenguaje.\n",
    "\n",
    "* **TypeError**: Se trata de llamar a una función utilizando argumentos de tipo que no corresponden.\n",
    "\n",
    "* **ValueError**: Se trata de llamar a una función utilizando argumentos de tipo correcto pero valor erroneo.\n",
    "\n",
    "* **IdentationError**: Se ha creado un bloque de control, pero sin respetar la identación del mismo."
   ]
  }
 ],
 "metadata": {
  "colab": {
   "collapsed_sections": [],
   "name": "Introducción  a Python.ipynb",
   "provenance": []
  },
  "kernelspec": {
   "display_name": "Python 3",
   "language": "python",
   "name": "python3"
  },
  "language_info": {
   "codemirror_mode": {
    "name": "ipython",
    "version": 3
   },
   "file_extension": ".py",
   "mimetype": "text/x-python",
   "name": "python",
   "nbconvert_exporter": "python",
   "pygments_lexer": "ipython3",
   "version": "3.7.3"
  }
 },
 "nbformat": 4,
 "nbformat_minor": 1
}
