{
 "cells": [
  {
   "cell_type": "markdown",
   "metadata": {},
   "source": [
    "# Conceptos de Programación Orientada a Objetos"
   ]
  },
  {
   "cell_type": "markdown",
   "metadata": {},
   "source": [
    "<img src=\"img/poo.jpg\" width=\"800\">"
   ]
  },
  {
   "cell_type": "markdown",
   "metadata": {
    "colab_type": "text",
    "id": "KB0GIS4acQJ2"
   },
   "source": [
    "#  Lenguaje Orientado a Objetos"
   ]
  },
  {
   "cell_type": "markdown",
   "metadata": {
    "colab_type": "text",
    "id": "4jhvcgbbcQJ3"
   },
   "source": [
    "La programación orientada a objetos es un paradigma de programación que busca representar entidades u objetos agrupando datos y métodos que puedan describir sus características y comportamiento."
   ]
  },
  {
   "cell_type": "markdown",
   "metadata": {
    "colab_type": "text",
    "id": "xZgP6T4mcQJ-"
   },
   "source": [
    "## Programación Orientada a Objetos"
   ]
  },
  {
   "cell_type": "markdown",
   "metadata": {
    "colab_type": "text",
    "id": "fI7B1951cQJ_"
   },
   "source": [
    "La programación orientada a objetos es un enfoque de programación que combina **datos** y acciones asociadas (**métodos**) en estructuras lógicas (**objetos**). Este enfoque aumenta la capacidad para administrar la complejidad del software, lo cual resulta especialmente importante cuando se desarrollan y mantienen aplicaciones y estructuras de datos de gran tamaño. (MATLAB, 2018)."
   ]
  },
  {
   "cell_type": "markdown",
   "metadata": {},
   "source": [
    "<img src=\"img/varobj.png\" width=\"800\">"
   ]
  },
  {
   "cell_type": "markdown",
   "metadata": {
    "colab_type": "text",
    "id": "JoJMI4BXcQJ_"
   },
   "source": [
    "**Ventajas:**\n",
    "* Los componentes se pueden reutilizar\n",
    "* Facilidad de mantenimiento y modificación de los objetos existentes.\n",
    "* Estructura modular\n",
    "* Facilita la creación de aplicaciones de interfaz con el usuario (GUI).\n",
    "* Excelente para el analisis de grandes bases de datos\n",
    "* Ejemplos: C++, C#, VB.NET, Java, **Python**"
   ]
  },
  {
   "cell_type": "markdown",
   "metadata": {
    "colab_type": "text",
    "id": "v2gm-ORmcQKA"
   },
   "source": [
    "Metodología de desarrollo de aplicaciones en la cual éstas se organizan como colecciones cooperativas de objetos, cada uno de los cuales representan una instancia de alguna clase, y cuyas clases son miembros de jerarquías de clases unidas mediante relaciones de herencia. (Grady Booch)"
   ]
  },
  {
   "cell_type": "markdown",
   "metadata": {
    "colab_type": "text",
    "id": "7CLeFBlTcQKB"
   },
   "source": [
    "##  Clase"
   ]
  },
  {
   "cell_type": "markdown",
   "metadata": {
    "colab_type": "text",
    "id": "2hi90peocQKC"
   },
   "source": [
    "La clase es un modelo o prototipo que define las variables (características compartidas) y métodos comunes a todos los objetos de cierta clase. También se puede decir que una clase es una plantilla genérica para un conjunto de objetos de similares características. **Por convención las clases empiezan en Mayúscula y en singular.**"
   ]
  },
  {
   "cell_type": "markdown",
   "metadata": {
    "colab_type": "text",
    "id": "WuRPfCb8cQKD"
   },
   "source": [
    "**Ejemplo:**"
   ]
  },
  {
   "cell_type": "markdown",
   "metadata": {
    "colab_type": "text",
    "id": "zf3V_dJZcQKE"
   },
   "source": [
    "<img src=\"img/carro.png\" width=\"700\">"
   ]
  },
  {
   "cell_type": "markdown",
   "metadata": {
    "colab_type": "text",
    "id": "vA7NeNMDcQKF"
   },
   "source": [
    "Una clase es un nuevo tipo de dato, contiene: \n",
    "*\tOtros datos (que pueden ser de cualquier tipo, se le conocen como atributos)\n",
    "*\tFunciones, que operan sobre esos datos. (También conocidas como métodos)"
   ]
  },
  {
   "cell_type": "markdown",
   "metadata": {
    "colab_type": "text",
    "id": "xmkHKm8qcQKG"
   },
   "source": [
    "Por lo tanto, **una clase es un generadores de objetos**. Es una estructura que **se usa como plantilla para crear objetos (dentro de una clase)**. Esta plantilla describe tanto el estado como el comportamiento de los objetos que se crean a partir de ella. El estado es mantenido vía los atributos y el comportamiento vía los métodos."
   ]
  },
  {
   "cell_type": "code",
   "execution_count": null,
   "metadata": {
    "colab": {},
    "colab_type": "code",
    "id": "4KUySaSocQKH"
   },
   "outputs": [],
   "source": [
    "# En Python, las clases se definen mediante la palabra reservada class.\n",
    "\n",
    "class Nueva_clase (object):\n",
    "    #Código dentro de la clase (métodos y atributos)\n",
    "    pass\n",
    "  \n",
    "#Debido a que se trata de una clase vacia, es necesario colocar la palabra reservada \"pass\""
   ]
  },
  {
   "cell_type": "markdown",
   "metadata": {
    "colab_type": "text",
    "id": "nNXEnKR8cQKK"
   },
   "source": [
    "Donde:\n",
    "\n",
    "* *Código_de_ la_ clase* incluye la declaración de métodos y atributos\n",
    "* *objetc* es la clase base para cualquier objeto creado en Python\n"
   ]
  },
  {
   "cell_type": "markdown",
   "metadata": {
    "colab_type": "text",
    "id": "5dxzop6SeK9A"
   },
   "source": [
    "Esta sintaxis funciona incluso si no se utiliza la clase base *object*, o si no se colocan los parentesis():"
   ]
  },
  {
   "cell_type": "code",
   "execution_count": null,
   "metadata": {
    "colab": {},
    "colab_type": "code",
    "id": "3I-AHFpseU0B"
   },
   "outputs": [],
   "source": [
    "class Persona:\n",
    "    pass\n",
    "\n",
    "class Objeto:\n",
    "    pass\n",
    "\n",
    "class Antena:\n",
    "    pass\n",
    "\n",
    "class Pelo:\n",
    "    pass\n",
    "\n",
    "class Ojo:\n",
    "    pass"
   ]
  },
  {
   "cell_type": "markdown",
   "metadata": {
    "colab_type": "text",
    "id": "EEkbY51TN8s8"
   },
   "source": [
    "                **     class Persona     =     class Persona()     =     class Persona(object)     **"
   ]
  },
  {
   "cell_type": "markdown",
   "metadata": {
    "colab_type": "text",
    "id": "34rCzW6jN8s9"
   },
   "source": [
    "Cuando ejecutamos el método type, nos indicará el tipo de objeto con el que se está trabajando. Para el caso de la clases, la respuesta es type."
   ]
  },
  {
   "cell_type": "code",
   "execution_count": null,
   "metadata": {
    "colab": {},
    "colab_type": "code",
    "id": "0m_uVue3N8s9",
    "outputId": "9d8eed80-756c-4b82-e12a-d3dcaa3ad644"
   },
   "outputs": [],
   "source": [
    "type(Persona)"
   ]
  },
  {
   "cell_type": "code",
   "execution_count": null,
   "metadata": {
    "colab": {
     "base_uri": "https://localhost:8080/",
     "height": 35
    },
    "colab_type": "code",
    "executionInfo": {
     "elapsed": 1460,
     "status": "ok",
     "timestamp": 1567520008702,
     "user": {
      "displayName": "Edgar Avalos Gauna",
      "photoUrl": "https://lh3.googleusercontent.com/a-/AAuE7mBlAgNUstu0sLee83F6yPWlOeuhkSOIQBP1BMW9=s64",
      "userId": "15081544959551912541"
     },
     "user_tz": 300
    },
    "id": "H7XluTHDg0AZ",
    "outputId": "89f5a7f1-4b1c-428b-d2fd-be9c66bae0f7"
   },
   "outputs": [],
   "source": [
    "print(type(Persona))"
   ]
  },
  {
   "cell_type": "code",
   "execution_count": null,
   "metadata": {
    "colab": {
     "base_uri": "https://localhost:8080/",
     "height": 35
    },
    "colab_type": "code",
    "executionInfo": {
     "elapsed": 1453,
     "status": "ok",
     "timestamp": 1567520008703,
     "user": {
      "displayName": "Edgar Avalos Gauna",
      "photoUrl": "https://lh3.googleusercontent.com/a-/AAuE7mBlAgNUstu0sLee83F6yPWlOeuhkSOIQBP1BMW9=s64",
      "userId": "15081544959551912541"
     },
     "user_tz": 300
    },
    "id": "tCAIoQ7jeBnK",
    "outputId": "40328c32-2de1-4ee2-a256-fa7482d25e70"
   },
   "outputs": [],
   "source": [
    "print(type(Objeto))"
   ]
  },
  {
   "cell_type": "markdown",
   "metadata": {
    "colab_type": "text",
    "id": "aunrbH1-cQKL"
   },
   "source": [
    "## 1.2 Instancia de una clase: Objeto"
   ]
  },
  {
   "cell_type": "markdown",
   "metadata": {
    "colab_type": "text",
    "id": "czpX65TfcQKM"
   },
   "source": [
    "Una instancia u objeto es la implementación particular de una clase. Si tenemos la clase orca, una instancia puede ser Willy. Es posible crear varias instancias independientes una de otra (como Shamu que es independiente de Willy).\n",
    "Un objeto es una unidad que engloba en sí mismo características y comportamiento necesarias para procesar información. Cada objeto contiene datos y funciones. Y un programa se construye como un conjunto de objetos, o como un único objeto.\n",
    "Python está completamente orientado a objetos: puede definir sus propias clases, heredar de las que usted defina o de las incorporadas en el lenguaje, e instanciar las clases que haya definido. "
   ]
  },
  {
   "cell_type": "markdown",
   "metadata": {
    "colab_type": "text",
    "id": "GVViKJADcQKM"
   },
   "source": [
    "Siguiendo con el ejemplo de la clase Vehículo, si nosotros quisieramos describir un Vehículo en particular, podemos hacer referncia a la clase ya mencionada previamente, y adecuandola a nuestro caso particular."
   ]
  },
  {
   "cell_type": "markdown",
   "metadata": {
    "colab_type": "text",
    "id": "NawHq9vzcQKN"
   },
   "source": [
    "Carro BMW Características:\n",
    "*\t4 Ruedas Micheline\n",
    "*\tMotor BMW\n",
    "*\tCaja de cambios de 7 Velocidades\n",
    "*\tColor Azul\n",
    "*\t2 Espejos"
   ]
  },
  {
   "cell_type": "markdown",
   "metadata": {
    "colab_type": "text",
    "id": "kwf0kIVDcQKO"
   },
   "source": [
    "Para entender mejor los conceptos hasta ahora vistos, usemos la clase Persona que se creo con anterioridad para crear una instancia de la misma:"
   ]
  },
  {
   "cell_type": "code",
   "execution_count": null,
   "metadata": {
    "colab": {},
    "colab_type": "code",
    "id": "J5EiAJW0gOzO"
   },
   "outputs": [],
   "source": [
    "Edgar=Persona() #El objeto Edgar es una instancia de la clase Persona"
   ]
  },
  {
   "cell_type": "markdown",
   "metadata": {
    "colab_type": "text",
    "id": "YyMtabwlN8tI"
   },
   "source": [
    "                **     Edgar=Persona()     es diferente a     Edgar=Persona     **\n",
    "                          <Objeto>                           <Copia de clase>"
   ]
  },
  {
   "cell_type": "code",
   "execution_count": null,
   "metadata": {
    "colab": {
     "base_uri": "https://localhost:8080/",
     "height": 35
    },
    "colab_type": "code",
    "executionInfo": {
     "elapsed": 1439,
     "status": "ok",
     "timestamp": 1567520008704,
     "user": {
      "displayName": "Edgar Avalos Gauna",
      "photoUrl": "https://lh3.googleusercontent.com/a-/AAuE7mBlAgNUstu0sLee83F6yPWlOeuhkSOIQBP1BMW9=s64",
      "userId": "15081544959551912541"
     },
     "user_tz": 300
    },
    "id": "qXgOOGA9gb26",
    "outputId": "07c16a96-0c85-4778-a339-bd39c078c024"
   },
   "outputs": [],
   "source": [
    "print(type(Edgar))"
   ]
  },
  {
   "cell_type": "code",
   "execution_count": null,
   "metadata": {
    "colab": {},
    "colab_type": "code",
    "id": "h5UvBCBSN8tL",
    "outputId": "e65ef7ba-5f7a-4f71-befc-dd875136083b"
   },
   "outputs": [],
   "source": [
    "isinstance(Edgar,Persona)"
   ]
  },
  {
   "cell_type": "code",
   "execution_count": null,
   "metadata": {
    "colab": {},
    "colab_type": "code",
    "id": "kSH1QcWQN8tN",
    "outputId": "fba4d7c3-0362-478c-f58e-ae373ca2fb53"
   },
   "outputs": [],
   "source": [
    "Edgar2=Persona\n",
    "print(type(Edgar2))"
   ]
  },
  {
   "cell_type": "code",
   "execution_count": null,
   "metadata": {
    "colab": {},
    "colab_type": "code",
    "id": "q3IPFyNGN8tP",
    "outputId": "60cbf0c9-a264-4dce-bcb7-c50698e70dfa"
   },
   "outputs": [],
   "source": [
    "isinstance(Edgar2,Persona)"
   ]
  },
  {
   "cell_type": "markdown",
   "metadata": {
    "colab_type": "text",
    "id": "1qINHGzHhm5o"
   },
   "source": [
    "Debido a que la clase se encuentra vacia no es posible obtener mayor información. Es por ello que será necesario modificarla para entonces poder trabajar con esa clase. Esto se hace simplemente al agregar las lineas de código que se consideren pertinentes."
   ]
  },
  {
   "cell_type": "markdown",
   "metadata": {
    "colab_type": "text",
    "id": "oBDw9f3QcQKY"
   },
   "source": [
    "##  Atributos y Métodos"
   ]
  },
  {
   "cell_type": "markdown",
   "metadata": {
    "colab_type": "text",
    "id": "qqJzZKx0cQKY"
   },
   "source": [
    "### Atributos"
   ]
  },
  {
   "cell_type": "markdown",
   "metadata": {
    "colab_type": "text",
    "id": "577BjYeXjUaV"
   },
   "source": [
    "Las variables incluidas en una clase se denominan atributos. Cada objeto tiene sus atributos, como por ejemplo peso. **Willy** tendrá un peso distinto de **Shamu**. Aunque ambas instancias pertenecen a la misma clase (**orca**). Comparten el tipo de atributo. Podríamos tener la **clase perro** con instancias **Lassie y Laika** con el atributo color_de_pelo que no será compartido con las instancias de la clase orca"
   ]
  },
  {
   "cell_type": "markdown",
   "metadata": {
    "colab_type": "text",
    "id": "mmSoqPDMN8tV"
   },
   "source": [
    "Python **no permite el uso de variables vacias**, es por ello que es necesario inicializar los atributos asignando un valor arbitrario para poder ser utilizados."
   ]
  },
  {
   "cell_type": "code",
   "execution_count": null,
   "metadata": {
    "colab": {},
    "colab_type": "code",
    "id": "lpQpW7G2N8tW"
   },
   "outputs": [],
   "source": [
    "class Persona:\n",
    "    nombre=\"\" #Variable inicializada"
   ]
  },
  {
   "cell_type": "code",
   "execution_count": null,
   "metadata": {
    "colab": {},
    "colab_type": "code",
    "id": "YkxEy9gJcQKZ"
   },
   "outputs": [],
   "source": [
    "# El siguiente paso será modificar dicha clase y agregar más atributos.\n",
    "class Persona:\n",
    "    #Clase que representa una Persona\n",
    "    edad = 32\n",
    "    nombre = \"Edgar\"\n",
    "    apellido = \"Avalos\"\n",
    "    sexo = \"M\""
   ]
  },
  {
   "cell_type": "code",
   "execution_count": null,
   "metadata": {
    "colab": {
     "base_uri": "https://localhost:8080/",
     "height": 35
    },
    "colab_type": "code",
    "executionInfo": {
     "elapsed": 1430,
     "status": "ok",
     "timestamp": 1567520008704,
     "user": {
      "displayName": "Edgar Avalos Gauna",
      "photoUrl": "https://lh3.googleusercontent.com/a-/AAuE7mBlAgNUstu0sLee83F6yPWlOeuhkSOIQBP1BMW9=s64",
      "userId": "15081544959551912541"
     },
     "user_tz": 300
    },
    "id": "QU-rII2pcQKc",
    "outputId": "8e5dcae0-45b5-4edc-d787-761c4fe03551"
   },
   "outputs": [],
   "source": [
    "Persona.apellido"
   ]
  },
  {
   "cell_type": "code",
   "execution_count": null,
   "metadata": {
    "colab": {},
    "colab_type": "code",
    "id": "Zj12ANVAeBnc"
   },
   "outputs": [],
   "source": [
    "class Antena():\n",
    "    color = \"Negro\"\n",
    "    longitud = \"2 cm\"\n",
    "    \n",
    "class Pelo():\n",
    "    color = \"Gris\"\n",
    "    textura = \"Aspero\"\n",
    "    \n",
    "class Ojo():\n",
    "    forma = \"Redondo\"\n",
    "    color = \"Verde\"\n",
    "    tamanio = \"Chico\""
   ]
  },
  {
   "cell_type": "code",
   "execution_count": null,
   "metadata": {
    "colab": {
     "base_uri": "https://localhost:8080/",
     "height": 35
    },
    "colab_type": "code",
    "executionInfo": {
     "elapsed": 387,
     "status": "ok",
     "timestamp": 1567520542981,
     "user": {
      "displayName": "Edgar Avalos Gauna",
      "photoUrl": "https://lh3.googleusercontent.com/a-/AAuE7mBlAgNUstu0sLee83F6yPWlOeuhkSOIQBP1BMW9=s64",
      "userId": "15081544959551912541"
     },
     "user_tz": 300
    },
    "id": "Iz2fZHLXeBnf",
    "outputId": "8ace1d08-3047-4c8e-e803-1327434a5f3e"
   },
   "outputs": [],
   "source": [
    "Antena.color"
   ]
  },
  {
   "cell_type": "markdown",
   "metadata": {
    "colab_type": "text",
    "id": "HHzBGYcmN8ti"
   },
   "source": [
    "Para modificar el valor de un atribuo, simplemente hay que hacer el llamado del objeto:"
   ]
  },
  {
   "cell_type": "code",
   "execution_count": null,
   "metadata": {
    "colab": {},
    "colab_type": "code",
    "id": "_lOSHkCWN8ti",
    "outputId": "8279a37f-e12c-420b-8be8-ecdc883d5f39"
   },
   "outputs": [],
   "source": [
    "Antena.longitud=\"1 cm\"\n",
    "Antena.longitud"
   ]
  },
  {
   "cell_type": "markdown",
   "metadata": {
    "colab_type": "text",
    "id": "edHVO1D9N8tm"
   },
   "source": [
    "### Actividad\n",
    "\n",
    "* Crear 5 clases vacias relacionadas al concepto de universidad\n",
    "* Reescribir las 5 clases, asignando un atributo diferente a cada una de ellas.\n",
    "* Ya creadas las clases, asignar 1 atribuo mas a cada una, sin la necesidad de reescribir el código"
   ]
  },
  {
   "cell_type": "markdown",
   "metadata": {
    "colab_type": "text",
    "id": "0cXf3yLhN8to"
   },
   "source": [
    "## Composición:"
   ]
  },
  {
   "cell_type": "markdown",
   "metadata": {
    "colab_type": "text",
    "id": "0KWAvgEtN8to"
   },
   "source": [
    "Es posible, que una clase adquiera los atributos de otra clase por medio de la instanciación:"
   ]
  },
  {
   "cell_type": "code",
   "execution_count": null,
   "metadata": {
    "colab": {},
    "colab_type": "code",
    "id": "B4Pc9vzmeBnk"
   },
   "outputs": [],
   "source": [
    "# La clase Bicho adquirirá todos los atributos de las otras clases, por medio de la instanciación.\n",
    "\n",
    "class Bicho():\n",
    "    aspecto = \"Feo\"\n",
    "    antenas = Antena() # Instancia de Antena\n",
    "    ojos = Ojo() # Instancia de Ojo\n",
    "    pelos = Pelo() # Instancia de Pelo"
   ]
  },
  {
   "cell_type": "code",
   "execution_count": null,
   "metadata": {
    "colab": {},
    "colab_type": "code",
    "id": "nE-Xq_jHN8tq",
    "outputId": "6989c809-5ada-4e88-d571-01321df9f12e"
   },
   "outputs": [],
   "source": [
    "# Comprobamos que Bicho no sea una subclase:\n",
    "issubclass(Bicho,Antena)"
   ]
  },
  {
   "cell_type": "code",
   "execution_count": null,
   "metadata": {
    "colab": {
     "base_uri": "https://localhost:8080/",
     "height": 35
    },
    "colab_type": "code",
    "executionInfo": {
     "elapsed": 1402,
     "status": "ok",
     "timestamp": 1567520008706,
     "user": {
      "displayName": "Edgar Avalos Gauna",
      "photoUrl": "https://lh3.googleusercontent.com/a-/AAuE7mBlAgNUstu0sLee83F6yPWlOeuhkSOIQBP1BMW9=s64",
      "userId": "15081544959551912541"
     },
     "user_tz": 300
    },
    "id": "3Np6y26aeBnq",
    "outputId": "9b21fe87-0260-4066-b6b8-46a7c0bb907c",
    "scrolled": true
   },
   "outputs": [],
   "source": [
    "Bicho.antenas.color"
   ]
  },
  {
   "cell_type": "code",
   "execution_count": null,
   "metadata": {
    "colab": {
     "base_uri": "https://localhost:8080/",
     "height": 35
    },
    "colab_type": "code",
    "executionInfo": {
     "elapsed": 1392,
     "status": "ok",
     "timestamp": 1567520008707,
     "user": {
      "displayName": "Edgar Avalos Gauna",
      "photoUrl": "https://lh3.googleusercontent.com/a-/AAuE7mBlAgNUstu0sLee83F6yPWlOeuhkSOIQBP1BMW9=s64",
      "userId": "15081544959551912541"
     },
     "user_tz": 300
    },
    "id": "refqiokgeBnt",
    "outputId": "13dc559a-a1e4-4ffe-eabc-d2f1dede4ee1"
   },
   "outputs": [],
   "source": [
    "Bicho.antenas.longitud"
   ]
  },
  {
   "cell_type": "code",
   "execution_count": null,
   "metadata": {
    "colab": {
     "base_uri": "https://localhost:8080/",
     "height": 35
    },
    "colab_type": "code",
    "executionInfo": {
     "elapsed": 1382,
     "status": "ok",
     "timestamp": 1567520008707,
     "user": {
      "displayName": "Edgar Avalos Gauna",
      "photoUrl": "https://lh3.googleusercontent.com/a-/AAuE7mBlAgNUstu0sLee83F6yPWlOeuhkSOIQBP1BMW9=s64",
      "userId": "15081544959551912541"
     },
     "user_tz": 300
    },
    "id": "goeqV39PeBnv",
    "outputId": "7f2aafc2-e070-4d41-96a3-3f4e76a675c9"
   },
   "outputs": [],
   "source": [
    "Bicho.aspecto"
   ]
  },
  {
   "cell_type": "code",
   "execution_count": null,
   "metadata": {
    "colab": {
     "base_uri": "https://localhost:8080/",
     "height": 35
    },
    "colab_type": "code",
    "executionInfo": {
     "elapsed": 1373,
     "status": "ok",
     "timestamp": 1567520008707,
     "user": {
      "displayName": "Edgar Avalos Gauna",
      "photoUrl": "https://lh3.googleusercontent.com/a-/AAuE7mBlAgNUstu0sLee83F6yPWlOeuhkSOIQBP1BMW9=s64",
      "userId": "15081544959551912541"
     },
     "user_tz": 300
    },
    "id": "h1QOWuU9eBny",
    "outputId": "69b5b910-2949-405e-ca0b-64a0c6bab800"
   },
   "outputs": [],
   "source": [
    "print(type(Bicho))"
   ]
  },
  {
   "cell_type": "markdown",
   "metadata": {
    "colab_type": "text",
    "id": "-q7KjoA9N8uE"
   },
   "source": [
    "### Actividad\n",
    "\n",
    "Crear una nueva clase, la cuál reciba los atributos de las 5 clases anteriores por medio del método de instanciación."
   ]
  },
  {
   "cell_type": "code",
   "execution_count": null,
   "metadata": {
    "colab": {},
    "colab_type": "code",
    "id": "5-t6ujWLcQKe"
   },
   "outputs": [],
   "source": [
    "#Recordatorio:\n",
    "\n",
    "Edgar=Persona()     #Instancia de clase\n",
    "Prueba=Persona      #Copia de clase"
   ]
  },
  {
   "cell_type": "markdown",
   "metadata": {
    "colab_type": "text",
    "id": "ccltLsG4N8uG"
   },
   "source": [
    "### Atributos especiales"
   ]
  },
  {
   "cell_type": "markdown",
   "metadata": {
    "colab_type": "text",
    "id": "QNQn_8G7cQKk"
   },
   "source": [
    "**Si el nombre de un atributo esta encerrado entre dobles guiones bajos son atributos especiales.** Los atributos generados de forma manual aparecerán al final de la lista únicmanete entre comillas. Estos atributos se utilizan para definir comportamientos básicos de un objeto y son comunes con otras clases."
   ]
  },
  {
   "cell_type": "code",
   "execution_count": null,
   "metadata": {
    "colab": {
     "base_uri": "https://localhost:8080/",
     "height": 35
    },
    "colab_type": "code",
    "executionInfo": {
     "elapsed": 1351,
     "status": "ok",
     "timestamp": 1567520008709,
     "user": {
      "displayName": "Edgar Avalos Gauna",
      "photoUrl": "https://lh3.googleusercontent.com/a-/AAuE7mBlAgNUstu0sLee83F6yPWlOeuhkSOIQBP1BMW9=s64",
      "userId": "15081544959551912541"
     },
     "user_tz": 300
    },
    "id": "grDDZFlfcQKk",
    "outputId": "cb1fe93b-3b34-4a01-ecc5-2617ce8e2564"
   },
   "outputs": [],
   "source": [
    "#__name__, da el nombre de la clase asociada. Esto es similar al método __class__ que se genera en las instancias.\n",
    "Prueba.__name__"
   ]
  },
  {
   "cell_type": "code",
   "execution_count": null,
   "metadata": {
    "colab": {},
    "colab_type": "code",
    "id": "Va5t8fZSN8uJ",
    "outputId": "4ae33296-b327-4da4-fe39-ed6e8375f0c4"
   },
   "outputs": [],
   "source": [
    "Edgar.__class__  #El atributo especial __class__ nos indicará la clase generadora del objeto en cuestión"
   ]
  },
  {
   "cell_type": "code",
   "execution_count": null,
   "metadata": {
    "colab": {},
    "colab_type": "code",
    "id": "IwhOL0ehN8uK"
   },
   "outputs": [],
   "source": [
    "#Edgar.__name__"
   ]
  },
  {
   "cell_type": "code",
   "execution_count": null,
   "metadata": {
    "colab": {},
    "colab_type": "code",
    "id": "gEoajfFnN8uV",
    "outputId": "25f80043-1215-47bf-d713-9066ebbf0a77"
   },
   "outputs": [],
   "source": [
    "Prueba.__class__ #La respuesta type nos indica que Prueba es una copia de la clase y no una instancia."
   ]
  },
  {
   "cell_type": "markdown",
   "metadata": {
    "colab_type": "text",
    "id": "FJdVUbTbcQKn"
   },
   "source": [
    "**Los atributos especiales están escondidos y están relacionados con la encapsulación**"
   ]
  },
  {
   "cell_type": "markdown",
   "metadata": {
    "colab_type": "text",
    "id": "8iOf8kK5N8ub"
   },
   "source": [
    "Para obtener ayuda con respecto a un objeto, es posible usar el método **help()**"
   ]
  },
  {
   "cell_type": "code",
   "execution_count": null,
   "metadata": {
    "colab": {},
    "colab_type": "code",
    "id": "O62k4QHWN8ub",
    "outputId": "429e920a-a3cf-45ee-c078-3cadeed83e87"
   },
   "outputs": [],
   "source": [
    "help(Edgar)"
   ]
  },
  {
   "cell_type": "markdown",
   "metadata": {
    "colab_type": "text",
    "id": "zt9YKgX6cQK2"
   },
   "source": [
    "### Métodos"
   ]
  },
  {
   "cell_type": "markdown",
   "metadata": {
    "colab_type": "text",
    "id": "TNFYjoD8mPRU"
   },
   "source": [
    "Los métodos son funciones definidas por el programador que darán los comportamientos del objeto. Representan acciones propias que solo puede llevar acabo el objeto (y no otro). Por ello para su creación es necesario utilizar la palabra reservada **def**, esto se hace mediante la siguiente sintaxis:\n",
    "\n",
    "------------------------------------------------------------------------------------------------------------------------\n",
    "\n",
    "                          def + nombre del método + (self, atributos del método):\n",
    "                          \n",
    "------------------------------------------------------------------------------------------------------------------------\n",
    "\n",
    "La palabra **self** es un argumento implicito indicando que el objeto hace referencia así mismo. Este método implicito nos permite asignar métodos y atributos a la clase u objeto. El atributo self no puede ser llamado solo y no producirá resultados."
   ]
  },
  {
   "cell_type": "code",
   "execution_count": null,
   "metadata": {
    "colab": {},
    "colab_type": "code",
    "id": "PfNlPmAtN8uy"
   },
   "outputs": [],
   "source": [
    "class Metodo1:\n",
    "    def iniciar(self):\n",
    "        return(\"Esta es mi primera clase con un método\")"
   ]
  },
  {
   "cell_type": "code",
   "execution_count": null,
   "metadata": {
    "colab": {},
    "colab_type": "code",
    "id": "SK1PoE3oN8u0",
    "outputId": "3de4058b-cc51-4013-bc7b-4b59d982b08c"
   },
   "outputs": [],
   "source": [
    "obj1=Metodo1()\n",
    "obj1.iniciar()"
   ]
  },
  {
   "cell_type": "code",
   "execution_count": null,
   "metadata": {
    "colab": {},
    "colab_type": "code",
    "id": "tgFHnvSSN8u6"
   },
   "outputs": [],
   "source": [
    "class Saludo:\n",
    "    def saludar(self,x):\n",
    "        if x==True:\n",
    "            print(\"Hola\")\n",
    "        else:\n",
    "            print(\"Adios\")"
   ]
  },
  {
   "cell_type": "code",
   "execution_count": null,
   "metadata": {
    "colab": {},
    "colab_type": "code",
    "id": "qtWARmKrN8u7"
   },
   "outputs": [],
   "source": [
    "hello=Saludo()"
   ]
  },
  {
   "cell_type": "code",
   "execution_count": null,
   "metadata": {
    "colab": {},
    "colab_type": "code",
    "id": "BHzKX2ZrN8u9",
    "outputId": "1185ba60-a703-4b00-b859-e7de5f88ddba"
   },
   "outputs": [],
   "source": [
    "hello.saludar(\"si\")"
   ]
  },
  {
   "cell_type": "code",
   "execution_count": null,
   "metadata": {
    "colab": {},
    "colab_type": "code",
    "id": "AV5yE3NpN8u-",
    "outputId": "4487ef59-1530-4c3b-bbee-bf6da98b6305"
   },
   "outputs": [],
   "source": [
    "hello.saludar(0)"
   ]
  },
  {
   "cell_type": "code",
   "execution_count": null,
   "metadata": {
    "colab": {},
    "colab_type": "code",
    "id": "lIl7VsmQN8vA",
    "outputId": "4a858edb-c388-4819-e2a2-ec502b7b55cf"
   },
   "outputs": [],
   "source": [
    "hello.saludar(True) #Por ser variable boleana, el valor de 1 daría la misma respuesta que con True"
   ]
  },
  {
   "cell_type": "code",
   "execution_count": null,
   "metadata": {
    "colab": {},
    "colab_type": "code",
    "id": "7rFNTNmuN8vB",
    "outputId": "ac3e9bcf-2c84-44ad-bcbe-0f3041267663",
    "scrolled": true
   },
   "outputs": [],
   "source": [
    "hello.saludar(1)"
   ]
  },
  {
   "cell_type": "markdown",
   "metadata": {
    "colab_type": "text",
    "id": "79G07hvmN8vY"
   },
   "source": [
    "## Creando clases mediante un constructor"
   ]
  },
  {
   "cell_type": "markdown",
   "metadata": {
    "colab_type": "text",
    "id": "MOU4z3WnoxxZ"
   },
   "source": [
    "Para poder implementar tanto atributos como variables dentro de una clase, es recomendable utilizar un constructor. En el caso de python es la palabra reservada **__init__** y se utiliza como si se estuviera definiendo una función:"
   ]
  },
  {
   "cell_type": "code",
   "execution_count": null,
   "metadata": {
    "colab": {},
    "colab_type": "code",
    "id": "xzlvCOI8mrA_"
   },
   "outputs": [],
   "source": [
    "class Persona:\n",
    "    def __init__(self, nombre, apellido, edad, sexo):\n",
    "        self.nombre = nombre\n",
    "        self.edad = edad\n",
    "        self.apellido = apellido\n",
    "        self.sexo = sexo"
   ]
  },
  {
   "cell_type": "code",
   "execution_count": null,
   "metadata": {
    "colab": {
     "base_uri": "https://localhost:8080/",
     "height": 35
    },
    "colab_type": "code",
    "executionInfo": {
     "elapsed": 1409,
     "status": "ok",
     "timestamp": 1567525557001,
     "user": {
      "displayName": "Edgar Avalos Gauna",
      "photoUrl": "https://lh3.googleusercontent.com/a-/AAuE7mBlAgNUstu0sLee83F6yPWlOeuhkSOIQBP1BMW9=s64",
      "userId": "15081544959551912541"
     },
     "user_tz": 300
    },
    "id": "FiJv61aWy3y-",
    "outputId": "b4b59b17-4e04-46b9-a9e5-3b8dd849001e"
   },
   "outputs": [],
   "source": [
    "persona_1=Persona(\"Edgar\", \"Avalos\", 32, \"M\")\n",
    "print(vars(persona_1))"
   ]
  },
  {
   "cell_type": "code",
   "execution_count": null,
   "metadata": {
    "colab": {},
    "colab_type": "code",
    "id": "0138YwQfzvKV"
   },
   "outputs": [],
   "source": [
    "### Crearemos otra instancia de la clase Persona"
   ]
  },
  {
   "cell_type": "code",
   "execution_count": null,
   "metadata": {
    "colab": {},
    "colab_type": "code",
    "id": "_aHfoSF_N8ve"
   },
   "outputs": [],
   "source": [
    "persona_2=Persona(\"Edgar\", \"Avalos\", 32, \"M\")"
   ]
  },
  {
   "cell_type": "code",
   "execution_count": null,
   "metadata": {
    "colab": {
     "base_uri": "https://localhost:8080/",
     "height": 55
    },
    "colab_type": "code",
    "executionInfo": {
     "elapsed": 331,
     "status": "ok",
     "timestamp": 1567525750892,
     "user": {
      "displayName": "Edgar Avalos Gauna",
      "photoUrl": "https://lh3.googleusercontent.com/a-/AAuE7mBlAgNUstu0sLee83F6yPWlOeuhkSOIQBP1BMW9=s64",
      "userId": "15081544959551912541"
     },
     "user_tz": 300
    },
    "id": "LXeOl_fR0JR-",
    "outputId": "e6739cd5-4927-4cc8-e423-966980f8e3c3"
   },
   "outputs": [],
   "source": [
    "print(vars(Persona))"
   ]
  },
  {
   "cell_type": "code",
   "execution_count": null,
   "metadata": {
    "colab": {},
    "colab_type": "code",
    "id": "nH8CWpwzN8vh",
    "outputId": "11d22da8-f53b-4c08-e5ad-be72da616aa3"
   },
   "outputs": [],
   "source": [
    "print(dir(Persona))"
   ]
  },
  {
   "cell_type": "markdown",
   "metadata": {
    "colab_type": "text",
    "id": "MrKsvyJBN8vm"
   },
   "source": [
    "### Ejemplo de clase interactuando con sus atributos:"
   ]
  },
  {
   "cell_type": "code",
   "execution_count": null,
   "metadata": {
    "colab": {},
    "colab_type": "code",
    "id": "ZL0GLU45lyPH"
   },
   "outputs": [],
   "source": [
    "class Perro:\n",
    "\n",
    "    def __init__(self, nombre):\n",
    "        self.nombre = nombre\n",
    "        self.trucos = []    # crea una nueva lista vacía para cada perro\n",
    "\n",
    "    def aprender_truco(self, truco):\n",
    "        self.trucos.append(truco)\n",
    "\n",
    "d = Perro('Fido')\n",
    "e = Perro('Buddy')"
   ]
  },
  {
   "cell_type": "code",
   "execution_count": null,
   "metadata": {
    "colab": {
     "base_uri": "https://localhost:8080/",
     "height": 35
    },
    "colab_type": "code",
    "executionInfo": {
     "elapsed": 1490,
     "status": "ok",
     "timestamp": 1567520008983,
     "user": {
      "displayName": "Edgar Avalos Gauna",
      "photoUrl": "https://lh3.googleusercontent.com/a-/AAuE7mBlAgNUstu0sLee83F6yPWlOeuhkSOIQBP1BMW9=s64",
      "userId": "15081544959551912541"
     },
     "user_tz": 300
    },
    "id": "czzAkQoq45_g",
    "outputId": "142c7027-e261-4714-fad0-22ebfda9b93c"
   },
   "outputs": [],
   "source": [
    "d.trucos"
   ]
  },
  {
   "cell_type": "code",
   "execution_count": null,
   "metadata": {
    "colab": {
     "base_uri": "https://localhost:8080/",
     "height": 35
    },
    "colab_type": "code",
    "executionInfo": {
     "elapsed": 1483,
     "status": "ok",
     "timestamp": 1567520008984,
     "user": {
      "displayName": "Edgar Avalos Gauna",
      "photoUrl": "https://lh3.googleusercontent.com/a-/AAuE7mBlAgNUstu0sLee83F6yPWlOeuhkSOIQBP1BMW9=s64",
      "userId": "15081544959551912541"
     },
     "user_tz": 300
    },
    "id": "2vLK4e0k48br",
    "outputId": "8753e99a-4a20-44f5-8eea-2c2da16c8623"
   },
   "outputs": [],
   "source": [
    "d.aprender_truco('girar')\n",
    "e.aprender_truco('hacerse el muerto')\n",
    "d.trucos"
   ]
  },
  {
   "cell_type": "code",
   "execution_count": null,
   "metadata": {
    "colab": {
     "base_uri": "https://localhost:8080/",
     "height": 35
    },
    "colab_type": "code",
    "executionInfo": {
     "elapsed": 1475,
     "status": "ok",
     "timestamp": 1567520008984,
     "user": {
      "displayName": "Edgar Avalos Gauna",
      "photoUrl": "https://lh3.googleusercontent.com/a-/AAuE7mBlAgNUstu0sLee83F6yPWlOeuhkSOIQBP1BMW9=s64",
      "userId": "15081544959551912541"
     },
     "user_tz": 300
    },
    "id": "k24s3CHI4_dc",
    "outputId": "9ed82b97-51ab-40a0-e28d-40e1f6e7978b"
   },
   "outputs": [],
   "source": [
    "e.trucos"
   ]
  },
  {
   "cell_type": "code",
   "execution_count": null,
   "metadata": {
    "colab": {
     "base_uri": "https://localhost:8080/",
     "height": 35
    },
    "colab_type": "code",
    "executionInfo": {
     "elapsed": 1467,
     "status": "ok",
     "timestamp": 1567520008984,
     "user": {
      "displayName": "Edgar Avalos Gauna",
      "photoUrl": "https://lh3.googleusercontent.com/a-/AAuE7mBlAgNUstu0sLee83F6yPWlOeuhkSOIQBP1BMW9=s64",
      "userId": "15081544959551912541"
     },
     "user_tz": 300
    },
    "id": "3iJ3U37jpvbD",
    "outputId": "fce9e47c-c404-4d1e-d035-dddb66d28df7"
   },
   "outputs": [],
   "source": [
    "e.aprender_truco('girar')\n",
    "e.trucos"
   ]
  },
  {
   "cell_type": "markdown",
   "metadata": {
    "colab_type": "text",
    "id": "4gt5ULdNKJLZ"
   },
   "source": [
    "# Herencia"
   ]
  },
  {
   "cell_type": "markdown",
   "metadata": {},
   "source": [
    "## Herencia simple"
   ]
  },
  {
   "cell_type": "code",
   "execution_count": null,
   "metadata": {},
   "outputs": [],
   "source": [
    "# A modo de repaso, mostraremos el uso de la clase \"object\" para crear nuevas clases:\n",
    "\n",
    "class A:\n",
    "    pass\n",
    "\n",
    "class B():\n",
    "    pass\n",
    "\n",
    "class C(object):\n",
    "    pass"
   ]
  },
  {
   "cell_type": "markdown",
   "metadata": {},
   "source": [
    "En los 3 casos anteriores, la sintaxis aunque diferente, el resultado es el mísmo. En los 3 casos, las clases nuevas son subclases de la clase object, la cual es la clase predefinida en Python."
   ]
  },
  {
   "cell_type": "code",
   "execution_count": null,
   "metadata": {},
   "outputs": [],
   "source": [
    "issubclass(A,object)"
   ]
  },
  {
   "cell_type": "code",
   "execution_count": null,
   "metadata": {},
   "outputs": [],
   "source": [
    "issubclass(B,object)"
   ]
  },
  {
   "cell_type": "code",
   "execution_count": null,
   "metadata": {},
   "outputs": [],
   "source": [
    "issubclass(C,object)"
   ]
  },
  {
   "cell_type": "markdown",
   "metadata": {},
   "source": [
    "En la herencia simple no hace falta indicar otro tipo de parametros, los métodos y atributos pasan de forma automática."
   ]
  },
  {
   "cell_type": "code",
   "execution_count": null,
   "metadata": {},
   "outputs": [],
   "source": [
    "class Persona:\n",
    "    nombre=\"Edgar\"\n",
    "\n",
    "class Alumno(Persona):\n",
    "    pass"
   ]
  },
  {
   "cell_type": "code",
   "execution_count": null,
   "metadata": {},
   "outputs": [],
   "source": [
    "estudiante=Alumno()"
   ]
  },
  {
   "cell_type": "code",
   "execution_count": null,
   "metadata": {},
   "outputs": [],
   "source": [
    "estudiante.nombre"
   ]
  },
  {
   "cell_type": "markdown",
   "metadata": {},
   "source": [
    "## Actividad\n",
    "\n",
    "Crear las siguientes clases, con los métodos y atributos indicados:\n",
    "\n",
    "1. Clase llamada sistema planetario con los siguientes atributos:\n",
    "    * masa= 5.97e24\n",
    "    * radio= 6371000\n",
    "    * G=\"6.67e-11\n",
    "\n",
    "    y con los siguientes métodos:\n",
    "    * Rotación, indicar que el sistema esta rotando sobre su eje\n",
    "    * Traslación, indicar que el sistema se traslada sobre una galaxia\n",
    "    * Gravedad: $$a=G\\frac{masa}{radio^2}$$\n",
    "    \n",
    "2. Una clase llamada planeta que herede de sistema planetario, y que ademas contenga los siguientes atributos:\n",
    "    * Lunas  (Integer)\n",
    "    * Anillos(Boolean)\n",
    "3. Una clase llamada estrella que herede de sistema planetario y que ademas contenga los siguientes atributos:\n",
    "    * Tamaño (String)\n",
    "    * Color  (String)\n",
    "    * Tiempo (Integer)\n",
    "    \n",
    "    \n",
    "       utiliza el destructor para que imprima el siguiente mensaje:\n",
    "    * \"La estrela va a colapsar\" \n",
    "4. Dos instancias, una llamada tierra, y otra sol, con su respectiva clase."
   ]
  },
  {
   "cell_type": "code",
   "execution_count": null,
   "metadata": {},
   "outputs": [],
   "source": [
    "# Primera clase:\n",
    "\n",
    "class Sistema_Planetario:\n",
    "    masa=5.97e24\n",
    "    radio=6371000\n",
    "    G=6.67e-11\n",
    "    def Rotacion(self):\n",
    "        print(\"El cuerpo rota sobre su propio eje\")\n",
    "    def Traslacion(self):\n",
    "        print(\"El cuerpo se traslada en el sistema\")\n",
    "    def Gravedad(self):\n",
    "        g=self.G*self.masa/(self.radio**2)\n",
    "        compara=g/9.81\n",
    "        print(round(g,2), \"m/s^2\",\", igual a \", round(compara,1), \"G\")"
   ]
  },
  {
   "cell_type": "code",
   "execution_count": null,
   "metadata": {},
   "outputs": [],
   "source": [
    "# Segunda clase:\n",
    "class Planeta(Sistema_Planetario):\n",
    "    def __init__ (self, lunas, anillos=False):\n",
    "        self.lunas=lunas\n",
    "        self.anillos=anillos"
   ]
  },
  {
   "cell_type": "code",
   "execution_count": null,
   "metadata": {},
   "outputs": [],
   "source": [
    "# Tercera clase:\n",
    "class Estrella (Sistema_Planetario):\n",
    "    def __init__ (self, color, tamaño, tiempo):\n",
    "        self.color=color\n",
    "        self.tamaño=tamaño\n",
    "        self.tiempo=tiempo\n",
    "    def __del__(self):\n",
    "        print(\"La estrella va a colapsar\")\n",
    "        for i in range(self.tiempo):\n",
    "            print(self.tiempo-i)\n",
    "        else:\n",
    "            print(\"La estrella colapsó\")\n",
    "            def __del__(self):\n",
    "                pass"
   ]
  },
  {
   "cell_type": "code",
   "execution_count": null,
   "metadata": {},
   "outputs": [],
   "source": [
    "# Clase bonus:\n",
    "class Luna(Sistema_Planetario):\n",
    "    pass"
   ]
  },
  {
   "cell_type": "code",
   "execution_count": null,
   "metadata": {},
   "outputs": [],
   "source": [
    "tierra=Planeta(1)"
   ]
  },
  {
   "cell_type": "code",
   "execution_count": null,
   "metadata": {},
   "outputs": [],
   "source": [
    "tierra.Gravedad()"
   ]
  },
  {
   "cell_type": "code",
   "execution_count": null,
   "metadata": {},
   "outputs": [],
   "source": [
    "jupiter=Planeta(79)"
   ]
  },
  {
   "cell_type": "code",
   "execution_count": null,
   "metadata": {},
   "outputs": [],
   "source": [
    "jupiter.masa=1.898e27\n",
    "jupiter.radio=69911000"
   ]
  },
  {
   "cell_type": "code",
   "execution_count": null,
   "metadata": {},
   "outputs": [],
   "source": [
    "jupiter.Gravedad()"
   ]
  },
  {
   "cell_type": "code",
   "execution_count": null,
   "metadata": {},
   "outputs": [],
   "source": [
    "selene=Luna()"
   ]
  },
  {
   "cell_type": "code",
   "execution_count": null,
   "metadata": {},
   "outputs": [],
   "source": [
    "selene.masa=7.349e22\n",
    "selene.radio=1738000"
   ]
  },
  {
   "cell_type": "code",
   "execution_count": null,
   "metadata": {},
   "outputs": [],
   "source": [
    "selene.Gravedad()"
   ]
  },
  {
   "cell_type": "code",
   "execution_count": null,
   "metadata": {},
   "outputs": [],
   "source": [
    "sol=Estrella(\"naranja\", \"enana\", 5)"
   ]
  },
  {
   "cell_type": "code",
   "execution_count": null,
   "metadata": {},
   "outputs": [],
   "source": [
    "sol"
   ]
  },
  {
   "cell_type": "code",
   "execution_count": null,
   "metadata": {},
   "outputs": [],
   "source": [
    "sol.Rotacion()"
   ]
  },
  {
   "cell_type": "code",
   "execution_count": null,
   "metadata": {},
   "outputs": [],
   "source": [
    "sol.masa=1.989e30\n",
    "sol.radio=695510000"
   ]
  },
  {
   "cell_type": "code",
   "execution_count": null,
   "metadata": {},
   "outputs": [],
   "source": [
    "sol.Gravedad()"
   ]
  },
  {
   "cell_type": "code",
   "execution_count": null,
   "metadata": {},
   "outputs": [],
   "source": [
    "del sol"
   ]
  },
  {
   "cell_type": "code",
   "execution_count": null,
   "metadata": {},
   "outputs": [],
   "source": [
    "# Con la ejecución de la linea anterior, el objeto sol dejó de existir, \n",
    "# por lo que invocarlo generaría un error:\n",
    "\n",
    "#sol"
   ]
  },
  {
   "cell_type": "markdown",
   "metadata": {},
   "source": [
    "## Herencia por medio de super()"
   ]
  },
  {
   "cell_type": "markdown",
   "metadata": {},
   "source": [
    "El método super(), nos sirve para indicar que tipo de métodos o atributos son los que queremos pasar a nuestras sub clases. Este proceso se suele utilizar cuando hay un constructor de por medio."
   ]
  },
  {
   "cell_type": "code",
   "execution_count": null,
   "metadata": {},
   "outputs": [],
   "source": [
    "class Persona:\n",
    "    def __init__(self, Nombre, Apellido, Edad):\n",
    "        self.Nombre=Nombre\n",
    "        self.Apellido=Apellido\n",
    "        self.Edad=Edad\n",
    "    def Comer(self):\n",
    "        print(self.Nombre, \"está comiendo\")\n",
    "\n",
    "class Alumno(Persona):\n",
    "    def __init__(self, Nombre, Apellido, Edad, Carrera, Semestre):\n",
    "        super().__init__(Nombre, Apellido, Edad)\n",
    "        self.Carrera=Carrera\n",
    "        self.Semestre=Semestre\n",
    "    def Estudiar(self):\n",
    "        print(self.Nombre,\"estudia el\", self.Semestre, \"semestre\")"
   ]
  },
  {
   "cell_type": "code",
   "execution_count": null,
   "metadata": {},
   "outputs": [],
   "source": [
    "edgar=Alumno(\"Edgar\", \"Avalos\", 32, \"Industrial\", 8)"
   ]
  },
  {
   "cell_type": "code",
   "execution_count": null,
   "metadata": {},
   "outputs": [],
   "source": [
    "edgar.Estudiar()"
   ]
  },
  {
   "cell_type": "markdown",
   "metadata": {},
   "source": [
    "## Herencia multiple"
   ]
  },
  {
   "cell_type": "markdown",
   "metadata": {},
   "source": [
    "En Python, a diferencia de C#, se permite la herencia múltiple, es decir, una clase puede heredar de varias clases a la vez. Basta con enumerar las clases de las que se hereda separándolas por comas:"
   ]
  },
  {
   "cell_type": "code",
   "execution_count": null,
   "metadata": {},
   "outputs": [],
   "source": [
    "class Terrestre:\n",
    "    def __init__(self, velocidad_andar):\n",
    "        print(\"Este es un animal terrestre\")\n",
    "        self.velocidad_andar = velocidad_andar\n",
    "    def desplazar(self):\n",
    "        print (\"El animal anda a \" + str(self.velocidad_andar) + \" km/hr\")\n",
    "\n",
    "class Acuatico:\n",
    "    def __init__(self, velocidad_nadar):\n",
    "        print(\"Este es un animal acuático\")\n",
    "        self.velocidad_nadar = velocidad_nadar\n",
    "    def desplazar(self):\n",
    "        print (\"El animal nada a \" + str(self.velocidad_nadar) + \" km/hr\")"
   ]
  },
  {
   "cell_type": "markdown",
   "metadata": {},
   "source": [
    "Crearemos unas subclases y unas instancias de las 2 clases superiores previamente creadas:"
   ]
  },
  {
   "cell_type": "code",
   "execution_count": null,
   "metadata": {},
   "outputs": [],
   "source": [
    "class Perro(Terrestre):\n",
    "    pass"
   ]
  },
  {
   "cell_type": "code",
   "execution_count": null,
   "metadata": {},
   "outputs": [],
   "source": [
    "fido=Perro(10)"
   ]
  },
  {
   "cell_type": "code",
   "execution_count": null,
   "metadata": {},
   "outputs": [],
   "source": [
    "fido.desplazar()"
   ]
  },
  {
   "cell_type": "code",
   "execution_count": null,
   "metadata": {},
   "outputs": [],
   "source": [
    "class Ballena(Acuatico):\n",
    "    pass"
   ]
  },
  {
   "cell_type": "code",
   "execution_count": null,
   "metadata": {},
   "outputs": [],
   "source": [
    "keiko=Ballena(20)"
   ]
  },
  {
   "cell_type": "code",
   "execution_count": null,
   "metadata": {},
   "outputs": [],
   "source": [
    "keiko.desplazar()"
   ]
  },
  {
   "cell_type": "markdown",
   "metadata": {},
   "source": [
    "La herencia sencilla y la instanciación fueron correctas. Ahora procedemos a crear un animal que sea tanto terrestre como acuatico:"
   ]
  },
  {
   "cell_type": "code",
   "execution_count": null,
   "metadata": {},
   "outputs": [],
   "source": [
    "class Cocodrilo(Terrestre, Acuatico):\n",
    "    def __init__(self, velocidad_andar, velocidad_nadar):\n",
    "        Terrestre.__init__(self, velocidad_andar) # Constructor clase Terrestre\n",
    "        Acuatico.__init__(self, velocidad_nadar)  # Constructor clase Acuático"
   ]
  },
  {
   "cell_type": "markdown",
   "metadata": {},
   "source": [
    "En la herencia múltiple, no es posible utilizar el método **super()**, debido a que hay varias clases superiores. Por ello es necesario especificar que elementos se quieren recibir y la clase de donde provienen. La sintaxis para ello es:\n",
    "\n",
    "---------------------------------------------------------------------------------------------------------------------------\n",
    "\n",
    "                              ClaseSuperior.MétodoSolicitado(self,[args])\n",
    "\n",
    "---------------------------------------------------------------------------------------------------------------------------\n",
    "Donde [args] corresponde al argumento o argumentos que necesite dicho método para funcionar de forma correcta.\n",
    "La nueva clase ahora necesita de 2 atributos para poder crear instancias, por un lado la velocidad en tierra y por otro la velocidad en el agua:"
   ]
  },
  {
   "cell_type": "code",
   "execution_count": null,
   "metadata": {},
   "outputs": [],
   "source": [
    "dundee=Cocodrilo(20,25)"
   ]
  },
  {
   "cell_type": "markdown",
   "metadata": {},
   "source": [
    "La instanciación fue correcta. Sin embargo, al contar ambas clases con un método del mismo nombre, solamente el método de la primera clase superior se mantendra, i.e. Terrestre:"
   ]
  },
  {
   "cell_type": "code",
   "execution_count": null,
   "metadata": {},
   "outputs": [],
   "source": [
    "dundee.desplazar()"
   ]
  },
  {
   "cell_type": "code",
   "execution_count": null,
   "metadata": {},
   "outputs": [],
   "source": [
    "print(dir(dundee))"
   ]
  },
  {
   "cell_type": "markdown",
   "metadata": {},
   "source": [
    "Para poder mantener el método de la clase superior Acuático, será necesario llamarlo directamente desde la clase. Para ello habrá que sobreescribir la clase de la siguiente manera:"
   ]
  },
  {
   "cell_type": "code",
   "execution_count": null,
   "metadata": {},
   "outputs": [],
   "source": [
    "class Cocodrilo(Terrestre, Acuatico):\n",
    "    def __init__(self, velocidad_andar, velocidad_nadar):\n",
    "        Terrestre.__init__(self, velocidad_andar) \n",
    "        Acuatico.__init__(self, velocidad_nadar) \n",
    "    def desplazar_agua(self): # Método nuevo para cargar el método desplazar de la clase Acuático\n",
    "        Acuatico.desplazar(self)"
   ]
  },
  {
   "cell_type": "code",
   "execution_count": null,
   "metadata": {},
   "outputs": [],
   "source": [
    "swampy = Cocodrilo(10,5)\n",
    "swampy.desplazar_agua()"
   ]
  },
  {
   "cell_type": "code",
   "execution_count": null,
   "metadata": {
    "scrolled": false
   },
   "outputs": [],
   "source": [
    "swampy.desplazar()"
   ]
  },
  {
   "cell_type": "markdown",
   "metadata": {
    "colab_type": "text",
    "id": "Zi4ydmG6KJLC"
   },
   "source": [
    "##  Encapsulamiento"
   ]
  },
  {
   "cell_type": "markdown",
   "metadata": {
    "colab_type": "text",
    "id": "n2a-fOk8KJLD"
   },
   "source": [
    "El concepto de encapsulamiento hace referencia a la capacidad de manejar datos dentro de una unidad especifica, siendo esta una clase u objeto. Este concepto es usado frecuentemente para esconder la representación interna, o el estado particular de un objeto con el exterior. Tipicamente, solo los los propios métodos de la clase u objeto son los que pueden manipular estos campos ocultos."
   ]
  },
  {
   "cell_type": "code",
   "execution_count": null,
   "metadata": {},
   "outputs": [],
   "source": [
    "class Mensaje_Secreto:\n",
    "    '''\n",
    "    Esta clase es un ejemplo de como encapsular datos, y de\n",
    "    no poder acceder a ellos desde afuera de la clase. Por lo\n",
    "    menos no de forma directa\n",
    "    '''\n",
    "    def __init__(self, mensaje, password):\n",
    "        self.__mensaje = mensaje\n",
    "        self.__password = password\n",
    "    def accesar(self, clave):\n",
    "        '''\n",
    "    El método solamente mostrará el mensaje, si el password \n",
    "    introducido es el correcto\n",
    "        '''\n",
    "        if clave == self.__password:\n",
    "            print(self.__mensaje)\n",
    "        else:\n",
    "            return \"Fallaste\""
   ]
  },
  {
   "cell_type": "code",
   "execution_count": null,
   "metadata": {},
   "outputs": [],
   "source": [
    "obja=Mensaje_Secreto(\"Hola Mundo!\",\"123qwe\")"
   ]
  },
  {
   "cell_type": "code",
   "execution_count": null,
   "metadata": {},
   "outputs": [],
   "source": [
    "#obja.__mensaje"
   ]
  },
  {
   "cell_type": "code",
   "execution_count": null,
   "metadata": {},
   "outputs": [],
   "source": [
    "obja.accesar(\"123456\")"
   ]
  },
  {
   "cell_type": "code",
   "execution_count": null,
   "metadata": {},
   "outputs": [],
   "source": [
    "obja.accesar(\"123qwe\")"
   ]
  },
  {
   "cell_type": "markdown",
   "metadata": {},
   "source": [
    "Cuando se coloca un doble guión bajo antes de una variable, lo que realmente se le está indicando a Python es que le adicione como **prefijo _\"nombre de la clase\"**. Los métodos de manera interna de la clase, pueden acceder a estos atributos, ya que se encuentran dentro del mismo elemento. Objetos fuera de la clase, tendrían que ejecutar una sintaxis diferente para poder acceder a estos. **En general, la mayoría de los programadores que usan Python, respetan la privacidad de estos atributos con doble guión bajo, y solo bajo situaciones de extremada necesidad accesan a ellos para modificarlos.**"
   ]
  },
  {
   "cell_type": "code",
   "execution_count": null,
   "metadata": {},
   "outputs": [],
   "source": [
    "print(dir(obja))"
   ]
  },
  {
   "cell_type": "code",
   "execution_count": null,
   "metadata": {},
   "outputs": [],
   "source": [
    "obja._Mensaje_Secreto__mensaje"
   ]
  },
  {
   "cell_type": "markdown",
   "metadata": {},
   "source": [
    "### Ejemplo"
   ]
  },
  {
   "cell_type": "code",
   "execution_count": null,
   "metadata": {
    "colab": {},
    "colab_type": "code",
    "id": "S_sJ8gnpKJLE"
   },
   "outputs": [],
   "source": [
    "# El siguiente ejemplo encapsula el nombre del carro y su velocidad máxima, \n",
    "# para posteriormente utilizarlos de forma interna por sus métodos.\n",
    "class Carro:\n",
    "    __maxspeed = 0\n",
    "    __nombre = \"\"\n",
    " \n",
    "    def __init__(self):\n",
    "        self.__maxspeed = 200\n",
    "        self.__nombre = \"Supercar\"\n",
    " \n",
    "    def manejar(self):\n",
    "        print (\"Manejando a una velocidad máxima de \" + str(self.__maxspeed))\n",
    " "
   ]
  },
  {
   "cell_type": "code",
   "execution_count": null,
   "metadata": {},
   "outputs": [],
   "source": [
    "issubclass(Carro,object)"
   ]
  },
  {
   "cell_type": "code",
   "execution_count": null,
   "metadata": {
    "colab": {},
    "colab_type": "code",
    "id": "45pKIlt5KJLH",
    "outputId": "74d76017-f511-4cca-e6e0-563a50cc4ce5"
   },
   "outputs": [],
   "source": [
    "redcar = Carro()\n",
    "redcar.manejar()"
   ]
  },
  {
   "cell_type": "code",
   "execution_count": null,
   "metadata": {},
   "outputs": [],
   "source": [
    "help(redcar)"
   ]
  },
  {
   "cell_type": "code",
   "execution_count": null,
   "metadata": {
    "colab": {},
    "colab_type": "code",
    "id": "D1py-ODNKJLK"
   },
   "outputs": [],
   "source": [
    "#redcar.__maxspeed"
   ]
  },
  {
   "cell_type": "code",
   "execution_count": null,
   "metadata": {
    "colab": {},
    "colab_type": "code",
    "id": "W0PJW8_dKJLM"
   },
   "outputs": [],
   "source": [
    "#redcar.__nombre"
   ]
  },
  {
   "cell_type": "markdown",
   "metadata": {},
   "source": [
    "Las variables encapsuladas no se pueden modificar desde fuera de la clase, en el siguiente ejemplo, el objeto recibe 2 nuevos valores, pero los asigna a 2 nuevas variables, que no están encapsuladas por no haberse creado desde dentro de una clase:"
   ]
  },
  {
   "cell_type": "code",
   "execution_count": null,
   "metadata": {},
   "outputs": [],
   "source": [
    "print(vars(redcar))"
   ]
  },
  {
   "cell_type": "code",
   "execution_count": null,
   "metadata": {
    "colab": {},
    "colab_type": "code",
    "id": "Owy4C-AMKJLO",
    "outputId": "ee6870bf-9606-402b-ac2c-5ece28e763e1"
   },
   "outputs": [],
   "source": [
    "redcar.__maxspeed = 10             # La variable no se reasignara porque es privada\n",
    "redcar.__nombre = \"Rayo McQueen\"   # La variable no se reasignara porque es privada\n",
    "redcar.manejar()"
   ]
  },
  {
   "cell_type": "code",
   "execution_count": null,
   "metadata": {
    "colab": {},
    "colab_type": "code",
    "id": "P_jSLthyKJLQ",
    "outputId": "3bbb9782-ddf6-4606-e3c8-fd8ab6e46dd4"
   },
   "outputs": [],
   "source": [
    "redcar.__nombre"
   ]
  },
  {
   "cell_type": "code",
   "execution_count": null,
   "metadata": {
    "colab": {},
    "colab_type": "code",
    "id": "2onBtHfvKJLS",
    "outputId": "a3f4e9a3-c4f9-4dfc-86fb-61ab216e5b5e"
   },
   "outputs": [],
   "source": [
    "redcar.__maxspeed"
   ]
  },
  {
   "cell_type": "code",
   "execution_count": null,
   "metadata": {
    "colab": {},
    "colab_type": "code",
    "id": "M29gVKfpKJLU",
    "outputId": "157ba12c-36cc-4958-f70d-6df5f7175447"
   },
   "outputs": [],
   "source": [
    "# Las variables encapsuladas, vienen acompañadas de la clase en donde se crearon:\n",
    "print(vars(redcar))"
   ]
  },
  {
   "cell_type": "code",
   "execution_count": null,
   "metadata": {
    "colab": {},
    "colab_type": "code",
    "id": "0AvHBLq1KJLX",
    "outputId": "ea024aed-b700-469a-cb5b-c50a41cbd997"
   },
   "outputs": [],
   "source": [
    "redcar.manejar()"
   ]
  },
  {
   "cell_type": "markdown",
   "metadata": {},
   "source": [
    "A pesar de que una variable esté encapsulada, uno puede acceder a ellas, mediante el uso de la sintaxis adecuada. Python **confia en el buen trato/uso que puedan hacer los usuarios de las variables encapsuladas:**"
   ]
  },
  {
   "cell_type": "code",
   "execution_count": null,
   "metadata": {},
   "outputs": [],
   "source": [
    "# No hacer lo siguiente, ya que no se estaría respetando el encapsulamiento\n",
    "redcar._Carro__maxspeed"
   ]
  },
  {
   "cell_type": "code",
   "execution_count": null,
   "metadata": {},
   "outputs": [],
   "source": [
    "# No hacer lo siguiente, ya que no se estaría respetando el encapsulamiento\n",
    "redcar._Carro__maxspeed=100\n",
    "redcar._Carro__maxspeed"
   ]
  },
  {
   "cell_type": "code",
   "execution_count": null,
   "metadata": {},
   "outputs": [],
   "source": [
    "vars(redcar)"
   ]
  },
  {
   "cell_type": "markdown",
   "metadata": {},
   "source": [
    "## Ejercicio para la reflexión crítica"
   ]
  },
  {
   "cell_type": "markdown",
   "metadata": {},
   "source": [
    "En el siguiente ejemplo se utilizan los conceptos de **encapsulamiento, herencia múltiple, manejo de listas y diccionarios,** y por último, mediante el uso de la instrucción **While, se hace uso del manejo de excepciones.** Este tema no fue abordado en el curso, por lo que se recomienda que se investigue al respecto. El ejercicio consiste en crear 3 clases, la primera llevará el nombre de Camara, la segunda el de Teléfono, y la tercera será ReproductorMP3. Finalmente se creará una cuarta clase que herede los métodos y atributos de las 3 clases anteriores:"
   ]
  },
  {
   "cell_type": "code",
   "execution_count": null,
   "metadata": {},
   "outputs": [],
   "source": [
    "class Camara:\n",
    "    def __init__(self):\n",
    "        self.__pixeles=15\n",
    "    def sacarFotos(self):\n",
    "        print(\"Tus fotografías tendran una resolución de\", self.__pixeles, \"Megapixeles\")\n",
    "\n",
    "class Telefono:\n",
    "    def __init__(self):\n",
    "        self.agenda={}\n",
    "    def Marcar(self):\n",
    "        print(\"ring-ring\")\n",
    "    def Agregar_nuevo_contacto(self, Nombre,telefono):\n",
    "        self.agenda[Nombre]=telefono\n",
    "    def Mostrar_contacto(self, Nombre):\n",
    "        print(Nombre,\":\",agenda[Nombre])"
   ]
  },
  {
   "cell_type": "code",
   "execution_count": null,
   "metadata": {},
   "outputs": [],
   "source": [
    "class ReproductorMp3:\n",
    "    def __init__(self):\n",
    "        self.genero=[]\n",
    "    def agregar_genero(self,gen):\n",
    "        self.genero.append(gen)\n",
    "    def reproducir_musica(self,gen):\n",
    "        ###################################################################\n",
    "        #                                                                 #\n",
    "        # La siguiente estructura corresponde a un manejo de excepciones: #\n",
    "        #                                                                 #\n",
    "        ###################################################################\n",
    "         while True:\n",
    "                try:\n",
    "                    print(\"Repdoduciendo el genero\", self.genero[gen])\n",
    "                    break\n",
    "                except TypeError:\n",
    "                    if gen in self.genero:\n",
    "                        indice=self.genero.index(gen)\n",
    "                        gen=indice\n",
    "                        print(\"Repdoduciendo el genero\", self.genero[gen])\n",
    "                        break\n",
    "                    else:\n",
    "                        print(\"El genero solicitado no está disponible\")\n",
    "                        break\n",
    "                except IndexError:\n",
    "                    print(\"El genero solicitado no está disponible\")\n",
    "                    break"
   ]
  },
  {
   "cell_type": "code",
   "execution_count": null,
   "metadata": {},
   "outputs": [],
   "source": [
    "# Recuerda que al hacer herencia simple, los métodos que tengan el mismo nombre, solamente el primero se mantendra.\n",
    "# Es por ello que en el siguiente ejemplo, solamente el constructor de Telefono esta presente en Celular\n",
    "\n",
    "class Celular(Telefono,Camara,ReproductorMp3):\n",
    "    pass"
   ]
  },
  {
   "cell_type": "code",
   "execution_count": null,
   "metadata": {},
   "outputs": [],
   "source": [
    "print(dir(Celular))"
   ]
  },
  {
   "cell_type": "markdown",
   "metadata": {},
   "source": [
    "Atributos como **genero**, que es parte del constructor de **ReproductorMP3**, o **pixeles** que es privado de **Camara**, no están presentes en la subclase. Para que dichos elementos aparezcan en la subclase, es necesario inicializar cada uno de sus constructores:"
   ]
  },
  {
   "cell_type": "code",
   "execution_count": null,
   "metadata": {},
   "outputs": [],
   "source": [
    "class Celular(Telefono,Camara,ReproductorMp3):\n",
    "    def __init__(self):\n",
    "        print(\"Gracias por adquirir tu celular con cámara y MP3\")\n",
    "        Camara.__init__(self)\n",
    "        Telefono.__init__(self)\n",
    "        ReproductorMp3.__init__(self)"
   ]
  },
  {
   "cell_type": "code",
   "execution_count": null,
   "metadata": {},
   "outputs": [],
   "source": [
    "cel = Celular()"
   ]
  },
  {
   "cell_type": "code",
   "execution_count": null,
   "metadata": {},
   "outputs": [],
   "source": [
    "cel.agenda"
   ]
  },
  {
   "cell_type": "code",
   "execution_count": null,
   "metadata": {},
   "outputs": [],
   "source": [
    "cel.genero"
   ]
  },
  {
   "cell_type": "code",
   "execution_count": null,
   "metadata": {},
   "outputs": [],
   "source": [
    "cel.reproducir_musica(0)"
   ]
  },
  {
   "cell_type": "code",
   "execution_count": null,
   "metadata": {},
   "outputs": [],
   "source": [
    "cel.agregar_genero(\"Rock\")"
   ]
  },
  {
   "cell_type": "code",
   "execution_count": null,
   "metadata": {},
   "outputs": [],
   "source": [
    "cel.reproducir_musica(0)"
   ]
  },
  {
   "cell_type": "code",
   "execution_count": null,
   "metadata": {},
   "outputs": [],
   "source": [
    "cel.reproducir_musica(\"Rock\")"
   ]
  },
  {
   "cell_type": "code",
   "execution_count": null,
   "metadata": {},
   "outputs": [],
   "source": [
    "cel.reproducir_musica(\"Pop\")"
   ]
  },
  {
   "cell_type": "code",
   "execution_count": null,
   "metadata": {},
   "outputs": [],
   "source": [
    "cel.reproducir_musica(1)"
   ]
  },
  {
   "cell_type": "code",
   "execution_count": null,
   "metadata": {},
   "outputs": [],
   "source": [
    "cel.Agregar_nuevo_contacto(\"Edgar\",5580138303)"
   ]
  },
  {
   "cell_type": "code",
   "execution_count": null,
   "metadata": {},
   "outputs": [],
   "source": [
    "cel.agenda"
   ]
  },
  {
   "cell_type": "code",
   "execution_count": null,
   "metadata": {},
   "outputs": [],
   "source": [
    "cel.agregar_genero(\"Pop\")"
   ]
  },
  {
   "cell_type": "code",
   "execution_count": null,
   "metadata": {},
   "outputs": [],
   "source": [
    "cel.genero"
   ]
  },
  {
   "cell_type": "code",
   "execution_count": null,
   "metadata": {},
   "outputs": [],
   "source": [
    "cel.sacarFotos()"
   ]
  },
  {
   "cell_type": "code",
   "execution_count": null,
   "metadata": {},
   "outputs": [],
   "source": [
    "cel.Marcar()"
   ]
  },
  {
   "cell_type": "code",
   "execution_count": null,
   "metadata": {},
   "outputs": [],
   "source": []
  }
 ],
 "metadata": {
  "kernelspec": {
   "display_name": "Python 3",
   "language": "python",
   "name": "python3"
  },
  "language_info": {
   "codemirror_mode": {
    "name": "ipython",
    "version": 3
   },
   "file_extension": ".py",
   "mimetype": "text/x-python",
   "name": "python",
   "nbconvert_exporter": "python",
   "pygments_lexer": "ipython3",
   "version": "3.7.3"
  }
 },
 "nbformat": 4,
 "nbformat_minor": 2
}
