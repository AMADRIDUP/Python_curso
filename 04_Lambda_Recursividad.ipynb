{
 "cells": [
  {
   "cell_type": "markdown",
   "metadata": {},
   "source": [
    "### Funciones Lambda"
   ]
  },
  {
   "cell_type": "markdown",
   "metadata": {},
   "source": [
    "Similar al método def, en Python existe otra manera para poder declarar funciones que se conocen como funciones de tipo anónimas. Estas funciones anónimas son comunmente conocidas como funciones lambda. Se les da el caracter de anónima porque no hace falta asignrales un nombre. Las funciones lambda crean un objeto de tipo función."
   ]
  },
  {
   "cell_type": "markdown",
   "metadata": {},
   "source": [
    "La sintaxis para poder usar una función lamdba es la siguiente:"
   ]
  },
  {
   "cell_type": "markdown",
   "metadata": {},
   "source": [
    "---------------------------------------------------------------------------------------------------------------------\n",
    "\n",
    "                            lambda arg1, arg2,..., argN : expresión_que_usará_los_argumentos\n",
    "\n",
    "---------------------------------------------------------------------------------------------------------------------"
   ]
  },
  {
   "cell_type": "markdown",
   "metadata": {},
   "source": [
    "Una función lambda debe cumplir 2 características, la primera es que **la expresión que emplea es sencilla**, y no utilizará todo un bloque como en el caso del método def. Escrito en otros términos, la función lambda es de 1 solo renglón. La segunda característica es que debido a su sintaxis, **la función lambda se puede utilizar en puntos en donde la sintaxis def no está permitida**. Para poder entender esto mejor veamos algunos ejemplos para poder distinguir los 2 métodos:"
   ]
  },
  {
   "cell_type": "code",
   "execution_count": null,
   "metadata": {},
   "outputs": [],
   "source": [
    "# Creando una función suma por medio del método def:\n",
    "\n",
    "def suma(a,b,c):\n",
    "    return a+b+c"
   ]
  },
  {
   "cell_type": "code",
   "execution_count": null,
   "metadata": {},
   "outputs": [],
   "source": [
    "suma(5,6,7)"
   ]
  },
  {
   "cell_type": "code",
   "execution_count": null,
   "metadata": {},
   "outputs": [],
   "source": [
    "type(suma)"
   ]
  },
  {
   "cell_type": "code",
   "execution_count": null,
   "metadata": {},
   "outputs": [],
   "source": [
    "# Creando una función lambda para sumar:\n",
    "\n",
    "f=lambda a,b,c:a+b+c\n",
    "f(5,6,7)"
   ]
  },
  {
   "cell_type": "code",
   "execution_count": null,
   "metadata": {},
   "outputs": [],
   "source": [
    "type(f)"
   ]
  },
  {
   "cell_type": "markdown",
   "metadata": {},
   "source": [
    "#### Ejemplo de error de sintaxis:"
   ]
  },
  {
   "cell_type": "code",
   "execution_count": null,
   "metadata": {},
   "outputs": [],
   "source": [
    "# El siguiente es un ejemplo de como la sintaxis de una función def, no está permitido\n",
    "# ser declara dentro de una lista:\n",
    "\n",
    "#lista=[def resta(a,b): return a-b]"
   ]
  },
  {
   "cell_type": "markdown",
   "metadata": {},
   "source": [
    "Para poder resolver el problema anterior, sería necesario declararlas en partes separadas:"
   ]
  },
  {
   "cell_type": "code",
   "execution_count": null,
   "metadata": {},
   "outputs": [],
   "source": [
    "def resta(a,b): return a-b\n",
    "lista=[resta]"
   ]
  },
  {
   "cell_type": "code",
   "execution_count": null,
   "metadata": {},
   "outputs": [],
   "source": [
    "lista[0](5,4)"
   ]
  },
  {
   "cell_type": "markdown",
   "metadata": {},
   "source": [
    "Este problema no se genera cuando se realiza la misma operación, pero usando funciones lambda:"
   ]
  },
  {
   "cell_type": "code",
   "execution_count": null,
   "metadata": {},
   "outputs": [],
   "source": [
    "lista2=[lambda x: x**2]"
   ]
  },
  {
   "cell_type": "code",
   "execution_count": null,
   "metadata": {},
   "outputs": [],
   "source": [
    "lista2[0](3)"
   ]
  },
  {
   "cell_type": "markdown",
   "metadata": {},
   "source": [
    "### ¿Por qué usar lambda?"
   ]
  },
  {
   "cell_type": "markdown",
   "metadata": {},
   "source": [
    "Una de las principales razones es por la sencilles al momento de declarar una función con una sola sentencia. Además de que si la función que se va a crear solo se piensa ejecutar 1 vez, es mas conveniente crearla por medio de lambda. Cabe señalar que el uso de lambda es opcional, y que al final es la decisión del diseñador si la utiliza o no."
   ]
  },
  {
   "cell_type": "code",
   "execution_count": null,
   "metadata": {},
   "outputs": [],
   "source": [
    "L=[lambda x: x**2,\n",
    "   lambda x: x**3,\n",
    "   lambda x: x**4]"
   ]
  },
  {
   "cell_type": "code",
   "execution_count": null,
   "metadata": {},
   "outputs": [],
   "source": [
    "# El siguiente ciclo evaluará cada una de las funciones Lambda dentro\n",
    "# de la lista L.\n",
    "# El valor que asignará a cada función Lambda será de 3:\n",
    "\n",
    "for i in L:\n",
    "    print(i(3))"
   ]
  },
  {
   "cell_type": "code",
   "execution_count": null,
   "metadata": {},
   "outputs": [],
   "source": [
    "# Lo anterior se puede ver al llamar la posición indexada de la función en la lista:\n",
    "\n",
    "L[1](3)"
   ]
  },
  {
   "cell_type": "markdown",
   "metadata": {},
   "source": [
    "Es posible utilizar una función lambda sin la necesidad de almacenarla en alguna variable, solamente hace falta encerrarla entre parentesis, de ahí que se considere como una función anónima:"
   ]
  },
  {
   "cell_type": "code",
   "execution_count": null,
   "metadata": {},
   "outputs": [],
   "source": [
    "(lambda x: x+1)(2)"
   ]
  },
  {
   "cell_type": "markdown",
   "metadata": {},
   "source": [
    "Una función lambda puede ser de orden superior si esta toma otra función como argumento:"
   ]
  },
  {
   "cell_type": "code",
   "execution_count": null,
   "metadata": {},
   "outputs": [],
   "source": [
    "ord_sup=lambda x, func:x+func(x)"
   ]
  },
  {
   "cell_type": "markdown",
   "metadata": {},
   "source": [
    "La funcón anterior, necesita un valor x y una función de un argumento (que también es x) para poder ejecutarse de forma correcta. Una forma para poder emplearla sería la siguiente:"
   ]
  },
  {
   "cell_type": "code",
   "execution_count": null,
   "metadata": {},
   "outputs": [],
   "source": [
    "ord_sup(2,lambda x:x*x)"
   ]
  },
  {
   "cell_type": "code",
   "execution_count": null,
   "metadata": {},
   "outputs": [],
   "source": [
    "ord_sup(\"Edgar\", lambda x: \" \" + x.upper())"
   ]
  },
  {
   "cell_type": "markdown",
   "metadata": {},
   "source": [
    "Una función lambda, puede recibir los argumentos de muchas diferentes formas, a continuación se presentan varios ejemplos con una lambda similar:"
   ]
  },
  {
   "cell_type": "code",
   "execution_count": null,
   "metadata": {},
   "outputs": [],
   "source": [
    "# Lambda con argumentos variables:\n",
    "\n",
    "(lambda x, y, z: x + y + z)(1, 2, 3)"
   ]
  },
  {
   "cell_type": "code",
   "execution_count": null,
   "metadata": {},
   "outputs": [],
   "source": [
    "# Lambda con 1 de sus argumentos inicializado:\n",
    "\n",
    "(lambda x, y, z=3: x + y + z)(1, 2)"
   ]
  },
  {
   "cell_type": "code",
   "execution_count": null,
   "metadata": {},
   "outputs": [],
   "source": [
    "# Lambda con solicitud específica de argumento:\n",
    "\n",
    "(lambda x, y, z=3: x + y + z)(y=2, x=1)"
   ]
  },
  {
   "cell_type": "code",
   "execution_count": null,
   "metadata": {},
   "outputs": [],
   "source": [
    "# Lambda con argumentos infinitos:\n",
    "\n",
    "(lambda *args: sum(args))(1,2,3)"
   ]
  },
  {
   "cell_type": "markdown",
   "metadata": {},
   "source": [
    "### Usos de Lambda"
   ]
  },
  {
   "cell_type": "markdown",
   "metadata": {},
   "source": [
    "### filter(función, serie)"
   ]
  },
  {
   "cell_type": "markdown",
   "metadata": {},
   "source": [
    "El método **filter()** se puede ocupar para poder filtrar los elementos de una lista, mediante el uso de una función. En el siguiente ejemplo filtraremos los números pares para solo obtener los nones:"
   ]
  },
  {
   "cell_type": "code",
   "execution_count": null,
   "metadata": {},
   "outputs": [],
   "source": [
    "lista_num = [5, 7, 22, 97, 54, 62, 77, 23, 73, 61] \n",
    "filter(lambda x: (x%2 != 0) , lista_num)"
   ]
  },
  {
   "cell_type": "markdown",
   "metadata": {},
   "source": [
    "Para que el filtrado funcione, hace falta almacenarlo en una nueva lista destino. Es por ello que crearemos un nuevo objeto lista instanciando directamente desde la clase **list()**:"
   ]
  },
  {
   "cell_type": "code",
   "execution_count": null,
   "metadata": {},
   "outputs": [],
   "source": [
    "lista_nones = list(filter(lambda x: (x%2 != 0) , lista_num)) \n",
    "lista_nones"
   ]
  },
  {
   "cell_type": "code",
   "execution_count": null,
   "metadata": {},
   "outputs": [],
   "source": [
    "lista_mayores_50 = list(filter(lambda x: (x>50) , lista_num)) \n",
    "lista_mayores_50"
   ]
  },
  {
   "cell_type": "code",
   "execution_count": null,
   "metadata": {},
   "outputs": [],
   "source": [
    "lista_filtrada = list(filter(lambda x:(x>10 and x<60 ) , lista_num)) \n",
    "lista_filtrada"
   ]
  },
  {
   "cell_type": "markdown",
   "metadata": {},
   "source": [
    "### map(función, serie)"
   ]
  },
  {
   "cell_type": "markdown",
   "metadata": {},
   "source": [
    "El método **map()** modifica los elementos de una serie, de acuerdo a la función que reciba como argumento. Finalmente genera un nuevo arreglo de datos con la modificación establecida:"
   ]
  },
  {
   "cell_type": "code",
   "execution_count": null,
   "metadata": {},
   "outputs": [],
   "source": [
    "lista_o = [5, 7, 22, 97, 54, 62, 77, 23, 73, 61] \n",
    "lista_final = list(map(lambda x: x*2 , lista_o)) \n",
    "lista_final"
   ]
  },
  {
   "cell_type": "code",
   "execution_count": null,
   "metadata": {},
   "outputs": [],
   "source": [
    "lista_filtrada_cuadrado = list(map(lambda x: x**2 , lista_filtrada)) \n",
    "lista_filtrada_cuadrado"
   ]
  },
  {
   "cell_type": "markdown",
   "metadata": {},
   "source": [
    "### reduce(función, serie)"
   ]
  },
  {
   "cell_type": "markdown",
   "metadata": {},
   "source": [
    "El método **reduce()** funciona de una forma muy similar a map. La diferencia radica en el como lo hace; la manera en la que reduce opera sobre los elementos de la serie es la siguiente:\n",
    "\n",
    "1. Realiza la operacion en los 2 primeros elementos de la secuencia.\n",
    "\n",
    "2. Almacena temporalmente el resultado.\n",
    "\n",
    "3. Realiza la operación con el resultado almacenado y con el siguiente elemento de la secuencia.\n",
    "\n",
    "4. Repite el proceso hasta que no quedan más elementos de la secuencia.\n",
    "\n",
    "El método reduce no se encuenta disponible directamente. Es necesario importarlo desde la libreria **functools**:"
   ]
  },
  {
   "cell_type": "code",
   "execution_count": null,
   "metadata": {},
   "outputs": [],
   "source": [
    "from functools import reduce\n",
    "\n",
    "secuencia = [1,2,3,4,5]\n",
    "factorial = reduce(lambda x, y: x*y, secuencia)\n",
    "factorial"
   ]
  },
  {
   "cell_type": "code",
   "execution_count": null,
   "metadata": {},
   "outputs": [],
   "source": [
    "secuencia = [ 1 , 3, 5, 6, 2, ]\n",
    "\n",
    "print (\"El elemento mayor en la serie es: \",end=\"\") \n",
    "print (reduce(lambda a,b : a if a > b else b,secuencia))"
   ]
  },
  {
   "cell_type": "markdown",
   "metadata": {},
   "source": [
    "##  Recursividad"
   ]
  },
  {
   "cell_type": "markdown",
   "metadata": {},
   "source": [
    "En diferentes materias a lo largo de la carrera, se ha presentado el caso de analizar una función en su tiempo cero, para posteriormente realizar un analisis en tiempos diferentes. Un ejemplo de esto sería la siguiente ecuación:"
   ]
  },
  {
   "cell_type": "markdown",
   "metadata": {},
   "source": [
    "$$f(0)=3$$\n",
    "\n",
    "$$f(t)=2f(t-1)+3$$"
   ]
  },
  {
   "cell_type": "markdown",
   "metadata": {},
   "source": [
    "Evaluando la función para un tiempo \n",
    "$$t=1$$ \n",
    "nos da como resultado 3. Si procedemos a resolver la función para \n",
    "$$f(1)$$\n",
    "resulta: "
   ]
  },
  {
   "cell_type": "markdown",
   "metadata": {},
   "source": [
    "$$f(1)=2f(0)+3$$\n",
    "$$f(1)=(2)(3)+3$$\n",
    "$$f(1)=9$$"
   ]
  },
  {
   "cell_type": "markdown",
   "metadata": {},
   "source": [
    "Para cada caso que quisieramos evaluar, necesitariamos conocer el caso anterior. Por ejemplo si quisieramos evaluar f(3), forzosamente necesitamos conocer f(2)."
   ]
  },
  {
   "cell_type": "markdown",
   "metadata": {},
   "source": [
    "Este proceso se le conoce como recursividad. En programación, aquellas funciones que en su algoritmo, hacen referencia sí misma son funciones recursivas. Una función de este tipo se utilizó para poder desarrollar el fractal de Koch en la unidad 3. En este tipo de casos, la función se aproxima a la solución mediante llamados a la misma función desde adentro. En el siguiente ejemplo, la función **cuenta_regresiva**, se va aproximando a su resultado, mediante llamados a sí misma, siempre y cuando el valor del argumento sea mayor a 1:"
   ]
  },
  {
   "cell_type": "code",
   "execution_count": null,
   "metadata": {},
   "outputs": [],
   "source": [
    "def cuenta_regresiva(numero):\n",
    "    numero -= 1\n",
    "    if numero > 0:\n",
    "        print (numero)\n",
    "        # Llamada recursiva:\n",
    "        cuenta_regresiva(numero)\n",
    "    else:\n",
    "        print (\"\\nCon el valor de\", numero, \"se há terminado la recursividad\\n\")\n",
    "    print (\"Fin de la función\", numero)\n",
    "\n",
    "cuenta_regresiva(5)"
   ]
  },
  {
   "cell_type": "markdown",
   "metadata": {},
   "source": [
    "Como se pudo observar en el ejemplo anterior, la recursividad surge como una opción dentro de una sentencia **If**. Esto es necesario ya que el If nos va a dar la salida de la función recursiva y así de este modo evitar que se ejecute de manera infinita:"
   ]
  },
  {
   "cell_type": "code",
   "execution_count": null,
   "metadata": {},
   "outputs": [],
   "source": [
    "def repetir():\n",
    "    repetir()\n",
    "\n",
    "#repetir()"
   ]
  },
  {
   "cell_type": "markdown",
   "metadata": {},
   "source": [
    "La función repetir es recursiva porque dentro de la función se llama a sí misma. Sin embargo, debido a que no contiene una salida de la misma, esta se bloqueará y generará una excepción: \"RecursionError: maximum recursion depth exceeded\"\n",
    "La razón de este error es que por cada llamada a la función, se reserva un espacio de memoria que solo puede ser liberado cuando la ejecución se termina. "
   ]
  },
  {
   "cell_type": "code",
   "execution_count": null,
   "metadata": {},
   "outputs": [],
   "source": [
    "# La siguiente función mandará resultados hasta que se bloquee debido a la insuficiencia en memoria:\n",
    "def imprimir(x):\n",
    "    print(x)\n",
    "    imprimir(x-1)\n",
    "\n",
    "#imprimir(5)  "
   ]
  },
  {
   "cell_type": "markdown",
   "metadata": {},
   "source": [
    "Por lo tanto para poder corregir el problema, es necesario proporcionar a la función una salida. Esta salida vendrá dada por un caso definido por el programador, en donde la recursividad termina:"
   ]
  },
  {
   "cell_type": "code",
   "execution_count": null,
   "metadata": {},
   "outputs": [],
   "source": [
    "def imprimir(x):\n",
    "    if x>0:\n",
    "        print(\"Entrando a un nivel de recursividad.\", end=\" \")\n",
    "        print(\"Valor almacenado del argumento:\",x)\n",
    "        imprimir(x-1)\n",
    "    else:\n",
    "        print(\"La recursividad ha terminado, la memoria será liberada.\",x)\n",
    "imprimir(5)"
   ]
  },
  {
   "cell_type": "code",
   "execution_count": null,
   "metadata": {},
   "outputs": [],
   "source": [
    "def factorial(numero):\n",
    "    if (numero<0):\n",
    "        return \"Error\"\n",
    "    elif(numero == 0 or numero == 1):\n",
    "        return 1\n",
    "    else:\n",
    "        return numero * factorial(numero-1)\n",
    "factorial(11)"
   ]
  },
  {
   "cell_type": "markdown",
   "metadata": {},
   "source": [
    "El siguiente ejemplo de recursividad, nos muestra como una función recursiva puede ser sumamente ineficiente si no se programa de forma adecuada."
   ]
  },
  {
   "cell_type": "code",
   "execution_count": null,
   "metadata": {},
   "outputs": [],
   "source": [
    "def fib_recur(n):\n",
    "    if n == 0 or n == 1:\n",
    "        return 1\n",
    "    else:\n",
    "        return fib_recur(n - 1) + fib_recur(n - 2)\n",
    "\n",
    "fib_recur(40)"
   ]
  },
  {
   "cell_type": "markdown",
   "metadata": {},
   "source": [
    "Como se mencionó en un principio, la recursividad se utilizó con anterioridad cuando se vio el módulo turtle. El siguiente ejemplo hace uso de la recursividad:"
   ]
  },
  {
   "cell_type": "code",
   "execution_count": null,
   "metadata": {},
   "outputs": [],
   "source": [
    "import turtle\n",
    "\n",
    "miTortuga = turtle.Turtle()\n",
    "miVentana = turtle.Screen()\n",
    "\n",
    "def dibujarEspiral(miTortuga, longitudLinea):\n",
    "    if longitudLinea > 0:\n",
    "        miTortuga.forward(longitudLinea)\n",
    "        miTortuga.right(90)\n",
    "        dibujarEspiral(miTortuga,longitudLinea-5)\n",
    "\n",
    "dibujarEspiral(miTortuga,100)\n",
    "\n",
    "miVentana.exitonclick()"
   ]
  },
  {
   "cell_type": "markdown",
   "metadata": {},
   "source": [
    "En conclusión, para que una función recursiva funcione, 3 cosas deben de cumplirse:\n",
    "\n",
    "1. La función debe contar con un caso base que sirva de salida.\n",
    "\n",
    "2. La recursividad debe buscar moverse hacia el caso base.\n",
    "\n",
    "3. La función debe llamarse a sí misma dentro de sus sentencias."
   ]
  },
  {
   "cell_type": "code",
   "execution_count": null,
   "metadata": {},
   "outputs": [],
   "source": [
    "def triangulo(n):\n",
    "    if n == 1:\n",
    "        x=[1]\n",
    "        print(x)\n",
    "    else:\n",
    "        triangulo(n-1)\n",
    "        x=[]\n",
    "        for i in range(n):\n",
    "            x.append(1)\n",
    "        print(x)"
   ]
  },
  {
   "cell_type": "code",
   "execution_count": null,
   "metadata": {
    "scrolled": true
   },
   "outputs": [],
   "source": [
    "triangulo(10)"
   ]
  },
  {
   "cell_type": "code",
   "execution_count": null,
   "metadata": {},
   "outputs": [],
   "source": [
    "def triangulo2(n):\n",
    "    if n == 1:\n",
    "        x=[1]\n",
    "        print(x)\n",
    "    else:\n",
    "        triangulo(n-1)\n",
    "        x=[]\n",
    "        for i in range(n):\n",
    "            x.append(n)\n",
    "        print(x)"
   ]
  },
  {
   "cell_type": "code",
   "execution_count": null,
   "metadata": {},
   "outputs": [],
   "source": [
    "triangulo2(4)"
   ]
  },
  {
   "cell_type": "code",
   "execution_count": null,
   "metadata": {},
   "outputs": [],
   "source": [
    "def triangulo3(n):\n",
    "    espacio=round(n/2)\n",
    "    if n == 1:\n",
    "        x=[1]\n",
    "        print(x)\n",
    "    else:\n",
    "        triangulo3(n-1)\n",
    "        x=[]\n",
    "        m=n\n",
    "        for i in range(1, 2*n):\n",
    "            if i<=n:\n",
    "                x.append(i)\n",
    "            else:\n",
    "                m=m-1\n",
    "                x.append(m)\n",
    "        print(x)"
   ]
  },
  {
   "cell_type": "code",
   "execution_count": null,
   "metadata": {},
   "outputs": [],
   "source": [
    "triangulo3(9)"
   ]
  },
  {
   "cell_type": "code",
   "execution_count": null,
   "metadata": {},
   "outputs": [],
   "source": [
    "def koch(t, order, size):\n",
    "    \"\"\"\n",
    "       Dibuja el fractal de koch de acuerdo al orden y el tamaño del lado.\n",
    "       Para ello se utiliza la recursividad.\n",
    "       La recursividad es resolver un problema utilizando pequeñas porciones\n",
    "       del problema original.\n",
    "    \"\"\"\n",
    "\n",
    "    if order == 0:          # Caso para un fractal de orden 0, una línea recta\n",
    "        t.forward(size)\n",
    "    else:\n",
    "        koch(t, order-1, size/3)   # Avanza 1/3 de la longitud del lado\n",
    "        t.left(60)\n",
    "        koch(t, order-1, size/3)\n",
    "        t.right(120)\n",
    "        koch(t, order-1, size/3)\n",
    "        t.left(60)\n",
    "        koch(t, order-1, size/3)"
   ]
  },
  {
   "cell_type": "code",
   "execution_count": null,
   "metadata": {},
   "outputs": [],
   "source": [
    "import turtle\n",
    "\n",
    "t = turtle.Pen()\n",
    "t.speed(0)\n",
    "\n",
    "\n",
    "t.reset()\n",
    "t.speed(0)\n",
    "t.up()\n",
    "t.goto(-250,150)\n",
    "t.down()\n",
    "for i in range(3):\n",
    "    koch(t,3,550)\n",
    "    t.right(120)"
   ]
  },
  {
   "cell_type": "code",
   "execution_count": null,
   "metadata": {},
   "outputs": [],
   "source": []
  }
 ],
 "metadata": {
  "kernelspec": {
   "display_name": "Python 3",
   "language": "python",
   "name": "python3"
  },
  "language_info": {
   "codemirror_mode": {
    "name": "ipython",
    "version": 3
   },
   "file_extension": ".py",
   "mimetype": "text/x-python",
   "name": "python",
   "nbconvert_exporter": "python",
   "pygments_lexer": "ipython3",
   "version": "3.7.3"
  }
 },
 "nbformat": 4,
 "nbformat_minor": 2
}
